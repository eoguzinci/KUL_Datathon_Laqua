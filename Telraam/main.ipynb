{
 "cells": [
  {
   "cell_type": "markdown",
   "metadata": {},
   "source": [
    "# Exploring Traffic Data\n",
    "\n",
    "The first thing to do is to check the features of the traffic dataset."
   ]
  },
  {
   "cell_type": "code",
   "execution_count": 1,
   "metadata": {},
   "outputs": [],
   "source": [
    "import requests\n",
    "import json\n",
    "import pandas as pd\n",
    "import numpy as np\n",
    "from IPython.core.display import display, HTML\n",
    "import matplotlib.pyplot as plt\n",
    "%matplotlib inline"
   ]
  },
  {
   "cell_type": "markdown",
   "metadata": {},
   "source": [
    "## Download json file\n",
    "\n",
    "`request` json file with an API.\n",
    "Download cameras, active segments."
   ]
  },
  {
   "cell_type": "code",
   "execution_count": 2,
   "metadata": {},
   "outputs": [
    {
     "name": "stdout",
     "output_type": "stream",
     "text": [
      "Nbr of cameras: 971\n",
      "['bikes_left', 'bikes_right', 'cars_left', 'cars_right', 'direction', 'last_data_package', 'mac', 'manual', 'pedestrians_left', 'pedestrians_right', 'segment_id', 'status', 'time_added', 'user_id']\n",
      "    bikes_left  bikes_right  cars_left  cars_right  direction  \\\n",
      "0        False         True       True        True       True   \n",
      "1         True         True       True        True      False   \n",
      "2         True         True       True        True      False   \n",
      "3         True         True       True        True      False   \n",
      "4         True         True       True        True      False   \n",
      "5         True         True       True        True       True   \n",
      "6         True        False       True        True       True   \n",
      "7         True         True       True        True      False   \n",
      "8         True         True       True        True       True   \n",
      "9        False         True       True        True       True   \n",
      "10        True         True       True        True       True   \n",
      "11       False         True       True        True      False   \n",
      "12        True         True       True        True      False   \n",
      "13        True         True       True        True       True   \n",
      "14        True         True       True        True      False   \n",
      "15        True         True       True        True       True   \n",
      "16        True         True       True        True       True   \n",
      "17        True         True       True        True      False   \n",
      "18        True         True       True        True      False   \n",
      "19        True         True       True        True      False   \n",
      "\n",
      "           last_data_package              mac  manual  pedestrians_left  \\\n",
      "0   2020-02-17T20:15:01.629Z  202481600960533   False             False   \n",
      "1   2020-02-17T20:17:09.773Z  202481587682671   False              True   \n",
      "2   2020-02-17T20:17:15.334Z  202481592758650   False              True   \n",
      "3   2020-02-17T20:13:20.854Z  202481601880250   False             False   \n",
      "4   2020-02-17T20:15:06.429Z  202481588403398   False              True   \n",
      "5   2020-02-17T20:15:15.864Z  202481593746471   False             False   \n",
      "6   2020-02-17T20:15:38.104Z  202481587218952   False              True   \n",
      "7   2020-02-17T20:16:10.245Z  202481590370069   False              True   \n",
      "8   2020-02-17T20:16:12.609Z  202481590283639   False             False   \n",
      "9   2020-02-17T20:17:00.985Z  202481601991611   False             False   \n",
      "10  2020-02-17T20:16:34.955Z  202481587310658   False             False   \n",
      "11  2020-02-17T20:17:22.915Z  202481598421115   False             False   \n",
      "12  2020-02-17T20:15:38.710Z  202481589217502   False              True   \n",
      "13  2020-02-17T20:17:02.527Z  202481593774378   False             False   \n",
      "14  2020-02-17T20:17:34.587Z  202481588641665   False              True   \n",
      "15  2020-02-17T20:16:12.609Z  202481590283639   False             False   \n",
      "16  2020-02-17T20:16:12.609Z  202481590283639   False             False   \n",
      "17  2020-02-17T20:16:17.331Z  202481599492958   False              True   \n",
      "18  2020-02-17T20:16:41.121Z  202481586560607   False              True   \n",
      "19  2020-02-17T20:14:59.921Z  202481600988678   False             False   \n",
      "\n",
      "    pedestrians_right  segment_id  status                time_added user_id  \n",
      "0                True      349353  active  2019-03-31T20:12:55.005Z     170  \n",
      "1                True      460252  active  2019-11-08T08:56:51.029Z    1057  \n",
      "2                True       38007  active  2019-11-23T14:28:35.765Z    1128  \n",
      "3                True      159218  active  2019-11-16T13:45:49.207Z    1155  \n",
      "4                True      108487  active  2019-11-14T16:02:42.031Z    1137  \n",
      "5                True  1003073349  active  2019-11-09T11:27:13.709Z    1079  \n",
      "6               False       65699  active  2019-05-05T20:25:54.903Z     324  \n",
      "7                True  9000000064  active  2020-02-17T17:19:03.050Z    1501  \n",
      "8               False      506176  active  2019-10-12T08:08:21.524Z     197  \n",
      "9                True       80491  active  2019-12-24T09:12:40.142Z    1284  \n",
      "10               True      155401  active  2019-11-24T14:23:21.719Z    1189  \n",
      "11               True  9000000017  active  2020-02-01T13:36:02.412Z    1455  \n",
      "12               True      311542  active  2019-10-29T17:33:48.343Z     909  \n",
      "13               True      424547  active  2019-05-04T09:57:30.153Z     300  \n",
      "14               True           1  active  2020-01-26T22:41:14.121Z    1334  \n",
      "15              False      351172  active  2019-04-06T05:19:09.710Z     197  \n",
      "16              False      347948  active  2019-04-07T20:57:01.080Z     197  \n",
      "17               True  9000000051  active  2020-02-13T13:43:10.559Z    1351  \n",
      "18               True      269530  active  2019-05-09T09:26:05.906Z     326  \n",
      "19              False       56053  active  2019-09-17T13:59:54.406Z     521  \n",
      "[9000000056 9000000057 9000000062 9000000064 9000000065 9000000067\n",
      " 9000000068 9000000069 9000000071]\n"
     ]
    }
   ],
   "source": [
    "from pandas.io.json import json_normalize\n",
    "# camera data\n",
    "cameras = requests.get(\"https://telraam-api.net/v0/cameras\")\n",
    "nbr_cameras = len(cameras.json()['cameras'][:])\n",
    "print('Nbr of cameras:',nbr_cameras)\n",
    "data_cameras = json_normalize(cameras.json()['cameras'])\n",
    "print(list(data_cameras.columns))\n",
    "print(data_cameras.head(20))\n",
    "# check unique segments\n",
    "data_cameras['segment_id'] = data_cameras['segment_id'].astype(np.uint64)\n",
    "uniqueSegments = data_cameras['segment_id'].unique()\n",
    "uniqueSegments.sort()\n",
    "print(uniqueSegments[-10:-1])"
   ]
  },
  {
   "cell_type": "code",
   "execution_count": 3,
   "metadata": {},
   "outputs": [
    {
     "name": "stdout",
     "output_type": "stream",
     "text": [
      "Nbr of segments: 818\n",
      "['geometry.coordinates', 'geometry.type', 'properties.bike', 'properties.bike_avg', 'properties.car', 'properties.car_avg', 'properties.car_speed_buckets', 'properties.car_speed_histogram', 'properties.id', 'properties.last_data_package', 'properties.lorry', 'properties.lorry_avg', 'properties.oneway', 'properties.pedestrian', 'properties.pedestrian_avg', 'properties.road_speed', 'properties.road_type', 'properties.speed', 'properties.typical_data', 'type']\n",
      "                                geometry.coordinates    geometry.type  \\\n",
      "0  [[[4.584397821453392, 51.12834082089698], [4.5...  MultiLineString   \n",
      "1  [[[4.672590795962118, 52.11733000219071], [4.6...  MultiLineString   \n",
      "2  [[[4.844638195731497, 50.327054302724086], [4....  MultiLineString   \n",
      "3  [[[3.9993072959552927, 50.45575610258816], [3....  MultiLineString   \n",
      "4  [[[15.448795992214585, 47.06951620560343], [15...  MultiLineString   \n",
      "5  [[[15.448795992214585, 47.06951620560343], [15...  MultiLineString   \n",
      "6  [[[15.451218492213773, 47.06949100560392], [15...  MultiLineString   \n",
      "7  [[[4.36989622163351, 50.869763476374665], [4.3...  MultiLineString   \n",
      "8  [[[4.375625153038255, 50.85991509263234], [4.3...  MultiLineString   \n",
      "9  [[[4.37389490432045, 50.867077449017046], [4.3...  MultiLineString   \n",
      "\n",
      "   properties.bike  properties.bike_avg  properties.car  properties.car_avg  \\\n",
      "0              NaN                    0             NaN                   0   \n",
      "1             67.0                   49          1342.0                 156   \n",
      "2              NaN                    0             NaN                   0   \n",
      "3              NaN                    0             NaN                   0   \n",
      "4             77.0                   19           133.0                   7   \n",
      "5             77.0                   19           133.0                   7   \n",
      "6            669.0                  120          3775.0                 360   \n",
      "7              NaN                    0             NaN                   0   \n",
      "8            466.0                   37          4438.0                 275   \n",
      "9             85.0                    1           347.0                  10   \n",
      "\n",
      "  properties.car_speed_buckets              properties.car_speed_histogram  \\\n",
      "0                         None                                        None   \n",
      "1     [0, 1, 2, 3, 4, 5, 6, 7]          [7, 4, 11, 57, 325, 496, 319, 128]   \n",
      "2                         None                                        None   \n",
      "3                         None                                        None   \n",
      "4                 [0, 1, 2, 3]                             [39, 65, 24, 6]   \n",
      "5                 [0, 1, 2, 3]                             [39, 65, 24, 6]   \n",
      "6     [0, 1, 2, 3, 4, 5, 6, 7]        [871, 2313, 439, 28, 14, 14, 14, 84]   \n",
      "7                         None                                        None   \n",
      "8     [0, 1, 2, 3, 4, 5, 6, 7]  [232, 563, 1448, 1182, 450, 178, 147, 242]   \n",
      "9     [0, 1, 2, 3, 4, 5, 6, 7]             [165, 51, 51, 4, 18, 4, 15, 43]   \n",
      "\n",
      "   properties.id properties.last_data_package  properties.lorry  \\\n",
      "0          84238                         None               NaN   \n",
      "1     9000000005                         None             234.0   \n",
      "2     3000136655                         None               NaN   \n",
      "3     3000129228                         None               NaN   \n",
      "4     2000026769                         None              21.0   \n",
      "5     2000026769                         None              21.0   \n",
      "6     2000026746                         None             279.0   \n",
      "7     1003073660                         None               NaN   \n",
      "8     1011117339                         None            2210.0   \n",
      "9     1003073538                         None              79.0   \n",
      "\n",
      "   properties.lorry_avg  properties.oneway  properties.pedestrian  \\\n",
      "0                     0              False                    NaN   \n",
      "1                    70              False                   13.0   \n",
      "2                     0              False                    NaN   \n",
      "3                     0              False                    NaN   \n",
      "4                     0              False                   36.0   \n",
      "5                     0              False                   36.0   \n",
      "6                     0              False                 1295.0   \n",
      "7                     0              False                    NaN   \n",
      "8                   104              False                   51.0   \n",
      "9                     0              False                   97.0   \n",
      "\n",
      "   properties.pedestrian_avg properties.road_speed properties.road_type  \\\n",
      "0                          0                                              \n",
      "1                          8                                              \n",
      "2                          0                                              \n",
      "3                          0                                              \n",
      "4                         10                                              \n",
      "5                         10                                              \n",
      "6                          0                                              \n",
      "7                          0                                              \n",
      "8                          4                                              \n",
      "9                          7                                              \n",
      "\n",
      "   properties.speed                            properties.typical_data  \\\n",
      "0                50                                               None   \n",
      "1                50  [{'hour': '05:00:00', 'pedestrian': None, 'bik...   \n",
      "2                50                                               None   \n",
      "3                50                                               None   \n",
      "4                50  [{'hour': '05:00:00', 'pedestrian': None, 'bik...   \n",
      "5                50  [{'hour': '05:00:00', 'pedestrian': None, 'bik...   \n",
      "6                50  [{'hour': '05:00:00', 'pedestrian': None, 'bik...   \n",
      "7                50                                               None   \n",
      "8                50  [{'hour': '05:00:00', 'pedestrian': None, 'bik...   \n",
      "9                50  [{'hour': '05:00:00', 'pedestrian': None, 'bik...   \n",
      "\n",
      "      type  \n",
      "0  Feature  \n",
      "1  Feature  \n",
      "2  Feature  \n",
      "3  Feature  \n",
      "4  Feature  \n",
      "5  Feature  \n",
      "6  Feature  \n",
      "7  Feature  \n",
      "8  Feature  \n",
      "9  Feature  \n",
      "[{'hour': '05:00:00', 'pedestrian': None, 'bike': None, 'car': None, 'lorry': None}, {'hour': '06:00:00', 'pedestrian': None, 'bike': None, 'car': None, 'lorry': None}, {'hour': '07:00:00', 'pedestrian': 0, 'bike': 0, 'car': 49, 'lorry': 245}, {'hour': '08:00:00', 'pedestrian': 4, 'bike': 20, 'car': 100, 'lorry': 0}, {'hour': '09:00:00', 'pedestrian': 3, 'bike': 13, 'car': 94, 'lorry': 0}, {'hour': '10:00:00', 'pedestrian': 2, 'bike': 9, 'car': 99, 'lorry': 0}, {'hour': '11:00:00', 'pedestrian': 1, 'bike': 12, 'car': 115, 'lorry': 0}, {'hour': '12:00:00', 'pedestrian': 6, 'bike': 14, 'car': 111, 'lorry': 0}, {'hour': '13:00:00', 'pedestrian': 5, 'bike': 17, 'car': 119, 'lorry': 0}, {'hour': '14:00:00', 'pedestrian': 2, 'bike': 18, 'car': 117, 'lorry': 0}, {'hour': '15:00:00', 'pedestrian': 2, 'bike': 19, 'car': 127, 'lorry': 0}, {'hour': '16:00:00', 'pedestrian': 1, 'bike': 19, 'car': 111, 'lorry': 0}, {'hour': '17:00:00', 'pedestrian': 4, 'bike': 24, 'car': 167, 'lorry': 0}, {'hour': '18:00:00', 'pedestrian': None, 'bike': None, 'car': None, 'lorry': None}, {'hour': '19:00:00', 'pedestrian': None, 'bike': None, 'car': None, 'lorry': None}, {'hour': '20:00:00', 'pedestrian': None, 'bike': None, 'car': None, 'lorry': None}, {'hour': '21:00:00', 'pedestrian': None, 'bike': None, 'car': None, 'lorry': None}, {'hour': '22:00:00', 'pedestrian': None, 'bike': None, 'car': None, 'lorry': None}]\n",
      "Number of active segments:818\n",
      "Number of unique active segments:765\n"
     ]
    }
   ],
   "source": [
    "# segments data\n",
    "segments = requests.get(\"https://telraam-api.net/v0/segments/active\")\n",
    "nbr_segments = len(segments.json()['features'][:])\n",
    "print('Nbr of segments:',nbr_segments)\n",
    "data_segments = json_normalize(segments.json()['features'])\n",
    "print(list(data_segments.columns))\n",
    "print(data_segments.head(10))\n",
    "print(data_segments['properties.typical_data'][1])\n",
    "# sort segment data wrt IDs\n",
    "data_segments = data_segments.sort_values(['properties.id'], ascending=[True])\n",
    "activeSegmentIDs = data_segments['properties.id'].values\n",
    "uniqueActiveSegmentsIDs = data_segments['properties.id'].unique()\n",
    "print('Number of active segments:'+str(len(activeSegmentIDs)))\n",
    "print('Number of unique active segments:'+str(len(uniqueActiveSegmentsIDs)))"
   ]
  },
  {
   "cell_type": "markdown",
   "metadata": {},
   "source": [
    "## Clean inactive segment from camera datasets\n",
    "\n",
    "It shows that there are only 764 unique segments in the data. The duplicate segments might vary in terms of direction. It is still a question to be answered."
   ]
  },
  {
   "cell_type": "code",
   "execution_count": 4,
   "metadata": {},
   "outputs": [
    {
     "name": "stdout",
     "output_type": "stream",
     "text": [
      "Inactive segments = 83\n",
      "Common segments = 765\n",
      "If active == unique segments:\n",
      "\tFalse\n"
     ]
    }
   ],
   "source": [
    "inactiveSegmentIDs = list(set(uniqueSegments) ^ set(activeSegmentIDs))\n",
    "print('Inactive segments = '+ str(len(inactiveSegmentIDs)))\n",
    "commonSegmentIDs = set(uniqueSegments).intersection(activeSegmentIDs)\n",
    "print('Common segments = ' + str(len(commonSegmentIDs)))\n",
    "print('If active == unique segments:')\n",
    "if len(inactiveSegmentIDs)+len(activeSegmentIDs) == len(uniqueSegments):\n",
    "    print('\\t' + str(True))\n",
    "else:\n",
    "    print('\\t' + str(False))"
   ]
  },
  {
   "cell_type": "markdown",
   "metadata": {},
   "source": [
    "## Timestamps\n",
    "\n",
    "Date and hour registration. To check if they need sorting again."
   ]
  },
  {
   "cell_type": "code",
   "execution_count": 5,
   "metadata": {},
   "outputs": [
    {
     "name": "stdout",
     "output_type": "stream",
     "text": [
      "     bikes_left  bikes_right  cars_left  cars_right  direction  \\\n",
      "20         True         True       True        True       True   \n",
      "14         True         True       True        True      False   \n",
      "726        True         True       True        True      False   \n",
      "724        True         True       True        True      False   \n",
      "861        True         True       True        True       True   \n",
      "673        True         True       True        True      False   \n",
      "471        True         True       True        True       True   \n",
      "582        True         True       True        True      False   \n",
      "855        True         True       True        True      False   \n",
      "454        True         True       True        True       True   \n",
      "\n",
      "            last_data_package              mac  manual  pedestrians_left  \\\n",
      "20   2020-02-17T20:17:34.587Z  202481588641665   False              True   \n",
      "14   2020-02-17T20:17:34.587Z  202481588641665   False              True   \n",
      "726  2020-02-17T20:16:53.574Z  202481587810193   False              True   \n",
      "724  2020-02-17T20:16:53.574Z  202481587810193   False              True   \n",
      "861  2020-02-17T20:16:41.184Z  202481600366143   False             False   \n",
      "673  2020-02-17T20:15:31.705Z  228935803920782   False             False   \n",
      "471  2020-02-17T20:13:03.376Z  202481595690525   False             False   \n",
      "582  2020-02-17T20:16:55.027Z  202481596277105   False             False   \n",
      "855  2020-02-17T20:15:55.008Z  202481588298779   False             False   \n",
      "454  2020-02-17T20:14:48.191Z  202481593529462   False              True   \n",
      "\n",
      "     pedestrians_right  segment_id  status                time_added user_id  \n",
      "20                True           0  active  2020-01-05T12:53:24.719Z    1334  \n",
      "14                True           1  active  2020-01-26T22:41:14.121Z    1334  \n",
      "726               True       24948  active  2020-02-11T17:37:09.195Z    1439  \n",
      "724               True       25633  active  2020-02-10T14:06:01.321Z    1439  \n",
      "861               True       26358  active  2019-11-23T10:38:34.917Z    1064  \n",
      "673               True       26380  active  2019-12-22T22:53:02.900Z    1164  \n",
      "471              False       26408  active  2019-11-30T15:32:56.210Z    1170  \n",
      "582              False       26940  active  2019-12-13T11:20:42.410Z    1258  \n",
      "855               True       27009  active  2019-12-20T08:51:38.971Z    1220  \n",
      "454               True       27263  active  2020-01-28T18:38:33.941Z    1175  \n"
     ]
    }
   ],
   "source": [
    "# Camera data timestamps\n",
    "dateveri = data_cameras['time_added'].values\n",
    "hours = pd.to_datetime(np.squeeze(dateveri)).hour\n",
    "dates = pd.to_datetime(np.squeeze(dateveri)).date\n",
    "# camera data needs sorting again\n",
    "data_cameras = data_cameras.sort_values(['status','segment_id','time_added'], ascending=[True, True, True])\n",
    "print(data_cameras.head(10))\n"
   ]
  },
  {
   "cell_type": "code",
   "execution_count": 6,
   "metadata": {},
   "outputs": [
    {
     "name": "stdout",
     "output_type": "stream",
     "text": [
      "[{'hour': '05:00:00', 'pedestrian': None, 'bike': None, 'car': None, 'lorry': None}, {'hour': '06:00:00', 'pedestrian': None, 'bike': None, 'car': None, 'lorry': None}, {'hour': '07:00:00', 'pedestrian': None, 'bike': None, 'car': None, 'lorry': None}, {'hour': '08:00:00', 'pedestrian': 0, 'bike': 4, 'car': 105, 'lorry': 0}, {'hour': '09:00:00', 'pedestrian': 1, 'bike': 33, 'car': 141, 'lorry': 2}, {'hour': '10:00:00', 'pedestrian': 1, 'bike': 23, 'car': 202, 'lorry': 6}, {'hour': '11:00:00', 'pedestrian': 1, 'bike': 3, 'car': 180, 'lorry': 6}, {'hour': '12:00:00', 'pedestrian': 1, 'bike': 19, 'car': 192, 'lorry': 4}, {'hour': '13:00:00', 'pedestrian': 1, 'bike': 10, 'car': 203, 'lorry': 5}, {'hour': '14:00:00', 'pedestrian': 0, 'bike': 11, 'car': 211, 'lorry': 4}, {'hour': '15:00:00', 'pedestrian': 0, 'bike': 0, 'car': 141, 'lorry': 0}, {'hour': '16:00:00', 'pedestrian': 2, 'bike': 15, 'car': 330, 'lorry': 0}, {'hour': '17:00:00', 'pedestrian': None, 'bike': None, 'car': None, 'lorry': None}, {'hour': '18:00:00', 'pedestrian': None, 'bike': None, 'car': None, 'lorry': None}, {'hour': '19:00:00', 'pedestrian': None, 'bike': None, 'car': None, 'lorry': None}, {'hour': '20:00:00', 'pedestrian': None, 'bike': None, 'car': None, 'lorry': None}, {'hour': '21:00:00', 'pedestrian': None, 'bike': None, 'car': None, 'lorry': None}, {'hour': '22:00:00', 'pedestrian': None, 'bike': None, 'car': None, 'lorry': None}]\n"
     ]
    }
   ],
   "source": [
    "# Segment data timestamps\n",
    "dateveri = data_segments['properties.typical_data'].values\n",
    "print(dateveri[0])\n",
    "\n",
    "# hours = pd.to_datetime(np.squeeze(dateveri)).hour\n",
    "# dates = pd.to_datetime(np.squeeze(dateveri)).date\n",
    "# camera data needs sorting again"
   ]
  },
  {
   "cell_type": "markdown",
   "metadata": {},
   "source": [
    "## Position of Segments\n",
    "\n",
    "We only take the middle position of the segments."
   ]
  },
  {
   "cell_type": "code",
   "execution_count": 9,
   "metadata": {},
   "outputs": [
    {
     "name": "stdout",
     "output_type": "stream",
     "text": [
      "[[ 5.16331069 50.8910606 ]\n",
      " [ 5.11286407 50.89409181]]\n"
     ]
    }
   ],
   "source": [
    "segmentCoordinates = np.zeros((len(activeSegmentIDs),2))\n",
    "# Read coordinates from each segment\n",
    "for i in range(len(activeSegmentIDs)):\n",
    "    urlSegment = 'https://telraam-api.net/v0/segments/id/'+str(activeSegmentIDs[i])\n",
    "    active = requests.get(urlSegment)\n",
    "    co = np.array(active.json()['features'][0]['geometry']['coordinates'][0]) # coordinates of the cameras\n",
    "    segmentCoordinates[i,:] = np.mean(co, axis=0)\n",
    "    \n",
    "print(segmentCoordinates[0:2,:])"
   ]
  },
  {
   "cell_type": "code",
   "execution_count": 10,
   "metadata": {},
   "outputs": [
    {
     "name": "stdout",
     "output_type": "stream",
     "text": [
      "   SegmentID       LON        LAT\n",
      "0    20499.0  5.163311  50.891061\n",
      "1    20580.0  5.112864  50.894092\n",
      "2    24948.0  4.476654  51.302504\n",
      "3    26137.0  4.487590  51.299626\n",
      "4    26358.0  3.728146  51.033024\n",
      "5    26380.0  3.724681  51.032293\n",
      "6    26408.0  3.706345  51.035715\n",
      "7    26683.0  3.694862  51.035912\n",
      "8    26940.0  3.755602  51.045376\n",
      "9    27009.0  3.758483  51.040428\n"
     ]
    }
   ],
   "source": [
    "# Restrict them to Leuven coordinates\n",
    "activeSegmentIDs = np.expand_dims(np.array(activeSegmentIDs),axis=-1)\n",
    "segmentCoordinates = np.concatenate((activeSegmentIDs,segmentCoordinates),axis=1)\n",
    "segmentCoordinates = pd.DataFrame(data=segmentCoordinates, columns=['SegmentID', 'LON', 'LAT'])\n",
    "print(segmentCoordinates.head(10))"
   ]
  },
  {
   "cell_type": "code",
   "execution_count": 11,
   "metadata": {},
   "outputs": [
    {
     "name": "stdout",
     "output_type": "stream",
     "text": [
      "   SegmentID       LON        LAT\n",
      "0      20499  5.163311  50.891061\n",
      "1      20580  5.112864  50.894092\n",
      "2      24948  4.476654  51.302504\n",
      "3      26137  4.487590  51.299626\n",
      "4      26358  3.728146  51.033024\n",
      "5      26380  3.724681  51.032293\n",
      "6      26408  3.706345  51.035715\n",
      "7      26683  3.694862  51.035912\n",
      "8      26940  3.755602  51.045376\n",
      "9      27009  3.758483  51.040428\n"
     ]
    }
   ],
   "source": [
    "segmentCoordinates = segmentCoordinates.astype({'SegmentID': 'uint64'})\n",
    "print(segmentCoordinates.head(10))"
   ]
  },
  {
   "cell_type": "code",
   "execution_count": 12,
   "metadata": {},
   "outputs": [
    {
     "name": "stdout",
     "output_type": "stream",
     "text": [
      "(428, 3)\n"
     ]
    }
   ],
   "source": [
    "# Leuven Coordinates\n",
    "LeuvenCoord = np.array([[4.654269, 4.789127],[50.846792,50.937804]])\n",
    "LeuvenSegmentCoordinates = segmentCoordinates[segmentCoordinates['LON']>=LeuvenCoord[0,0]]\n",
    "LeuvenSegmentCoordinates = segmentCoordinates[segmentCoordinates['LON']<=LeuvenCoord[0,1]]\n",
    "LeuvenSegmentCoordinates = segmentCoordinates[segmentCoordinates['LAT']>=LeuvenCoord[1,0]]\n",
    "LeuvenSegmentCoordinates = segmentCoordinates[segmentCoordinates['LAT']>=LeuvenCoord[1,1]]\n",
    "print(LeuvenSegmentCoordinates.shape)"
   ]
  },
  {
   "cell_type": "markdown",
   "metadata": {},
   "source": [
    "## Finding most reliable segment"
   ]
  },
  {
   "cell_type": "code",
   "execution_count": 15,
   "metadata": {},
   "outputs": [],
   "source": [
    "# read segment 1-by-1\n",
    "LeuvenSegmentIDs = LeuvenSegmentCoordinates['SegmentID'].values\n",
    "counterSegments = np.zeros_like(LeuvenSegmentIDs)\n",
    "# url to read a single segment \n",
    "url_base = 'https://telraam-api.net/v0/cameras/segment/'\n",
    "# number of cameras per segment\n",
    "for  i  in np.arange(0,len(LeuvenSegmentIDs)):\n",
    "    url = url_base + str(LeuvenSegmentIDs[i])\n",
    "    telraam_segment = requests.get(url)\n",
    "    c = int(len(telraam_segment.json()['camera']))\n",
    "    counterSegments[i] = c"
   ]
  },
  {
   "cell_type": "code",
   "execution_count": 17,
   "metadata": {},
   "outputs": [
    {
     "name": "stdout",
     "output_type": "stream",
     "text": [
      "[2 1 1 1 1 1 1 1 1 1]\n"
     ]
    }
   ],
   "source": [
    "start = 0; stop = 10;\n",
    "print(counterSegments[start:stop])\n",
    "# sort them with respect to the number of cameras\n",
    "countdf = pd.DataFrame(counterSegments,index=LeuvenSegmentIDs,columns=['Nbr'])\n",
    "countdf.sort_values(by='Nbr',inplace=True,ascending=False)\n",
    "relSegID = countdf.index[0]"
   ]
  },
  {
   "cell_type": "code",
   "execution_count": 19,
   "metadata": {},
   "outputs": [
    {
     "name": "stdout",
     "output_type": "stream",
     "text": [
      "122431\n"
     ]
    }
   ],
   "source": [
    "countdf.head(4)\n",
    "print(relSegID)"
   ]
  },
  {
   "cell_type": "code",
   "execution_count": null,
   "metadata": {},
   "outputs": [],
   "source": [
    "LeuvenSegmentCoordinates"
   ]
  }
 ],
 "metadata": {
  "file_extension": ".py",
  "kernelspec": {
   "display_name": "Python 3",
   "language": "python",
   "name": "python3"
  },
  "language_info": {
   "codemirror_mode": {
    "name": "ipython",
    "version": 3
   },
   "file_extension": ".py",
   "mimetype": "text/x-python",
   "name": "python",
   "nbconvert_exporter": "python",
   "pygments_lexer": "ipython3",
   "version": "3.7.3"
  },
  "mimetype": "text/x-python",
  "name": "python",
  "npconvert_exporter": "python",
  "pygments_lexer": "ipython3",
  "version": 3
 },
 "nbformat": 4,
 "nbformat_minor": 2
}
