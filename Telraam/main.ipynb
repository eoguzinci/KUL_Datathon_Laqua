{
 "cells": [
  {
   "cell_type": "markdown",
   "metadata": {},
   "source": [
    "# Exploring Traffic Data\n",
    "\n",
    "The first thing to do is to check the features of the traffic dataset."
   ]
  },
  {
   "cell_type": "code",
   "execution_count": 1,
   "metadata": {},
   "outputs": [],
   "source": [
    "import requests\n",
    "import json\n",
    "import pandas as pd\n",
    "import numpy as np\n",
    "from IPython.core.display import display, HTML\n",
    "import matplotlib.pyplot as plt\n",
    "%matplotlib inline"
   ]
  },
  {
   "cell_type": "markdown",
   "metadata": {},
   "source": [
    "## Download json file\n",
    "\n",
    "`request` json file with an API.\n",
    "Download cameras, active segments."
   ]
  },
  {
   "cell_type": "code",
   "execution_count": 2,
   "metadata": {},
   "outputs": [
    {
     "name": "stdout",
     "output_type": "stream",
     "text": [
      "Nbr of cameras: 972\n",
      "['bikes_left', 'bikes_right', 'cars_left', 'cars_right', 'direction', 'last_data_package', 'mac', 'manual', 'pedestrians_left', 'pedestrians_right', 'segment_id', 'status', 'time_added', 'user_id']\n",
      "    bikes_left  bikes_right  cars_left  cars_right  direction  \\\n",
      "0         True         True       True        True       True   \n",
      "1        False         True       True        True      False   \n",
      "2         True         True       True        True      False   \n",
      "3         True         True       True        True      False   \n",
      "4         True         True       True        True      False   \n",
      "5         True         True       True        True       True   \n",
      "6         True         True       True        True      False   \n",
      "7         True         True       True        True       True   \n",
      "8         True         True       True        True       True   \n",
      "9         True         True       True        True       True   \n",
      "10        True         True       True        True      False   \n",
      "11       False         True       True        True      False   \n",
      "12        True         True       True        True      False   \n",
      "13        True         True       True        True       True   \n",
      "14        True         True       True        True      False   \n",
      "15        True         True       True        True      False   \n",
      "16        True         True       True        True      False   \n",
      "17        True         True       True        True      False   \n",
      "18       False         True       True        True      False   \n",
      "19        True         True       True        True       True   \n",
      "\n",
      "           last_data_package              mac  manual  pedestrians_left  \\\n",
      "0   2020-02-18T13:15:32.302Z  202481586378694   False             False   \n",
      "1   2020-02-18T13:15:36.548Z  202481587485798   False             False   \n",
      "2   2020-02-18T13:15:37.100Z  202481592771284   False              True   \n",
      "3   2020-02-18T13:15:12.775Z  202481586449890   False              True   \n",
      "4   2020-02-18T13:15:12.775Z  202481586449890   False              True   \n",
      "5   2020-02-18T13:15:15.583Z  202481588641665   False              True   \n",
      "6   2020-02-18T13:14:18.546Z  202481601949429   False             False   \n",
      "7   2020-02-18T13:15:22.113Z  202481600988678   False              True   \n",
      "8   2020-02-18T13:15:22.745Z  202481601781048   False             False   \n",
      "9   2020-02-18T13:15:22.113Z  202481600988678   False             False   \n",
      "10  2020-02-18T13:15:22.113Z  202481600988678   False             False   \n",
      "11  2019-05-18T14:50:54.916Z  202481586093108   False             False   \n",
      "12  2019-10-24T01:13:50.129Z  202481586338948   False             False   \n",
      "13                      None  202481590756548   False              True   \n",
      "14  2020-01-08T06:08:26.595Z  202481591423311   False              True   \n",
      "15  2019-12-06T00:52:52.965Z  202481589158963   False             False   \n",
      "16                      None           307923   False              True   \n",
      "17  2019-11-20T08:15:00.726Z  202481593513471   False             False   \n",
      "18  2019-11-20T13:25:50.667Z  202481588468099   False             False   \n",
      "19  2019-08-15T00:56:44.590Z  202481596116523   False             False   \n",
      "\n",
      "    pedestrians_right  segment_id      status                time_added  \\\n",
      "0                True       65819      active  2019-05-05T07:52:01.919Z   \n",
      "1                True      286037      active  2019-11-22T14:54:55.077Z   \n",
      "2                True      279199      active  2019-05-05T18:27:19.387Z   \n",
      "3                True      122431      active  2019-12-23T23:47:23.054Z   \n",
      "4                True      122547      active  2019-12-24T15:34:49.012Z   \n",
      "5                True           0      active  2020-01-05T12:53:24.719Z   \n",
      "6               False  9000000032      active  2020-02-04T19:49:56.600Z   \n",
      "7               False       56053      active  2019-10-02T14:21:04.082Z   \n",
      "8                True      349547      active  2019-10-14T10:35:53.145Z   \n",
      "9               False       54772      active  2019-09-07T10:29:14.137Z   \n",
      "10              False       56053      active  2019-09-17T13:59:54.406Z   \n",
      "11               True      105094  non_active  2019-05-05T16:24:01.082Z   \n",
      "12               True      166522  non_active  2019-05-26T13:39:08.710Z   \n",
      "13              False      463564  non_active  2019-10-29T14:22:19.853Z   \n",
      "14               True      276662  non_active  2019-10-29T11:59:17.658Z   \n",
      "15               True      159002  non_active  2019-11-16T08:08:37.486Z   \n",
      "16               True      377443  non_active  2020-01-13T19:21:21.955Z   \n",
      "17              False      166676  non_active  2019-05-07T11:58:27.879Z   \n",
      "18               True      425678  non_active  2019-10-22T00:16:07.936Z   \n",
      "19               True      351289  non_active  2019-03-27T07:36:57.845Z   \n",
      "\n",
      "   user_id  \n",
      "0      309  \n",
      "1     1181  \n",
      "2      323  \n",
      "3     1309  \n",
      "4     1311  \n",
      "5     1334  \n",
      "6     1470  \n",
      "7      575  \n",
      "8      837  \n",
      "9      521  \n",
      "10     521  \n",
      "11     313  \n",
      "12     390  \n",
      "13    1023  \n",
      "14    1019  \n",
      "15    1152  \n",
      "16    1366  \n",
      "17     342  \n",
      "18     794  \n",
      "19     110  \n",
      "[9000000056 9000000057 9000000062 9000000064 9000000065 9000000067\n",
      " 9000000068 9000000069 9000000071]\n"
     ]
    }
   ],
   "source": [
    "from pandas.io.json import json_normalize\n",
    "# camera data\n",
    "cameras = requests.get(\"https://telraam-api.net/v0/cameras\")\n",
    "nbr_cameras = len(cameras.json()['cameras'][:])\n",
    "print('Nbr of cameras:',nbr_cameras)\n",
    "data_cameras = json_normalize(cameras.json()['cameras'])\n",
    "print(list(data_cameras.columns))\n",
    "print(data_cameras.head(20))\n",
    "# check unique segments\n",
    "data_cameras['segment_id'] = data_cameras['segment_id'].astype(np.uint64)\n",
    "uniqueSegments = data_cameras['segment_id'].unique()\n",
    "uniqueSegments.sort()\n",
    "print(uniqueSegments[-10:-1])"
   ]
  },
  {
   "cell_type": "code",
   "execution_count": 3,
   "metadata": {},
   "outputs": [
    {
     "name": "stdout",
     "output_type": "stream",
     "text": [
      "Nbr of segments: 819\n",
      "['geometry.coordinates', 'geometry.type', 'properties.bike', 'properties.bike_avg', 'properties.car', 'properties.car_avg', 'properties.car_speed_buckets', 'properties.car_speed_histogram', 'properties.id', 'properties.last_data_package', 'properties.lorry', 'properties.lorry_avg', 'properties.oneway', 'properties.pedestrian', 'properties.pedestrian_avg', 'properties.road_speed', 'properties.road_type', 'properties.speed', 'properties.typical_data', 'type']\n",
      "                                geometry.coordinates    geometry.type  \\\n",
      "0  [[[4.425223122067917, 51.18986728065184], [4.4...  MultiLineString   \n",
      "1  [[[4.672590795962118, 52.11733000219071], [4.6...  MultiLineString   \n",
      "2  [[[4.844638195731497, 50.327054302724086], [4....  MultiLineString   \n",
      "3  [[[3.9993072959552927, 50.45575610258816], [3....  MultiLineString   \n",
      "4  [[[4.743170183851583, 50.87743623935266], [4.7...  MultiLineString   \n",
      "5  [[[4.728484584779446, 50.88400248774743], [4.7...  MultiLineString   \n",
      "6  [[[4.7320634008155045, 50.875610072732584], [4...  MultiLineString   \n",
      "7  [[[4.733195437721935, 50.88178912439202], [4.7...  MultiLineString   \n",
      "8  [[[15.448795992214585, 47.06951620560343], [15...  MultiLineString   \n",
      "9  [[[15.448795992214585, 47.06951620560343], [15...  MultiLineString   \n",
      "\n",
      "   properties.bike  properties.bike_avg  properties.car  properties.car_avg  \\\n",
      "0              NaN                    0             NaN                   0   \n",
      "1            498.0                   29          1924.0                  41   \n",
      "2              NaN                    0             NaN                   0   \n",
      "3              NaN                    0             NaN                   0   \n",
      "4              NaN                    0             NaN                   0   \n",
      "5              NaN                    0             NaN                   0   \n",
      "6              NaN                    0             NaN                   0   \n",
      "7              NaN                    0             NaN                   0   \n",
      "8            211.0                   10           257.0                   5   \n",
      "9            211.0                   10           257.0                   5   \n",
      "\n",
      "  properties.car_speed_buckets          properties.car_speed_histogram  \\\n",
      "0                         None                                    None   \n",
      "1     [0, 1, 2, 3, 4, 5, 6, 7]  [36, 64, 183, 304, 445, 486, 269, 141]   \n",
      "2                         None                                    None   \n",
      "3                         None                                    None   \n",
      "4                         None                                    None   \n",
      "5                         None                                    None   \n",
      "6                         None                                    None   \n",
      "7                         None                                    None   \n",
      "8              [0, 1, 2, 3, 5]                      [86, 92, 74, 4, 4]   \n",
      "9              [0, 1, 2, 3, 5]                      [86, 92, 74, 4, 4]   \n",
      "\n",
      "   properties.id properties.last_data_package  properties.lorry  \\\n",
      "0         419715                         None               NaN   \n",
      "1     9000000005                         None            2701.0   \n",
      "2     3000136655                         None               NaN   \n",
      "3     3000129228                         None               NaN   \n",
      "4         349759                         None               NaN   \n",
      "5         349692                         None               NaN   \n",
      "6         349616                         None               NaN   \n",
      "7         349811                         None               NaN   \n",
      "8     2000026769                         None              49.0   \n",
      "9     2000026769                         None              49.0   \n",
      "\n",
      "   properties.lorry_avg  properties.oneway  properties.pedestrian  \\\n",
      "0                     0              False                    NaN   \n",
      "1                   246              False                  125.0   \n",
      "2                     0              False                    NaN   \n",
      "3                     0              False                    NaN   \n",
      "4                     0              False                    NaN   \n",
      "5                     0              False                    NaN   \n",
      "6                     0              False                    NaN   \n",
      "7                     0              False                    NaN   \n",
      "8                     0              False                  107.0   \n",
      "9                     0              False                  107.0   \n",
      "\n",
      "   properties.pedestrian_avg properties.road_speed properties.road_type  \\\n",
      "0                          0                                              \n",
      "1                          2                                              \n",
      "2                          0                                              \n",
      "3                          0                                              \n",
      "4                          0                                              \n",
      "5                          0                                              \n",
      "6                          0                                              \n",
      "7                          0                                              \n",
      "8                          7                                              \n",
      "9                          7                                              \n",
      "\n",
      "   properties.speed                            properties.typical_data  \\\n",
      "0                50                                               None   \n",
      "1                50  [{'hour': '05:00:00', 'pedestrian': None, 'bik...   \n",
      "2                50                                               None   \n",
      "3                50                                               None   \n",
      "4                50                                               None   \n",
      "5                50                                               None   \n",
      "6                50                                               None   \n",
      "7                50                                               None   \n",
      "8                50  [{'hour': '05:00:00', 'pedestrian': None, 'bik...   \n",
      "9                50  [{'hour': '05:00:00', 'pedestrian': None, 'bik...   \n",
      "\n",
      "      type  \n",
      "0  Feature  \n",
      "1  Feature  \n",
      "2  Feature  \n",
      "3  Feature  \n",
      "4  Feature  \n",
      "5  Feature  \n",
      "6  Feature  \n",
      "7  Feature  \n",
      "8  Feature  \n",
      "9  Feature  \n",
      "[{'hour': '05:00:00', 'pedestrian': None, 'bike': None, 'car': None, 'lorry': None}, {'hour': '06:00:00', 'pedestrian': None, 'bike': None, 'car': None, 'lorry': None}, {'hour': '07:00:00', 'pedestrian': 0, 'bike': 0, 'car': 49, 'lorry': 245}, {'hour': '08:00:00', 'pedestrian': 4, 'bike': 20, 'car': 100, 'lorry': 0}, {'hour': '09:00:00', 'pedestrian': 4, 'bike': 13, 'car': 94, 'lorry': 0}, {'hour': '10:00:00', 'pedestrian': 3, 'bike': 10, 'car': 105, 'lorry': 0}, {'hour': '11:00:00', 'pedestrian': 1, 'bike': 12, 'car': 105, 'lorry': 0}, {'hour': '12:00:00', 'pedestrian': 7, 'bike': 14, 'car': 111, 'lorry': 4}, {'hour': '13:00:00', 'pedestrian': 5, 'bike': 18, 'car': 119, 'lorry': 14}, {'hour': '14:00:00', 'pedestrian': 2, 'bike': 18, 'car': 117, 'lorry': 0}, {'hour': '15:00:00', 'pedestrian': 2, 'bike': 19, 'car': 127, 'lorry': 0}, {'hour': '16:00:00', 'pedestrian': 1, 'bike': 19, 'car': 111, 'lorry': 0}, {'hour': '17:00:00', 'pedestrian': 4, 'bike': 24, 'car': 167, 'lorry': 0}, {'hour': '18:00:00', 'pedestrian': None, 'bike': None, 'car': None, 'lorry': None}, {'hour': '19:00:00', 'pedestrian': None, 'bike': None, 'car': None, 'lorry': None}, {'hour': '20:00:00', 'pedestrian': None, 'bike': None, 'car': None, 'lorry': None}, {'hour': '21:00:00', 'pedestrian': None, 'bike': None, 'car': None, 'lorry': None}, {'hour': '22:00:00', 'pedestrian': None, 'bike': None, 'car': None, 'lorry': None}]\n",
      "Number of active segments:819\n",
      "Number of unique active segments:766\n"
     ]
    }
   ],
   "source": [
    "# segments data\n",
    "segments = requests.get(\"https://telraam-api.net/v0/segments/active\")\n",
    "nbr_segments = len(segments.json()['features'][:])\n",
    "print('Nbr of segments:',nbr_segments)\n",
    "data_segments = json_normalize(segments.json()['features'])\n",
    "print(list(data_segments.columns))\n",
    "print(data_segments.head(10))\n",
    "print(data_segments['properties.typical_data'][1])\n",
    "# sort segment data wrt IDs\n",
    "data_segments = data_segments.sort_values(['properties.id'], ascending=[True])\n",
    "activeSegmentIDs = data_segments['properties.id'].values\n",
    "uniqueActiveSegmentsIDs = data_segments['properties.id'].unique()\n",
    "print('Number of active segments:'+str(len(activeSegmentIDs)))\n",
    "print('Number of unique active segments:'+str(len(uniqueActiveSegmentsIDs)))"
   ]
  },
  {
   "cell_type": "markdown",
   "metadata": {},
   "source": [
    "## Clean inactive segment from camera datasets\n",
    "\n",
    "It shows that there are only 764 unique segments in the data. The duplicate segments might vary in terms of direction. It is still a question to be answered."
   ]
  },
  {
   "cell_type": "code",
   "execution_count": 4,
   "metadata": {},
   "outputs": [
    {
     "name": "stdout",
     "output_type": "stream",
     "text": [
      "Inactive segments = 83\n",
      "Common segments = 766\n",
      "If active == unique segments:\n",
      "\tFalse\n"
     ]
    }
   ],
   "source": [
    "inactiveSegmentIDs = list(set(uniqueSegments) ^ set(activeSegmentIDs))\n",
    "print('Inactive segments = '+ str(len(inactiveSegmentIDs)))\n",
    "commonSegmentIDs = set(uniqueSegments).intersection(activeSegmentIDs)\n",
    "print('Common segments = ' + str(len(commonSegmentIDs)))\n",
    "print('If active == unique segments:')\n",
    "if len(inactiveSegmentIDs)+len(activeSegmentIDs) == len(uniqueSegments):\n",
    "    print('\\t' + str(True))\n",
    "else:\n",
    "    print('\\t' + str(False))"
   ]
  },
  {
   "cell_type": "markdown",
   "metadata": {},
   "source": [
    "## Timestamps\n",
    "\n",
    "Date and hour registration. To check if they need sorting again."
   ]
  },
  {
   "cell_type": "code",
   "execution_count": 5,
   "metadata": {},
   "outputs": [
    {
     "name": "stdout",
     "output_type": "stream",
     "text": [
      "     bikes_left  bikes_right  cars_left  cars_right  direction  \\\n",
      "5          True         True       True        True       True   \n",
      "374        True         True       True        True      False   \n",
      "385        True         True       True        True      False   \n",
      "383        True         True       True        True      False   \n",
      "863        True         True       True        True       True   \n",
      "789        True         True       True        True      False   \n",
      "744        True         True       True        True       True   \n",
      "616        True         True       True        True      False   \n",
      "856        True         True       True        True      False   \n",
      "734        True         True       True        True       True   \n",
      "\n",
      "            last_data_package              mac  manual  pedestrians_left  \\\n",
      "5    2020-02-18T13:15:15.583Z  202481588641665   False              True   \n",
      "374  2020-02-18T13:15:15.583Z  202481588641665   False              True   \n",
      "385  2020-02-18T13:15:06.093Z  202481587810193   False              True   \n",
      "383  2020-02-18T13:15:06.093Z  202481587810193   False              True   \n",
      "863  2020-02-18T13:15:17.034Z  202481600366143   False             False   \n",
      "789  2020-02-18T13:14:28.300Z  228935803920782   False             False   \n",
      "744  2020-02-18T13:15:09.293Z  202481595690525   False             False   \n",
      "616  2020-02-18T13:15:16.600Z  202481596277105   False             False   \n",
      "856  2020-02-18T13:15:11.904Z  202481588298779   False             False   \n",
      "734  2020-02-18T13:14:42.974Z  202481593529462   False              True   \n",
      "\n",
      "     pedestrians_right  segment_id  status                time_added user_id  \n",
      "5                 True           0  active  2020-01-05T12:53:24.719Z    1334  \n",
      "374               True           1  active  2020-01-26T22:41:14.121Z    1334  \n",
      "385               True       24948  active  2020-02-11T17:37:09.195Z    1439  \n",
      "383               True       25633  active  2020-02-10T14:06:01.321Z    1439  \n",
      "863               True       26358  active  2019-11-23T10:38:34.917Z    1064  \n",
      "789               True       26380  active  2019-12-22T22:53:02.900Z    1164  \n",
      "744              False       26408  active  2019-11-30T15:32:56.210Z    1170  \n",
      "616              False       26940  active  2019-12-13T11:20:42.410Z    1258  \n",
      "856               True       27009  active  2019-12-20T08:51:38.971Z    1220  \n",
      "734               True       27263  active  2020-01-28T18:38:33.941Z    1175  \n"
     ]
    }
   ],
   "source": [
    "# Camera data timestamps\n",
    "dateveri = data_cameras['time_added'].values\n",
    "hours = pd.to_datetime(np.squeeze(dateveri)).hour\n",
    "dates = pd.to_datetime(np.squeeze(dateveri)).date\n",
    "# camera data needs sorting again\n",
    "data_cameras = data_cameras.sort_values(['status','segment_id','time_added'], ascending=[True, True, True])\n",
    "print(data_cameras.head(10))\n"
   ]
  },
  {
   "cell_type": "code",
   "execution_count": 6,
   "metadata": {},
   "outputs": [
    {
     "name": "stdout",
     "output_type": "stream",
     "text": [
      "[{'hour': '05:00:00', 'pedestrian': None, 'bike': None, 'car': None, 'lorry': None}, {'hour': '06:00:00', 'pedestrian': None, 'bike': None, 'car': None, 'lorry': None}, {'hour': '07:00:00', 'pedestrian': None, 'bike': None, 'car': None, 'lorry': None}, {'hour': '08:00:00', 'pedestrian': 0, 'bike': 4, 'car': 105, 'lorry': 0}, {'hour': '09:00:00', 'pedestrian': 1, 'bike': 33, 'car': 141, 'lorry': 2}, {'hour': '10:00:00', 'pedestrian': 1, 'bike': 23, 'car': 202, 'lorry': 6}, {'hour': '11:00:00', 'pedestrian': 1, 'bike': 3, 'car': 180, 'lorry': 6}, {'hour': '12:00:00', 'pedestrian': 1, 'bike': 19, 'car': 192, 'lorry': 4}, {'hour': '13:00:00', 'pedestrian': 1, 'bike': 10, 'car': 203, 'lorry': 5}, {'hour': '14:00:00', 'pedestrian': 0, 'bike': 11, 'car': 211, 'lorry': 4}, {'hour': '15:00:00', 'pedestrian': 0, 'bike': 0, 'car': 141, 'lorry': 0}, {'hour': '16:00:00', 'pedestrian': 2, 'bike': 15, 'car': 330, 'lorry': 0}, {'hour': '17:00:00', 'pedestrian': None, 'bike': None, 'car': None, 'lorry': None}, {'hour': '18:00:00', 'pedestrian': None, 'bike': None, 'car': None, 'lorry': None}, {'hour': '19:00:00', 'pedestrian': None, 'bike': None, 'car': None, 'lorry': None}, {'hour': '20:00:00', 'pedestrian': None, 'bike': None, 'car': None, 'lorry': None}, {'hour': '21:00:00', 'pedestrian': None, 'bike': None, 'car': None, 'lorry': None}, {'hour': '22:00:00', 'pedestrian': None, 'bike': None, 'car': None, 'lorry': None}]\n"
     ]
    }
   ],
   "source": [
    "# Segment data timestamps\n",
    "dateveri = data_segments['properties.typical_data'].values\n",
    "print(dateveri[0])\n",
    "\n",
    "# hours = pd.to_datetime(np.squeeze(dateveri)).hour\n",
    "# dates = pd.to_datetime(np.squeeze(dateveri)).date\n",
    "# camera data needs sorting again"
   ]
  },
  {
   "cell_type": "markdown",
   "metadata": {},
   "source": [
    "## Position of Segments\n",
    "\n",
    "We only take the middle position of the segments."
   ]
  },
  {
   "cell_type": "code",
   "execution_count": 7,
   "metadata": {},
   "outputs": [
    {
     "name": "stdout",
     "output_type": "stream",
     "text": [
      "[[ 5.16331069 50.8910606 ]\n",
      " [ 5.11286407 50.89409181]]\n"
     ]
    }
   ],
   "source": [
    "segmentCoordinates = np.zeros((len(activeSegmentIDs),2))\n",
    "# Read coordinates from each segment\n",
    "for i in range(len(activeSegmentIDs)):\n",
    "    urlSegment = 'https://telraam-api.net/v0/segments/id/'+str(activeSegmentIDs[i])\n",
    "    active = requests.get(urlSegment)\n",
    "    co = np.array(active.json()['features'][0]['geometry']['coordinates'][0]) # coordinates of the cameras\n",
    "    segmentCoordinates[i,:] = np.mean(co, axis=0)\n",
    "    \n",
    "print(segmentCoordinates[0:2,:])"
   ]
  },
  {
   "cell_type": "code",
   "execution_count": 8,
   "metadata": {},
   "outputs": [
    {
     "name": "stdout",
     "output_type": "stream",
     "text": [
      "   SegmentID       LON        LAT\n",
      "0    20499.0  5.163311  50.891061\n",
      "1    20580.0  5.112864  50.894092\n",
      "2    24948.0  4.476654  51.302504\n",
      "3    26137.0  4.487590  51.299626\n",
      "4    26358.0  3.728146  51.033024\n",
      "5    26380.0  3.724681  51.032293\n",
      "6    26408.0  3.706345  51.035715\n",
      "7    26683.0  3.694862  51.035912\n",
      "8    26940.0  3.755602  51.045376\n",
      "9    27009.0  3.758483  51.040428\n"
     ]
    }
   ],
   "source": [
    "# Restrict them to Leuven coordinates\n",
    "activeSegmentIDs = np.expand_dims(np.array(activeSegmentIDs),axis=-1)\n",
    "segmentCoordinates = np.concatenate((activeSegmentIDs,segmentCoordinates),axis=1)\n",
    "segmentCoordinates = pd.DataFrame(data=segmentCoordinates, columns=['SegmentID', 'LON', 'LAT'])\n",
    "print(segmentCoordinates.head(10))"
   ]
  },
  {
   "cell_type": "code",
   "execution_count": 9,
   "metadata": {},
   "outputs": [
    {
     "name": "stdout",
     "output_type": "stream",
     "text": [
      "   SegmentID       LON        LAT\n",
      "0      20499  5.163311  50.891061\n",
      "1      20580  5.112864  50.894092\n",
      "2      24948  4.476654  51.302504\n",
      "3      26137  4.487590  51.299626\n",
      "4      26358  3.728146  51.033024\n",
      "5      26380  3.724681  51.032293\n",
      "6      26408  3.706345  51.035715\n",
      "7      26683  3.694862  51.035912\n",
      "8      26940  3.755602  51.045376\n",
      "9      27009  3.758483  51.040428\n"
     ]
    }
   ],
   "source": [
    "segmentCoordinates = segmentCoordinates.astype({'SegmentID': 'uint64'})\n",
    "print(segmentCoordinates.head(10))"
   ]
  },
  {
   "cell_type": "code",
   "execution_count": 14,
   "metadata": {},
   "outputs": [
    {
     "name": "stdout",
     "output_type": "stream",
     "text": [
      "(154, 3)\n"
     ]
    }
   ],
   "source": [
    "# Leuven Coordinates\n",
    "LeuvenCoord = np.array([[4.654269, 4.789127],[50.846792,50.937804]])\n",
    "LeuvenSegmentCoordinates = segmentCoordinates[segmentCoordinates['LON']>=LeuvenCoord[0,0]]\n",
    "LeuvenSegmentCoordinates = LeuvenSegmentCoordinates[LeuvenSegmentCoordinates['LON']<=LeuvenCoord[0,1]]\n",
    "LeuvenSegmentCoordinates = LeuvenSegmentCoordinates[LeuvenSegmentCoordinates['LAT']>=LeuvenCoord[1,0]]\n",
    "LeuvenSegmentCoordinates = LeuvenSegmentCoordinates[LeuvenSegmentCoordinates['LAT']<=LeuvenCoord[1,1]]\n",
    "print(LeuvenSegmentCoordinates.shape)"
   ]
  },
  {
   "cell_type": "markdown",
   "metadata": {},
   "source": [
    "## Finding most reliable segment"
   ]
  },
  {
   "cell_type": "code",
   "execution_count": 15,
   "metadata": {},
   "outputs": [],
   "source": [
    "# read segment 1-by-1\n",
    "LeuvenSegmentIDs = LeuvenSegmentCoordinates['SegmentID'].values\n",
    "counterSegments = np.zeros_like(LeuvenSegmentIDs)\n",
    "# url to read a single segment \n",
    "url_base = 'https://telraam-api.net/v0/cameras/segment/'\n",
    "# number of cameras per segment\n",
    "for  i  in np.arange(0,len(LeuvenSegmentIDs)):\n",
    "    url = url_base + str(LeuvenSegmentIDs[i])\n",
    "    telraam_segment = requests.get(url)\n",
    "    c = int(len(telraam_segment.json()['camera']))\n",
    "    counterSegments[i] = c"
   ]
  },
  {
   "cell_type": "code",
   "execution_count": 16,
   "metadata": {},
   "outputs": [
    {
     "name": "stdout",
     "output_type": "stream",
     "text": [
      "[1 1 1 1 2 2 2 2 1 2]\n"
     ]
    }
   ],
   "source": [
    "start = 0; stop = 10;\n",
    "print(counterSegments[start:stop])\n",
    "# sort them with respect to the number of cameras\n",
    "countdf = pd.DataFrame(counterSegments,index=LeuvenSegmentIDs,columns=['Nbr'])\n",
    "countdf.sort_values(by='Nbr',inplace=True,ascending=False)\n",
    "relSegID = countdf.index[0]"
   ]
  },
  {
   "cell_type": "code",
   "execution_count": 22,
   "metadata": {},
   "outputs": [
    {
     "name": "stdout",
     "output_type": "stream",
     "text": [
      "506176\n"
     ]
    }
   ],
   "source": [
    "countdf.head(4)\n",
    "print(relSegID)"
   ]
  },
  {
   "cell_type": "markdown",
   "metadata": {},
   "source": [
    "##  Traffic info at the most reliable segment"
   ]
  },
  {
   "cell_type": "code",
   "execution_count": 42,
   "metadata": {},
   "outputs": [
    {
     "name": "stdout",
     "output_type": "stream",
     "text": [
      "                  car  bike  pedestrian  lorry\n",
      "2019-03-24 02:00  164   190          38     25\n",
      "2019-03-25 02:00  465   573          53      3\n",
      "2019-03-26 02:00  133   225          43      3\n",
      "2019-03-29 02:00  622   501          58     10\n"
     ]
    },
    {
     "data": {
      "image/png": "[encoded data removed]",
      "text/plain": [
       "<Figure size 1080x360 with 1 Axes>"
      ]
     },
     "metadata": {
      "needs_background": "light"
     },
     "output_type": "display_data"
    }
   ],
   "source": [
    "# read segment info from the reports\n",
    "url = \"https://telraam-api.net/v0/reports/\" + str(relSegID)\n",
    "param = \"{\\n    \\\"time_start\\\": \\\"2019-02-26 00:01\\\",\\n    \\\"time_end\\\": \\\"2019-10-27 23:59\\\",\\n    \\\"level\\\": \\\"segments\\\",\\n    \\\"format\\\": \\\"per-day\\\"\\n}\"\n",
    "headers = {'Content-Type': 'application/json'}\n",
    "r = requests.request(\"POST\", url, headers=headers,data = param)\n",
    "# print(r.json())\n",
    "\n",
    "# vehicle info data frame\n",
    "dfsegment = pd.DataFrame()\n",
    "for i in np.arange(0,len((r.json()['report'][:]))):\n",
    "    info = r.json()['report'][i]\n",
    "#     df_info = pd.DataFrame({'car':info['car'],'bike':info['bike']},index=[info['date']])\n",
    "    df_info = pd.DataFrame({'car':info['car'],'bike':info['bike'],'pedestrian':info['pedestrian'],'lorry':info['lorry']},index=[info['date']])\n",
    "    dfsegment = pd.concat([dfsegment,df_info],axis=0)\n",
    "\n",
    "print(dfsegment.head(4))\n",
    "dfsegment.plot(figsize=(15,5));"
   ]
  },
  {
   "cell_type": "code",
   "execution_count": null,
   "metadata": {},
   "outputs": [],
   "source": []
  }
 ],
 "metadata": {
  "file_extension": ".py",
  "kernelspec": {
   "display_name": "Python 3",
   "language": "python",
   "name": "python3"
  },
  "language_info": {
   "codemirror_mode": {
    "name": "ipython",
    "version": 3
   },
   "file_extension": ".py",
   "mimetype": "text/x-python",
   "name": "python",
   "nbconvert_exporter": "python",
   "pygments_lexer": "ipython3",
   "version": "3.7.3"
  },
  "mimetype": "text/x-python",
  "name": "python",
  "npconvert_exporter": "python",
  "pygments_lexer": "ipython3",
  "version": 3
 },
 "nbformat": 4,
 "nbformat_minor": 2
}
