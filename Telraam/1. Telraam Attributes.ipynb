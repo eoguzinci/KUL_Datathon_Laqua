{
 "cells": [
  {
   "cell_type": "markdown",
   "metadata": {},
   "source": [
    "<h1>Introduction</h1>\n",
    "Telraam is one of 15 projects which have been brought to success with support from\n",
    "`Smart Mobility Belgium`. \n",
    "<br>\n",
    "The project started with a pilot study in Kessel-Lo. There, 100 residents carried out their own traffic counts using a specially developed low-cost sensor, Telraam, from their windows."
   ]
  },
  {
   "cell_type": "markdown",
   "metadata": {},
   "source": [
    "<h1>Telraam in Leuven</h1>"
   ]
  },
  {
   "cell_type": "markdown",
   "metadata": {},
   "source": [
    "The `telraam` (called abacus in English) consists of a microcomputer (Raspberry Pi), and a low-resolution camera. The camera records the traffic, the microcomputer\n",
    "immediately analyzes and processes the images for useful information. \n",
    "<br>\n",
    "The data is transmitted wirelessly to a central database where these are continuously processed. The processed data of all counting frames are before\n",
    "everyone freely available on www.telraam.net.\n",
    "<br>\n",
    "<br>\n",
    "On the following <a target=\"_blank\" href=\"https://www.telraam.net/en\">map </a>, you can find the positioning of the cameras in Leuven"
   ]
  },
  {
   "cell_type": "markdown",
   "metadata": {},
   "source": [
    "<h1>What object does the telraam count?</h1>\n",
    "Telraam counts pedestrians, cyclists, cars and freight/heavy vehicles. This is done using images taken by the device camera and the analysis performed by the ‘Raspberry Pi’ (a small computer on which the device is based). The analysis simply uses the size and speed of the passing object.\n",
    "<br>\n",
    "There are 3 kinds of moving objects that are captured by the telraam: \n",
    "<ol>\n",
    "    <li>a pedestrian\n",
    "    <li>a cyclist \n",
    "    <li>motorized transport (vehicle)\n",
    "</ol>\n",
    "<br>\n",
    "Motorized transport is encoded as either a car or a truck. With some caveats below:\n",
    "<ol>\n",
    "<li>Telraam does not count when it is dark.\n",
    "<li>Telraam will count a tram as a truck.\n",
    "<li>Vans can either be counted as trucks or cars, depending on their size.\n",
    "<li>Buses are counted as trucks, because of their size.\n",
    "</ol>"
   ]
  },
  {
   "cell_type": "markdown",
   "metadata": {},
   "source": [
    "<h1>What does the telraam NOT count ? </h1>\n",
    "<ol>\n",
    "<li>Telraam does not recognise individual vehicles (number plates).\n",
    "<li>Telraam does not recognise faces.\n",
    "<li>Telraam does not count an EXACT number of vehicles over a very short period\n",
    "<li>Telraam is not a speed camera.\n",
    "<li>There is no 100% accuracy\n",
    "<li>Telraam does not count when it is dark\n",
    "</ol>"
   ]
  },
  {
   "cell_type": "markdown",
   "metadata": {},
   "source": [
    "<h1>How does it work ? </h1>\n",
    "Each Telraam unit uses a camera to monitor the street in its field of view (FOV). The images are being processed on-the-fly, meaning that there are no actual photos or videos stored or transferred from the units.\n",
    "<br>\n",
    "The telraam observes if something has passed in front of the house, but doesn’t know what kind of object it was. That is where the classifier needs to step in. The classifier decides if an observed object is a car (including also vans, buses, and trucks), a cyclists, or a pedestrian.\n",
    "<br>\n",
    "You can find more information on how the classifier works on the <a href=\"https://telraam.zendesk.com/hc/en-be/articles/360035184892-Potential-inaccuracies-in-Telraam\">website</a> of telraam. (Detailed knowledge on this classification is not required in this datathon ). Just remember that two parameters are important for the telraam to identify an object as a car, bike or pedestrian: the <b>axisratio</b> and the <b>fullness</b>.\n",
    "<br>\n",
    "<br>\n",
    "The global classifier itself is a lookup matrix that tells us for any axisratio – fullness parameter combination what kind of object we are dealing with. This makes classifying new observations extremely fast (as it is a simple lookup operation).\n",
    "<br>\n",
    "<br>\n",
    "$$\\text{Type Moving Object} = f(axisratio ,fullness) $$ \n",
    "<br>\n",
    "The classifier is a global classifier. In other words, every camera of the telraam network is using the same method derived from a trained classifier on the first 3 camera's that were installed in Leuven."
   ]
  },
  {
   "cell_type": "markdown",
   "metadata": {},
   "source": [
    "<h1>What information is gather on the objects</h1>\n",
    "Speeds are indicative. Measurements may differ by 10% from effective speeds.\n",
    "<br>\n",
    "The information retrieved by the different Telraams can be retrieve via an <a target = \"_blank\" href=\"https://documenter.getpostman.com/view/5886213/S11RLFhq/?version=latest\" target=\"new\">API</a>\n",
    "<br>\n",
    "<br>\n",
    "If you <b>never worked with an API before</b>: Start reading <a target=\"_blank\" href=\"https://www.dataquest.io/blog/python-api-tutorial/\"><b>here</b></a>."
   ]
  },
  {
   "cell_type": "markdown",
   "metadata": {},
   "source": [
    "<h1> Datastructure</h1>\n",
    "A Telraam gets data linked to a road segment. This is a unique relation.<br>\n",
    "\n",
    "A Telraam is characterized by a unique serial number(`mac`), which when registered on the website, is linked to the unique road segment number (`segment_id`),"
   ]
  },
  {
   "cell_type": "markdown",
   "metadata": {},
   "source": [
    "<h1>Retrieving information from a telraam </h1>\n",
    "The information on the telraam is stored on a central database that can be retrieved using <b>API</b> calls.\n",
    "<br>\n",
    "As illustrated in the next cell, two python modules are required: <b>requests</b> and <b>json</b>\n",
    "<br>\n",
    "<br>\n",
    "Online documentation is available on the following <a href = \"https://documenter.getpostman.com/view/5886213/S11RLFhq/?version=latest\">link</a>."
   ]
  },
  {
   "cell_type": "code",
   "execution_count": 1,
   "metadata": {},
   "outputs": [],
   "source": [
    "import requests\n",
    "import json\n",
    "import pandas as pd\n",
    "from IPython.core.display import display, HTML"
   ]
  },
  {
   "cell_type": "markdown",
   "metadata": {},
   "source": [
    "When you call the API with a `request` statement, you will get a response.\n",
    "A response equal to 200 points to a success status and indicates that the request has succeeded.<br>\n",
    "The answer to your request is often in a json format that can be sliced and diced for further information."
   ]
  },
  {
   "cell_type": "markdown",
   "metadata": {},
   "source": [
    "Find all the cameras (telraam) that are available :"
   ]
  },
  {
   "cell_type": "code",
   "execution_count": 2,
   "metadata": {},
   "outputs": [
    {
     "name": "stdout",
     "output_type": "stream",
     "text": [
      "Nbr of cameras: 969\n"
     ]
    }
   ],
   "source": [
    "answer = requests.get(\"https://telraam-api.net/v0/cameras\")\n",
    "nbr_cameras = len(answer.json()['cameras'][:])\n",
    "print('Nbr of cameras:',nbr_cameras)"
   ]
  },
  {
   "cell_type": "code",
   "execution_count": null,
   "metadata": {},
   "outputs": [],
   "source": []
  },
  {
   "cell_type": "markdown",
   "metadata": {},
   "source": [
    "Each Camera has a number of characteristics. The 10th camera has the following attributes:"
   ]
  },
  {
   "cell_type": "code",
   "execution_count": 3,
   "metadata": {},
   "outputs": [
    {
     "data": {
      "text/plain": [
       "{'mac': '202481592771284',\n",
       " 'user_id': '323',\n",
       " 'segment_id': '279199',\n",
       " 'direction': False,\n",
       " 'status': 'active',\n",
       " 'manual': False,\n",
       " 'time_added': '2019-05-05T18:27:19.387Z',\n",
       " 'last_data_package': '2020-02-15T13:46:06.804Z',\n",
       " 'pedestrians_left': True,\n",
       " 'pedestrians_right': True,\n",
       " 'bikes_left': True,\n",
       " 'bikes_right': True,\n",
       " 'cars_left': True,\n",
       " 'cars_right': True}"
      ]
     },
     "execution_count": 3,
     "metadata": {},
     "output_type": "execute_result"
    }
   ],
   "source": [
    "answer.json()['cameras'][9]"
   ]
  },
  {
   "cell_type": "markdown",
   "metadata": {},
   "source": [
    "Each attribute has a particular meaning:\n",
    "<ol>\n",
    "<li>mac : unique identifier of the camera\n",
    "<li>segment_id : Section of the street where the camera is active. This section has an id, and has properties that can be retrieved as well.\n",
    "<li>direction': True,\n",
    "<li>status: The telraam can be \"active\",\"no_active\" or \"problematic\"\n",
    "<li>manual : (not used),\n",
    "<li>time_added:Timestamp when the telraam was added to the network,\n",
    "<li>last_data_package: Timestamp of the retrieval of the most recent datapackage sent from the telraam,\n",
    "<li>pedestrians_left: False\n",
    "<li>pedestrians_right: True\n",
    "<li>bikes_left: True\n",
    "<li>bikes_right: True\n",
    "<li>cars_left: True\n",
    "<li>cars_right: True\n",
    "</ol>"
   ]
  },
  {
   "cell_type": "markdown",
   "metadata": {},
   "source": [
    "<h1>What is the segment ?</h1>\n"
   ]
  },
  {
   "cell_type": "markdown",
   "metadata": {},
   "source": [
    "A segment is a section of a street where a telraam is active. Each segment has an id and it is possible to have several telraam devices active on an identical segment"
   ]
  },
  {
   "cell_type": "code",
   "execution_count": 4,
   "metadata": {},
   "outputs": [
    {
     "name": "stdout",
     "output_type": "stream",
     "text": [
      "200\n"
     ]
    }
   ],
   "source": [
    "segments = requests.get(\"https://telraam-api.net/v0/segments/active\")\n",
    "print(segments.status_code)"
   ]
  },
  {
   "cell_type": "markdown",
   "metadata": {},
   "source": [
    "The API returns code 200 which points to a correct call"
   ]
  },
  {
   "cell_type": "code",
   "execution_count": 5,
   "metadata": {},
   "outputs": [
    {
     "name": "stdout",
     "output_type": "stream",
     "text": [
      "Nbr of segments: 817\n"
     ]
    }
   ],
   "source": [
    "nbr_segments = len(segments.json()['features'][:])\n",
    "print('Nbr of segments:',nbr_segments)"
   ]
  },
  {
   "cell_type": "markdown",
   "metadata": {},
   "source": [
    "Similar to the telraam, we can investigate the different attributes of each segment.\n",
    "As an example we take the first segment in the list"
   ]
  },
  {
   "cell_type": "code",
   "execution_count": 6,
   "metadata": {},
   "outputs": [
    {
     "data": {
      "text/plain": [
       "dict_keys(['type', 'geometry', 'properties'])"
      ]
     },
     "execution_count": 6,
     "metadata": {},
     "output_type": "execute_result"
    }
   ],
   "source": [
    "segments.json()['features'][0].keys()"
   ]
  },
  {
   "cell_type": "markdown",
   "metadata": {},
   "source": [
    "Each segment has properties and a geometry"
   ]
  },
  {
   "cell_type": "code",
   "execution_count": 7,
   "metadata": {},
   "outputs": [
    {
     "data": {
      "text/plain": [
       "{'type': 'MultiLineString',\n",
       " 'coordinates': [[[5.248800931878607, 50.958120376295234],\n",
       "   [5.248909755505087, 50.95811997291265],\n",
       "   [5.2497739115567805, 50.95811676630803],\n",
       "   [5.249987769051002, 50.95811992722135],\n",
       "   [5.250143365286705, 50.95809817266468],\n",
       "   [5.250167188129611, 50.95809762914239],\n",
       "   [5.250498571750504, 50.95809007448103]]]}"
      ]
     },
     "execution_count": 7,
     "metadata": {},
     "output_type": "execute_result"
    }
   ],
   "source": [
    "segments.json()['features'][0]['geometry']"
   ]
  },
  {
   "cell_type": "markdown",
   "metadata": {},
   "source": [
    "The coordinates of a segment form a line along the road that forms the segment.\n",
    "<br>\n",
    "<br>\n",
    "The properties are given by :"
   ]
  },
  {
   "cell_type": "code",
   "execution_count": 8,
   "metadata": {},
   "outputs": [
    {
     "data": {
      "text/plain": [
       "{'id': 61753,\n",
       " 'speed': 50,\n",
       " 'oneway': False,\n",
       " 'road_type': '',\n",
       " 'road_speed': '',\n",
       " 'pedestrian': 80,\n",
       " 'bike': 85,\n",
       " 'car': 5527,\n",
       " 'lorry': 0,\n",
       " 'last_data_package': None,\n",
       " 'pedestrian_avg': 0,\n",
       " 'bike_avg': 33,\n",
       " 'car_avg': 400,\n",
       " 'lorry_avg': 0,\n",
       " 'typical_data': [{'hour': '05:00:00',\n",
       "   'pedestrian': 0,\n",
       "   'bike': 0,\n",
       "   'car': 34,\n",
       "   'lorry': 0},\n",
       "  {'hour': '06:00:00', 'pedestrian': 0, 'bike': 2, 'car': 58, 'lorry': 0},\n",
       "  {'hour': '07:00:00', 'pedestrian': 1, 'bike': 5, 'car': 107, 'lorry': 0},\n",
       "  {'hour': '08:00:00', 'pedestrian': 0, 'bike': 6, 'car': 258, 'lorry': 0},\n",
       "  {'hour': '09:00:00', 'pedestrian': 0, 'bike': 7, 'car': 162, 'lorry': 0},\n",
       "  {'hour': '10:00:00', 'pedestrian': 1, 'bike': 7, 'car': 178, 'lorry': 0},\n",
       "  {'hour': '11:00:00', 'pedestrian': 1, 'bike': 7, 'car': 212, 'lorry': 0},\n",
       "  {'hour': '12:00:00', 'pedestrian': 1, 'bike': 10, 'car': 195, 'lorry': 0},\n",
       "  {'hour': '13:00:00', 'pedestrian': 1, 'bike': 5, 'car': 196, 'lorry': 0},\n",
       "  {'hour': '14:00:00', 'pedestrian': 0, 'bike': 15, 'car': 203, 'lorry': 0},\n",
       "  {'hour': '15:00:00', 'pedestrian': 0, 'bike': 16, 'car': 226, 'lorry': 3},\n",
       "  {'hour': '16:00:00', 'pedestrian': 0, 'bike': 10, 'car': 285, 'lorry': 0},\n",
       "  {'hour': '17:00:00', 'pedestrian': 1, 'bike': 17, 'car': 279, 'lorry': 0},\n",
       "  {'hour': '18:00:00', 'pedestrian': 0, 'bike': 10, 'car': 213, 'lorry': 0},\n",
       "  {'hour': '19:00:00', 'pedestrian': 0, 'bike': 5, 'car': 160, 'lorry': 0},\n",
       "  {'hour': '20:00:00', 'pedestrian': 0, 'bike': 3, 'car': 104, 'lorry': 0},\n",
       "  {'hour': '21:00:00', 'pedestrian': 1, 'bike': 4, 'car': 75, 'lorry': 0},\n",
       "  {'hour': '22:00:00', 'pedestrian': 0, 'bike': 0, 'car': 75, 'lorry': 0}],\n",
       " 'car_speed_histogram': [141, 268, 442, 1099, 2301, 1057, 170, 52],\n",
       " 'car_speed_buckets': [0, 1, 2, 3, 4, 5, 6, 7]}"
      ]
     },
     "execution_count": 8,
     "metadata": {},
     "output_type": "execute_result"
    }
   ],
   "source": [
    "segments.json()['features'][0]['properties']"
   ]
  },
  {
   "cell_type": "markdown",
   "metadata": {},
   "source": [
    "<b> Explanation of the different attributes </b>\n",
    "<ul>\n",
    "<li>id: id of the segment\n",
    "<li>speed: not used\n",
    "<li>oneway: not used\n",
    "<li>road_type: not used\n",
    "<li>road_speed: not used\n",
    "<li>pedestrian: Nbr of pedestrians counted during the last hour\n",
    "<li>bike: Nbr of bikes counted during the last hour\n",
    "<li>car: Nbr of cars counted during the last hour\n",
    "<li>lorry: Nbr of lorries (vans) counted during the last hour,\n",
    "<li>last_data_package: Timestamp of information received by a Telraam on this segment\n",
    "<li>pedestrian_avg: Moving average\n",
    "<li>bike_avg: Moving average\n",
    "<li>car_avg: Moving average\n",
    "<li>lorry_avg:Moving average \n",
    "</ul>\n",
    "The attribute \"typical_data\" shows what data to expect on a particular time of the day"
   ]
  },
  {
   "cell_type": "markdown",
   "metadata": {},
   "source": [
    "<ul>\n",
    "    \n",
    "   </ul>"
   ]
  },
  {
   "cell_type": "code",
   "execution_count": 9,
   "metadata": {},
   "outputs": [
    {
     "ename": "NameError",
     "evalue": "name 'df' is not defined",
     "output_type": "error",
     "traceback": [
      "\u001b[1;31m---------------------------------------------------------------------------\u001b[0m",
      "\u001b[1;31mNameError\u001b[0m                                 Traceback (most recent call last)",
      "\u001b[1;32m<ipython-input-9-c61f0c8f89b5>\u001b[0m in \u001b[0;36m<module>\u001b[1;34m\u001b[0m\n\u001b[1;32m----> 1\u001b[1;33m \u001b[0mdf\u001b[0m\u001b[1;33m.\u001b[0m\u001b[0mmean\u001b[0m\u001b[1;33m(\u001b[0m\u001b[1;33m)\u001b[0m\u001b[1;33m\u001b[0m\u001b[1;33m\u001b[0m\u001b[0m\n\u001b[0m",
      "\u001b[1;31mNameError\u001b[0m: name 'df' is not defined"
     ]
    }
   ],
   "source": [
    "df.mean()"
   ]
  },
  {
   "cell_type": "code",
   "execution_count": null,
   "metadata": {},
   "outputs": [],
   "source": [
    "segment = '349811' \n",
    "url = 'https://telraam-api.net/v0/cameras/segment/'\n",
    "new_url = url+segment\n",
    "segment_info = requests.get(new_url)\n",
    "print(segment_info.status_code)\n",
    "segment_info.json()"
   ]
  },
  {
   "cell_type": "markdown",
   "metadata": {},
   "source": [
    "Get Json information on the segments (GEOJSON Format)"
   ]
  },
  {
   "cell_type": "code",
   "execution_count": null,
   "metadata": {},
   "outputs": [],
   "source": [
    "url = 'https://telraam-api.net/v0/segments/id/'\n",
    "segment_id = '349811' \n",
    "new_url = url+segment_id\n",
    "segment_info = requests.get(new_url)\n",
    "print(segment_info.status_code)\n",
    "segment_info.json()"
   ]
  },
  {
   "cell_type": "code",
   "execution_count": null,
   "metadata": {},
   "outputs": [],
   "source": []
  }
 ],
 "metadata": {
  "kernelspec": {
   "display_name": "Python 3",
   "language": "python",
   "name": "python3"
  },
  "language_info": {
   "codemirror_mode": {
    "name": "ipython",
    "version": 3
   },
   "file_extension": ".py",
   "mimetype": "text/x-python",
   "name": "python",
   "nbconvert_exporter": "python",
   "pygments_lexer": "ipython3",
   "version": "3.7.3"
  },
  "toc": {
   "base_numbering": 1,
   "nav_menu": {},
   "number_sections": true,
   "sideBar": true,
   "skip_h1_title": false,
   "title_cell": "Table of Contents",
   "title_sidebar": "Contents",
   "toc_cell": false,
   "toc_position": {},
   "toc_section_display": true,
   "toc_window_display": false
  },
  "varInspector": {
   "cols": {
    "lenName": 16,
    "lenType": 16,
    "lenVar": 40
   },
   "kernels_config": {
    "python": {
     "delete_cmd_postfix": "",
     "delete_cmd_prefix": "del ",
     "library": "var_list.py",
     "varRefreshCmd": "print(var_dic_list())"
    },
    "r": {
     "delete_cmd_postfix": ") ",
     "delete_cmd_prefix": "rm(",
     "library": "var_list.r",
     "varRefreshCmd": "cat(var_dic_list()) "
    }
   },
   "types_to_exclude": [
    "module",
    "function",
    "builtin_function_or_method",
    "instance",
    "_Feature"
   ],
   "window_display": false
  }
 },
 "nbformat": 4,
 "nbformat_minor": 2
}
