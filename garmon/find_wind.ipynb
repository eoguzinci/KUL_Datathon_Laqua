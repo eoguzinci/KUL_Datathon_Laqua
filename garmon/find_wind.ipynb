{
 "cells": [
  {
   "cell_type": "code",
   "execution_count": 127,
   "metadata": {
    "pycharm": {
     "is_executing": true
    }
   },
   "outputs": [],
   "source": [
    "# import libraries\n",
    "import pandas as pd\n",
    "import numpy as np\n",
    "from matplotlib import pyplot as plt\n",
    "import seaborn as sns"
   ]
  },
  {
   "cell_type": "code",
   "execution_count": 128,
   "metadata": {},
   "outputs": [],
   "source": [
    "# read first n rows and columns\n",
    "filename = 'GarmonData.csv'\n",
    "\n",
    "df = pd.read_csv(filename, skiprows=0, usecols = ['DATEUTC','ID','LAT','LON','TEMPC','SOLARRADIATION','UV','WINDSPEEDKMH','WINDDIR','RAININ'])"
   ]
  },
  {
   "cell_type": "code",
   "execution_count": 129,
   "metadata": {},
   "outputs": [
    {
     "name": "stdout",
     "output_type": "stream",
     "text": [
      "                     DATEUTC         ID        LAT       LON  TEMPC  WINDDIR  \\\n",
      "0        2019-06-20 18:50:00  GARMON002  50.846792  4.755860   19.7      NaN   \n",
      "63102    2019-06-21 10:35:00  GARMON004  50.870755  4.685430   22.4      NaN   \n",
      "124098   2019-06-24 12:45:00  GARMON005  50.881346  4.712534   25.6      NaN   \n",
      "179994   2019-06-22 07:40:00  GARMON006  50.912292  4.715563   15.8      NaN   \n",
      "238472   2019-06-22 09:05:00  GARMON007  50.869166  4.704765   24.5      NaN   \n",
      "...                      ...        ...        ...       ...    ...      ...   \n",
      "3432659  2019-10-21 12:35:00  GARMON094  50.881952  4.702507   13.7    101.0   \n",
      "3462696  2020-01-16 12:25:00  GARMON096  50.885465  4.677504   16.6    264.0   \n",
      "3464375  2019-10-21 12:35:00  GARMON097  50.866657  4.710121   13.5     77.0   \n",
      "3494166  2019-10-21 12:35:00  GARMON098  50.882074  4.702959   13.7    101.0   \n",
      "3524203  2019-10-31 12:20:00  GARMON099  50.881479  4.714405   19.7    185.0   \n",
      "\n",
      "         WINDSPEEDKMH  RAININ  SOLARRADIATION   UV  \n",
      "0                1.64   0.000           51.13  1.0  \n",
      "63102            1.68   0.000          736.76  7.0  \n",
      "124098           0.00   0.210           35.49  0.0  \n",
      "179994           0.00   0.000            0.00  0.0  \n",
      "238472           0.00   0.000            0.00  0.0  \n",
      "...               ...     ...             ...  ...  \n",
      "3432659          3.93   0.000           82.08  1.0  \n",
      "3462696          0.10   0.056           60.37  1.0  \n",
      "3464375          0.91   0.000           97.83  1.0  \n",
      "3494166          3.93   0.000           82.08  1.0  \n",
      "3524203          0.00   0.000            0.00  0.0  \n",
      "\n",
      "[78 rows x 10 columns]\n",
      "               DATEUTC         ID        LAT      LON  TEMPC  WINDDIR  \\\n",
      "0  2019-06-20 18:50:00  GARMON002  50.846792  4.75586   19.7      NaN   \n",
      "\n",
      "   WINDSPEEDKMH  RAININ  SOLARRADIATION   UV  \n",
      "0          1.64     0.0           51.13  1.0  \n"
     ]
    }
   ],
   "source": [
    "df_pruned = df.drop_duplicates('ID')\n",
    "print(df_pruned)\n",
    "print(df_pruned[0:1])\n",
    "# print(df_pruned.dtypes)\n",
    "# print(df_pruned.index[0])"
   ]
  },
  {
   "cell_type": "code",
   "execution_count": 130,
   "metadata": {},
   "outputs": [
    {
     "name": "stdout",
     "output_type": "stream",
     "text": [
      "lat: 50.846792 - 50.937804\n",
      "lon: 4.654269 - 4.789127\n"
     ]
    }
   ],
   "source": [
    "lat_min = np.min(df['LAT'])\n",
    "lat_max = np.max(df['LAT'])\n",
    "lon_min = np.min(df['LON'])\n",
    "lon_max = np.max(df['LON'])\n",
    "print('lat: '+str(lat_min)+' - '+str(lat_max))\n",
    "print('lon: '+str(lon_min)+' - '+str(lon_max))"
   ]
  },
  {
   "cell_type": "code",
   "execution_count": 139,
   "metadata": {},
   "outputs": [],
   "source": [
    "lat_star = 50.861075 #50.884406\n",
    "lon_star = 4.765927 #4.693768\n",
    "date_star = '2019-12-26' \n",
    "quantity = 'WINDDIR'\n",
    "ith_closest = 0 # 0-4 choose one of the 5 closest"
   ]
  },
  {
   "cell_type": "code",
   "execution_count": 140,
   "metadata": {},
   "outputs": [
    {
     "name": "stdout",
     "output_type": "stream",
     "text": [
      "0          0.000305\n",
      "63102      0.006573\n",
      "124098     0.003262\n",
      "179994     0.005160\n",
      "238472     0.003806\n",
      "             ...   \n",
      "3432659    0.004458\n",
      "3462696    0.008413\n",
      "3464375    0.003145\n",
      "3494166    0.004406\n",
      "3524203    0.003071\n",
      "Length: 78, dtype: float64\n",
      "0 0\n",
      "DATEUTC           2019-06-20 18:50:00\n",
      "ID                          GARMON002\n",
      "LAT                           50.8468\n",
      "LON                           4.75586\n",
      "TEMPC                            19.7\n",
      "WINDDIR                           NaN\n",
      "WINDSPEEDKMH                     1.64\n",
      "RAININ                              0\n",
      "SOLARRADIATION                  51.13\n",
      "UV                                  1\n",
      "Name: 0, dtype: object\n"
     ]
    }
   ],
   "source": [
    "dists = (df_pruned['LAT']-lat_star)**2 + (df_pruned['LON']-lon_star)**2\n",
    "print(dists)\n",
    "idxs_ = dists.nsmallest(5).index\n",
    "#idx_star = dists.idxmin() #choose one of the closest instead\n",
    "idx_star = idxs_[ith_closest]\n",
    "print(idx_star, idxs_[0])\n",
    "print(df_pruned.loc[idx_star])"
   ]
  },
  {
   "cell_type": "code",
   "execution_count": 141,
   "metadata": {},
   "outputs": [
    {
     "name": "stdout",
     "output_type": "stream",
     "text": [
      "GARMON002\n"
     ]
    }
   ],
   "source": [
    "id_star = df_pruned.loc[idx_star]['ID']\n",
    "print(id_star)"
   ]
  },
  {
   "cell_type": "code",
   "execution_count": 142,
   "metadata": {},
   "outputs": [],
   "source": [
    "df_id = df[df['ID'] == id_star]"
   ]
  },
  {
   "cell_type": "code",
   "execution_count": 143,
   "metadata": {},
   "outputs": [
    {
     "name": "stdout",
     "output_type": "stream",
     "text": [
      "                   DATEUTC         ID        LAT      LON  TEMPC  WINDDIR  \\\n",
      "0      2019-06-20 18:50:00  GARMON002  50.846792  4.75586   19.7      NaN   \n",
      "1      2019-06-20 18:55:00  GARMON002  50.846792  4.75586   19.4      NaN   \n",
      "2      2019-06-20 19:00:00  GARMON002  50.846792  4.75586   19.0      NaN   \n",
      "3      2019-06-20 19:05:00  GARMON002  50.846792  4.75586   18.6      NaN   \n",
      "4      2019-06-20 19:10:00  GARMON002  50.846792  4.75586   18.2      NaN   \n",
      "...                    ...        ...        ...      ...    ...      ...   \n",
      "63097  2020-02-02 23:35:00  GARMON002  50.846792  4.75586   11.0    212.0   \n",
      "63098  2020-02-02 23:40:00  GARMON002  50.846792  4.75586   11.0    193.0   \n",
      "63099  2020-02-02 23:45:00  GARMON002  50.846792  4.75586   11.0    197.0   \n",
      "63100  2020-02-02 23:50:00  GARMON002  50.846792  4.75586   11.0    196.0   \n",
      "63101  2020-02-02 23:55:00  GARMON002  50.846792  4.75586   11.0    196.0   \n",
      "\n",
      "       WINDSPEEDKMH  RAININ  SOLARRADIATION   UV  \n",
      "0              1.64     0.0           51.13  1.0  \n",
      "1              2.56     0.0           59.70  1.0  \n",
      "2              0.72     0.0           44.51  1.0  \n",
      "3              1.02     0.0           39.50  0.0  \n",
      "4              0.49     0.0           35.09  0.0  \n",
      "...             ...     ...             ...  ...  \n",
      "63097          6.18     0.0            0.00  0.0  \n",
      "63098          4.76     0.0            0.00  0.0  \n",
      "63099          4.59     0.0            0.00  0.0  \n",
      "63100          5.70     0.0            0.00  0.0  \n",
      "63101          5.37     0.0            0.00  0.0  \n",
      "\n",
      "[63102 rows x 10 columns]\n",
      "0        2019-06-20 18:50:00\n",
      "1        2019-06-20 18:55:00\n",
      "2        2019-06-20 19:00:00\n",
      "3        2019-06-20 19:05:00\n",
      "4        2019-06-20 19:10:00\n",
      "                ...         \n",
      "63097    2020-02-02 23:35:00\n",
      "63098    2020-02-02 23:40:00\n",
      "63099    2020-02-02 23:45:00\n",
      "63100    2020-02-02 23:50:00\n",
      "63101    2020-02-02 23:55:00\n",
      "Name: DATEUTC, Length: 63102, dtype: object\n"
     ]
    }
   ],
   "source": [
    "print(df_id)\n",
    "print(df_id['DATEUTC'])"
   ]
  },
  {
   "cell_type": "code",
   "execution_count": 144,
   "metadata": {},
   "outputs": [
    {
     "name": "stdout",
     "output_type": "stream",
     "text": [
      "                   DATEUTC         ID        LAT      LON  TEMPC  WINDDIR  \\\n",
      "51871  2019-12-26 00:00:00  GARMON002  50.846792  4.75586   -0.8     38.0   \n",
      "51872  2019-12-26 00:05:00  GARMON002  50.846792  4.75586   -1.0     34.0   \n",
      "51873  2019-12-26 00:10:00  GARMON002  50.846792  4.75586   -1.0     34.0   \n",
      "51874  2019-12-26 00:15:00  GARMON002  50.846792  4.75586   -0.9     34.0   \n",
      "51875  2019-12-26 00:20:00  GARMON002  50.846792  4.75586   -0.9     58.0   \n",
      "...                    ...        ...        ...      ...    ...      ...   \n",
      "52154  2019-12-26 23:35:00  GARMON002  50.846792  4.75586    7.4    121.0   \n",
      "52155  2019-12-26 23:40:00  GARMON002  50.846792  4.75586    7.4     74.0   \n",
      "52156  2019-12-26 23:45:00  GARMON002  50.846792  4.75586    7.4     90.0   \n",
      "52157  2019-12-26 23:50:00  GARMON002  50.846792  4.75586    7.3     84.0   \n",
      "52158  2019-12-26 23:55:00  GARMON002  50.846792  4.75586    7.3    108.0   \n",
      "\n",
      "       WINDSPEEDKMH    RAININ  SOLARRADIATION   UV  \n",
      "51871          0.00  0.000000             0.0  0.0  \n",
      "51872          0.00  0.000000             0.0  0.0  \n",
      "51873          0.00  0.000000             0.0  0.0  \n",
      "51874          0.00  0.000000             0.0  0.0  \n",
      "51875          0.00  0.000000             0.0  0.0  \n",
      "...             ...       ...             ...  ...  \n",
      "52154          0.08  0.000000             0.0  0.0  \n",
      "52155          0.00  0.042778             0.0  0.0  \n",
      "52156          0.00  0.070000             0.0  0.0  \n",
      "52157          0.02  0.077368             0.0  0.0  \n",
      "52158          0.00  0.070000             0.0  0.0  \n",
      "\n",
      "[288 rows x 10 columns]\n"
     ]
    }
   ],
   "source": [
    "df_date = df_id[df_id['DATEUTC'].str.contains(date_star)]\n",
    "print(df_date)"
   ]
  },
  {
   "cell_type": "code",
   "execution_count": 145,
   "metadata": {
    "scrolled": true
   },
   "outputs": [
    {
     "data": {
      "text/plain": [
       "Text(0.5, 0.98, 'GARMON002')"
      ]
     },
     "execution_count": 145,
     "metadata": {},
     "output_type": "execute_result"
    },
    {
     "data": {
      "image/png": "[encoded data removed]",
      "text/plain": [
       "<Figure size 432x288 with 1 Axes>"
      ]
     },
     "metadata": {
      "needs_background": "light"
     },
     "output_type": "display_data"
    }
   ],
   "source": [
    "fig, ax = plt.subplots(1, 1, sharex=True)\n",
    "ax.plot(df_date[quantity], label=quantity)\n",
    "ax.legend()\n",
    "ax.set_xlabel(date_star)\n",
    "ax.set_ylabel('quantity')\n",
    "ax.set_xticklabels(df_date['DATEUTC'].str.slice(start=11), rotation='vertical')\n",
    "start, end = ax.get_xlim()\n",
    "ax.xaxis.set_ticks(np.arange(start, end, 10))\n",
    "fig.suptitle(id_star)"
   ]
  },
  {
   "cell_type": "code",
   "execution_count": null,
   "metadata": {},
   "outputs": [],
   "source": []
  }
 ],
 "metadata": {
  "kernelspec": {
   "display_name": "Python 3",
   "language": "python",
   "name": "python3"
  },
  "language_info": {
   "codemirror_mode": {
    "name": "ipython",
    "version": 3
   },
   "file_extension": ".py",
   "mimetype": "text/x-python",
   "name": "python",
   "nbconvert_exporter": "python",
   "pygments_lexer": "ipython3",
   "version": "3.7.0"
  }
 },
 "nbformat": 4,
 "nbformat_minor": 4
}
