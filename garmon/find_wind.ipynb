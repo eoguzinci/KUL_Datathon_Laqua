{
 "cells": [
  {
   "cell_type": "code",
   "execution_count": 7,
   "metadata": {
    "pycharm": {
     "is_executing": true
    }
   },
   "outputs": [],
   "source": [
    "# import libraries\n",
    "import pandas as pd\n",
    "import numpy as np\n",
    "from matplotlib import pyplot as plt\n",
    "import seaborn as sns"
   ]
  },
  {
   "cell_type": "code",
   "execution_count": 8,
   "metadata": {},
   "outputs": [],
   "source": [
    "# read first n rows and columns\n",
    "filename = 'GarmonData.csv'\n",
    "\n",
    "df = pd.read_csv(filename, skiprows=0, usecols = ['DATEUTC','ID','LAT','LON','TEMPC','SOLARRADIATION','UV','WINDSPEEDKMH','WINDDIR','RAININ'])"
   ]
  },
  {
   "cell_type": "code",
   "execution_count": 9,
   "metadata": {},
   "outputs": [
    {
     "name": "stdout",
     "output_type": "stream",
     "text": [
      "                     DATEUTC         ID        LAT       LON  TEMPC  WINDDIR  \\\n",
      "0        2019-06-20 18:50:00  GARMON002  50.846792  4.755860   19.7      NaN   \n",
      "63102    2019-06-21 10:35:00  GARMON004  50.870755  4.685430   22.4      NaN   \n",
      "124098   2019-06-24 12:45:00  GARMON005  50.881346  4.712534   25.6      NaN   \n",
      "179994   2019-06-22 07:40:00  GARMON006  50.912292  4.715563   15.8      NaN   \n",
      "238472   2019-06-22 09:05:00  GARMON007  50.869166  4.704765   24.5      NaN   \n",
      "...                      ...        ...        ...       ...    ...      ...   \n",
      "3432659  2019-10-21 12:35:00  GARMON094  50.881952  4.702507   13.7    101.0   \n",
      "3462696  2020-01-16 12:25:00  GARMON096  50.885465  4.677504   16.6    264.0   \n",
      "3464375  2019-10-21 12:35:00  GARMON097  50.866657  4.710121   13.5     77.0   \n",
      "3494166  2019-10-21 12:35:00  GARMON098  50.882074  4.702959   13.7    101.0   \n",
      "3524203  2019-10-31 12:20:00  GARMON099  50.881479  4.714405   19.7    185.0   \n",
      "\n",
      "         WINDSPEEDKMH  RAININ  SOLARRADIATION   UV  \n",
      "0                1.64   0.000           51.13  1.0  \n",
      "63102            1.68   0.000          736.76  7.0  \n",
      "124098           0.00   0.210           35.49  0.0  \n",
      "179994           0.00   0.000            0.00  0.0  \n",
      "238472           0.00   0.000            0.00  0.0  \n",
      "...               ...     ...             ...  ...  \n",
      "3432659          3.93   0.000           82.08  1.0  \n",
      "3462696          0.10   0.056           60.37  1.0  \n",
      "3464375          0.91   0.000           97.83  1.0  \n",
      "3494166          3.93   0.000           82.08  1.0  \n",
      "3524203          0.00   0.000            0.00  0.0  \n",
      "\n",
      "[78 rows x 10 columns]\n",
      "               DATEUTC         ID        LAT      LON  TEMPC  WINDDIR  \\\n",
      "0  2019-06-20 18:50:00  GARMON002  50.846792  4.75586   19.7      NaN   \n",
      "\n",
      "   WINDSPEEDKMH  RAININ  SOLARRADIATION   UV  \n",
      "0          1.64     0.0           51.13  1.0  \n"
     ]
    }
   ],
   "source": [
    "df_pruned = df.drop_duplicates('ID')\n",
    "print(df_pruned)\n",
    "print(df_pruned[0:1])\n",
    "# print(df_pruned.dtypes)\n",
    "# print(df_pruned.index[0])"
   ]
  },
  {
   "cell_type": "code",
   "execution_count": 70,
   "metadata": {},
   "outputs": [
    {
     "name": "stdout",
     "output_type": "stream",
     "text": [
      "lat: 50.846792 - 50.937804\n",
      "lon: 4.654269 - 4.789127\n"
     ]
    }
   ],
   "source": [
    "lat_min = np.min(df['LAT'])\n",
    "lat_max = np.max(df['LAT'])\n",
    "lon_min = np.min(df['LON'])\n",
    "lon_max = np.max(df['LON'])\n",
    "print('lat: '+str(lat_min)+' - '+str(lat_max))\n",
    "print('lon: '+str(lon_min)+' - '+str(lon_max))"
   ]
  },
  {
   "cell_type": "code",
   "execution_count": 119,
   "metadata": {},
   "outputs": [],
   "source": [
    "lat_star = 50.884406\n",
    "lon_star = 4.693768\n",
    "date_star = '2019-08-04' \n",
    "quantity = 'WINDDIR'\n",
    "ith_closest = 4 # 0-4 choose one of the 5 closest"
   ]
  },
  {
   "cell_type": "code",
   "execution_count": 120,
   "metadata": {},
   "outputs": [
    {
     "name": "stdout",
     "output_type": "stream",
     "text": [
      "0          0.005270\n",
      "63102      0.000256\n",
      "124098     0.000362\n",
      "179994     0.001253\n",
      "238472     0.000353\n",
      "             ...   \n",
      "3432659    0.000082\n",
      "3462696    0.000266\n",
      "3464375    0.000582\n",
      "3494166    0.000090\n",
      "3524203    0.000434\n",
      "Length: 78, dtype: float64\n",
      "937657 724514\n",
      "DATEUTC           2019-07-06 13:30:00\n",
      "ID                          GARMON029\n",
      "LAT                           50.8838\n",
      "LON                           4.68821\n",
      "TEMPC                            32.2\n",
      "WINDDIR                           NaN\n",
      "WINDSPEEDKMH                        0\n",
      "RAININ                              0\n",
      "SOLARRADIATION                 166.09\n",
      "UV                                  1\n",
      "Name: 937657, dtype: object\n"
     ]
    }
   ],
   "source": [
    "dists = (df_pruned['LAT']-lat_star)**2 + (df_pruned['LON']-lon_star)**2\n",
    "print(dists)\n",
    "idxs_ = dists.nsmallest(5).index\n",
    "#idx_star = dists.idxmin() #choose one of the closest instead\n",
    "idx_star = idxs_[ith_closest]\n",
    "print(idx_star, idxs_[0])\n",
    "print(df_pruned.loc[idx_star])"
   ]
  },
  {
   "cell_type": "code",
   "execution_count": 121,
   "metadata": {},
   "outputs": [
    {
     "name": "stdout",
     "output_type": "stream",
     "text": [
      "GARMON029\n"
     ]
    }
   ],
   "source": [
    "id_star = df_pruned.loc[idx_star]['ID']\n",
    "print(id_star)"
   ]
  },
  {
   "cell_type": "code",
   "execution_count": 122,
   "metadata": {},
   "outputs": [],
   "source": [
    "df_id = df[df['ID'] == id_star]"
   ]
  },
  {
   "cell_type": "code",
   "execution_count": 123,
   "metadata": {},
   "outputs": [
    {
     "name": "stdout",
     "output_type": "stream",
     "text": [
      "                    DATEUTC         ID        LAT       LON  TEMPC  WINDDIR  \\\n",
      "937657  2019-07-06 13:30:00  GARMON029  50.883836  4.688209   32.2      NaN   \n",
      "937658  2019-07-06 13:35:00  GARMON029  50.883836  4.688209   32.3      NaN   \n",
      "937659  2019-07-06 13:40:00  GARMON029  50.883836  4.688209   32.4      NaN   \n",
      "937660  2019-07-06 13:45:00  GARMON029  50.883836  4.688209   32.4      NaN   \n",
      "937661  2019-07-06 13:50:00  GARMON029  50.883836  4.688209   32.4      NaN   \n",
      "...                     ...        ...        ...       ...    ...      ...   \n",
      "979148  2020-02-02 23:35:00  GARMON029  50.883836  4.688209   10.8    241.0   \n",
      "979149  2020-02-02 23:40:00  GARMON029  50.883836  4.688209   10.8    232.0   \n",
      "979150  2020-02-02 23:45:00  GARMON029  50.883836  4.688209   10.8    241.0   \n",
      "979151  2020-02-02 23:50:00  GARMON029  50.883836  4.688209   10.8    268.0   \n",
      "979152  2020-02-02 23:55:00  GARMON029  50.883836  4.688209   10.8    233.0   \n",
      "\n",
      "        WINDSPEEDKMH  RAININ  SOLARRADIATION   UV  \n",
      "937657          0.00     0.0          166.09  1.0  \n",
      "937658          0.00     0.0          137.04  1.0  \n",
      "937659          0.00     0.0          130.06  1.0  \n",
      "937660          0.06     0.0           94.42  1.0  \n",
      "937661          0.00     0.0           37.45  1.0  \n",
      "...              ...     ...             ...  ...  \n",
      "979148          1.40     0.0            0.96  0.0  \n",
      "979149          0.68     0.0            1.00  0.0  \n",
      "979150          1.84     0.0            1.04  0.0  \n",
      "979151          0.60     0.0            1.06  0.0  \n",
      "979152          1.34     0.0            1.08  0.0  \n",
      "\n",
      "[41496 rows x 10 columns]\n",
      "937657    2019-07-06 13:30:00\n",
      "937658    2019-07-06 13:35:00\n",
      "937659    2019-07-06 13:40:00\n",
      "937660    2019-07-06 13:45:00\n",
      "937661    2019-07-06 13:50:00\n",
      "                 ...         \n",
      "979148    2020-02-02 23:35:00\n",
      "979149    2020-02-02 23:40:00\n",
      "979150    2020-02-02 23:45:00\n",
      "979151    2020-02-02 23:50:00\n",
      "979152    2020-02-02 23:55:00\n",
      "Name: DATEUTC, Length: 41496, dtype: object\n"
     ]
    }
   ],
   "source": [
    "print(df_id)\n",
    "print(df_id['DATEUTC'])"
   ]
  },
  {
   "cell_type": "code",
   "execution_count": 124,
   "metadata": {},
   "outputs": [
    {
     "name": "stdout",
     "output_type": "stream",
     "text": [
      "                    DATEUTC         ID        LAT       LON  TEMPC  WINDDIR  \\\n",
      "940542  2019-08-04 00:00:00  GARMON029  50.883836  4.688209   16.0      NaN   \n",
      "940543  2019-08-04 00:05:00  GARMON029  50.883836  4.688209   15.9      NaN   \n",
      "940544  2019-08-04 00:10:00  GARMON029  50.883836  4.688209   15.8      NaN   \n",
      "940545  2019-08-04 00:15:00  GARMON029  50.883836  4.688209   15.8      NaN   \n",
      "940546  2019-08-04 00:20:00  GARMON029  50.883836  4.688209   15.7      NaN   \n",
      "...                     ...        ...        ...       ...    ...      ...   \n",
      "940650  2019-08-04 23:05:00  GARMON029  50.883836  4.688209   21.9      NaN   \n",
      "940651  2019-08-04 23:10:00  GARMON029  50.883836  4.688209   21.9      NaN   \n",
      "940652  2019-08-04 23:45:00  GARMON029  50.883836  4.688209   21.9      NaN   \n",
      "940653  2019-08-04 23:50:00  GARMON029  50.883836  4.688209   21.9      NaN   \n",
      "940654  2019-08-04 23:55:00  GARMON029  50.883836  4.688209   21.9      NaN   \n",
      "\n",
      "        WINDSPEEDKMH  RAININ  SOLARRADIATION   UV  \n",
      "940542           0.0     0.0             0.0  0.0  \n",
      "940543           0.0     0.0             0.0  0.0  \n",
      "940544           0.0     0.0             0.0  0.0  \n",
      "940545           0.0     0.0             0.0  0.0  \n",
      "940546           0.0     0.0             0.0  0.0  \n",
      "...              ...     ...             ...  ...  \n",
      "940650           0.0     0.0             0.0  0.0  \n",
      "940651           0.0     0.0             0.0  0.0  \n",
      "940652           0.0     0.0             0.0  0.0  \n",
      "940653           0.0     0.0             0.0  0.0  \n",
      "940654           0.0     0.0             0.0  0.0  \n",
      "\n",
      "[113 rows x 10 columns]\n"
     ]
    }
   ],
   "source": [
    "df_date = df_id[df_id['DATEUTC'].str.contains(date_star)]\n",
    "print(df_date)"
   ]
  },
  {
   "cell_type": "code",
   "execution_count": 125,
   "metadata": {
    "scrolled": true
   },
   "outputs": [
    {
     "data": {
      "text/plain": [
       "Text(0.5, 0.98, 'GARMON029')"
      ]
     },
     "execution_count": 125,
     "metadata": {},
     "output_type": "execute_result"
    },
    {
     "data": {
      "image/png": "[encoded data removed]",
      "text/plain": [
       "<Figure size 432x288 with 1 Axes>"
      ]
     },
     "metadata": {
      "needs_background": "light"
     },
     "output_type": "display_data"
    }
   ],
   "source": [
    "fig, ax = plt.subplots(1, 1, sharex=True)\n",
    "ax.plot(df_date[quantity], label=quantity)\n",
    "ax.legend()\n",
    "ax.set_xlabel(date_star)\n",
    "ax.set_ylabel('amplitude')\n",
    "ax.set_xticklabels(df_date['DATEUTC'].str.slice(start=11), rotation='vertical')\n",
    "start, end = ax.get_xlim()\n",
    "ax.xaxis.set_ticks(np.arange(start, end, 10))\n",
    "fig.suptitle(id_star)"
   ]
  },
  {
   "cell_type": "code",
   "execution_count": 126,
   "metadata": {},
   "outputs": [
    {
     "name": "stdout",
     "output_type": "stream",
     "text": [
      "940542    00:00:00\n",
      "940543    00:05:00\n",
      "940544    00:10:00\n",
      "940545    00:15:00\n",
      "940546    00:20:00\n",
      "            ...   \n",
      "940650    23:05:00\n",
      "940651    23:10:00\n",
      "940652    23:45:00\n",
      "940653    23:50:00\n",
      "940654    23:55:00\n",
      "Name: DATEUTC, Length: 113, dtype: object\n"
     ]
    }
   ],
   "source": [
    "print(df_date['DATEUTC'].str.slice(start=11))"
   ]
  },
  {
   "cell_type": "code",
   "execution_count": null,
   "metadata": {},
   "outputs": [],
   "source": []
  }
 ],
 "metadata": {
  "kernelspec": {
   "display_name": "Python 3",
   "language": "python",
   "name": "python3"
  },
  "language_info": {
   "codemirror_mode": {
    "name": "ipython",
    "version": 3
   },
   "file_extension": ".py",
   "mimetype": "text/x-python",
   "name": "python",
   "nbconvert_exporter": "python",
   "pygments_lexer": "ipython3",
   "version": "3.7.0"
  }
 },
 "nbformat": 4,
 "nbformat_minor": 4
}
