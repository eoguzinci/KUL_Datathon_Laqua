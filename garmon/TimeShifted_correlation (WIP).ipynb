{
 "cells": [
  {
   "cell_type": "code",
   "execution_count": 24,
   "metadata": {},
   "outputs": [],
   "source": [
    "# import libraries\n",
    "import pandas as pd\n",
    "import numpy as np\n",
    "from matplotlib import pyplot as plt\n",
    "import seaborn as sns"
   ]
  },
  {
   "cell_type": "code",
   "execution_count": 25,
   "metadata": {},
   "outputs": [],
   "source": [
    "# read first n rows and columns\n",
    "filename = 'GarmonData.csv'\n",
    "df = pd.read_csv(filename, skiprows=0, usecols = ['TEMPC','SOLARRADIATION','WINDSPEEDKMH','RAININ'])"
   ]
  },
  {
   "cell_type": "code",
   "execution_count": 26,
   "metadata": {},
   "outputs": [
    {
     "name": "stdout",
     "output_type": "stream",
     "text": [
      "         TEMPC  WINDSPEEDKMH  RAININ  SOLARRADIATION\n",
      "0         19.7          1.64     0.0           51.13\n",
      "1         19.4          2.56     0.0           59.70\n",
      "2         19.0          0.72     0.0           44.51\n",
      "3         18.6          1.02     0.0           39.50\n",
      "4         18.2          0.49     0.0           35.09\n",
      "...        ...           ...     ...             ...\n",
      "3549836   11.4          4.03     0.0            0.00\n",
      "3549837   11.4          2.61     0.0            0.00\n",
      "3549838   11.4          5.09     0.0            0.00\n",
      "3549839   11.4          4.23     0.0            0.00\n",
      "3549840   11.4          5.29     0.0            0.00\n",
      "\n",
      "[3549841 rows x 4 columns]\n",
      "0          19.7\n",
      "1          19.4\n",
      "2          19.0\n",
      "3          18.6\n",
      "4          18.2\n",
      "           ... \n",
      "3549836    11.4\n",
      "3549837    11.4\n",
      "3549838    11.4\n",
      "3549839    11.4\n",
      "3549840    11.4\n",
      "Name: TEMPC, Length: 3549841, dtype: float64\n"
     ]
    }
   ],
   "source": [
    "df_0 = df[0:-1]\n",
    "print(df_0)\n",
    "print(df['TEMPC'][0:-1])"
   ]
  },
  {
   "cell_type": "code",
   "execution_count": 27,
   "metadata": {},
   "outputs": [
    {
     "name": "stdout",
     "output_type": "stream",
     "text": [
      "[19.4 19.  18.6 ... 11.4 11.4 11.4]\n"
     ]
    }
   ],
   "source": [
    "print(df['TEMPC'][1:].to_numpy())"
   ]
  },
  {
   "cell_type": "code",
   "execution_count": 28,
   "metadata": {},
   "outputs": [
    {
     "name": "stdout",
     "output_type": "stream",
     "text": [
      "         TEMPC  TEMPC+1  RAININ  RAININ+1  SOLARRADIATION  SOLARRADIATION+1\n",
      "0         19.7     19.4     0.0       0.0           51.13             59.70\n",
      "1         19.4     19.0     0.0       0.0           59.70             44.51\n",
      "2         19.0     18.6     0.0       0.0           44.51             39.50\n",
      "3         18.6     18.2     0.0       0.0           39.50             35.09\n",
      "4         18.2     17.9     0.0       0.0           35.09             31.34\n",
      "...        ...      ...     ...       ...             ...               ...\n",
      "3549836   11.4     11.4     0.0       0.0            0.00              0.00\n",
      "3549837   11.4     11.4     0.0       0.0            0.00              0.00\n",
      "3549838   11.4     11.4     0.0       0.0            0.00              0.00\n",
      "3549839   11.4     11.4     0.0       0.0            0.00              0.00\n",
      "3549840   11.4     11.4     0.0       0.0            0.00              0.00\n",
      "\n",
      "[3549841 rows x 6 columns]\n"
     ]
    }
   ],
   "source": [
    "df_next = df_0.copy()\n",
    "df_next['TEMPC+1'] = pd.Series(df['TEMPC'][1:].to_numpy(), index=df_0.index)\n",
    "df_next['RAININ+1'] = pd.Series(df['RAININ'][1:].to_numpy(), index=df_0.index)\n",
    "df_next['SOLARRADIATION+1'] = pd.Series(df['SOLARRADIATION'][1:].to_numpy(), index=df_0.index)\n",
    "df_next = df_next[['TEMPC', 'TEMPC+1', 'RAININ', 'RAININ+1', 'SOLARRADIATION', 'SOLARRADIATION+1']]\n",
    "print(df_next)\n",
    "# pd.Series(np.random.randn(sLength), index=df1.index)"
   ]
  },
  {
   "cell_type": "code",
   "execution_count": 29,
   "metadata": {},
   "outputs": [
    {
     "data": {
      "image/png": "[encoded data removed]",
      "text/plain": [
       "<Figure size 432x288 with 2 Axes>"
      ]
     },
     "metadata": {
      "needs_background": "light"
     },
     "output_type": "display_data"
    }
   ],
   "source": [
    "# create correlation matrix\n",
    "corr = df_next.corr()\n",
    "# plot correlation matrix for all the data\n",
    "ax = sns.heatmap(\n",
    "    corr, \n",
    "    vmin=-1, vmax=1, center=0,\n",
    "    cmap=sns.diverging_palette(20, 220, n=200),\n",
    "    square=True\n",
    ")\n",
    "ax.set_xticklabels(\n",
    "    ax.get_xticklabels(),\n",
    "    rotation=90,\n",
    "    horizontalalignment='center'\n",
    ");"
   ]
  },
  {
   "cell_type": "code",
   "execution_count": null,
   "metadata": {},
   "outputs": [],
   "source": []
  }
 ],
 "metadata": {
  "kernelspec": {
   "display_name": "Python 3",
   "language": "python",
   "name": "python3"
  },
  "language_info": {
   "codemirror_mode": {
    "name": "ipython",
    "version": 3
   },
   "file_extension": ".py",
   "mimetype": "text/x-python",
   "name": "python",
   "nbconvert_exporter": "python",
   "pygments_lexer": "ipython3",
   "version": "3.7.0"
  }
 },
 "nbformat": 4,
 "nbformat_minor": 4
}
