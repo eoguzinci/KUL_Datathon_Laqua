{
 "cells": [
  {
   "cell_type": "code",
   "execution_count": 1,
   "metadata": {
    "pycharm": {
     "is_executing": false
    }
   },
   "outputs": [],
   "source": [
    "# import libraries\n",
    "import pandas as pd\n",
    "import numpy as np\n",
    "from matplotlib import pyplot as plt\n",
    "import seaborn as sns"
   ]
  },
  {
   "cell_type": "code",
   "execution_count": 3,
   "metadata": {},
   "outputs": [],
   "source": [
    "# read first n rows and columns\n",
    "filename = 'GarmonData.csv'\n",
    "# lets read the data for a week of GARMON002 sensory data\n",
    "dataFreq = 5; minperweek = 60*24*7; \n",
    "nrows_ = int(minperweek/dataFreq)\n",
    "\n",
    "# read all GARMON002 data\n",
    "dframe1 = pd.read_csv(filename, skiprows=0, usecols = ['DATEUTC','ID','TEMPC','SOLARRADIATION','UV','WINDSPEEDKMH','RAININ'])\n",
    "dframe1 = dframe1[dframe1['ID']=='GARMON002']\n",
    "\n",
    "\n",
    "# read timestamp of the measurement (end of the 5-min interval)\n",
    "# dframe2 = pd.read_csv(filename, skiprows=0, nrows = nrows_, usecols = ['DATEUTC'])\n",
    "dframe2 = dframe1['DATEUTC']\n",
    "dframe1 = dframe1[['TEMPC','SOLARRADIATION','UV','WINDSPEEDKMH','RAININ']]\n",
    "varlist = list(dframe1.columns)"
   ]
  },
  {
   "cell_type": "code",
   "execution_count": 8,
   "metadata": {},
   "outputs": [],
   "source": [
    "df = pd.read_csv(filename, skiprows=0, usecols = ['ID','LAT','LON'])"
   ]
  },
  {
   "cell_type": "code",
   "execution_count": 30,
   "metadata": {},
   "outputs": [
    {
     "name": "stdout",
     "output_type": "stream",
     "text": [
      "                ID        LAT       LON\n",
      "0        GARMON002  50.846792  4.755860\n",
      "63102    GARMON004  50.870755  4.685430\n",
      "124098   GARMON005  50.881346  4.712534\n",
      "179994   GARMON006  50.912292  4.715563\n",
      "238472   GARMON007  50.869166  4.704765\n",
      "...            ...        ...       ...\n",
      "3432659  GARMON094  50.881952  4.702507\n",
      "3462696  GARMON096  50.885465  4.677504\n",
      "3464375  GARMON097  50.866657  4.710121\n",
      "3494166  GARMON098  50.882074  4.702959\n",
      "3524203  GARMON099  50.881479  4.714405\n",
      "\n",
      "[78 rows x 3 columns]\n",
      "          ID        LAT      LON\n",
      "0  GARMON002  50.846792  4.75586\n"
     ]
    }
   ],
   "source": [
    "df_pruned = df.drop_duplicates('ID')\n",
    "print(df_pruned)\n",
    "print(df_pruned[0:1])\n",
    "# print(df_pruned.dtypes)\n",
    "# print(df_pruned.index[0])"
   ]
  },
  {
   "cell_type": "code",
   "execution_count": 35,
   "metadata": {},
   "outputs": [
    {
     "name": "stdout",
     "output_type": "stream",
     "text": [
      "lat: 50.846792 - 50.937804\n",
      "lon: 4.654269 - 4.789127\n"
     ]
    }
   ],
   "source": [
    "lat_min = np.min(df['LAT'])\n",
    "lat_max = np.max(df['LAT'])\n",
    "lon_min = np.min(df['LON'])\n",
    "lon_max = np.max(df['LON'])\n",
    "print('lat: '+str(lat_min)+' - '+str(lat_max))\n",
    "print('lon: '+str(lon_min)+' - '+str(lon_max))"
   ]
  },
  {
   "cell_type": "code",
   "execution_count": 36,
   "metadata": {},
   "outputs": [],
   "source": [
    "lat_star = 50.85\n",
    "lon_star = 4.7"
   ]
  },
  {
   "cell_type": "code",
   "execution_count": 44,
   "metadata": {},
   "outputs": [
    {
     "name": "stdout",
     "output_type": "stream",
     "text": [
      "0          0.003131\n",
      "63102      0.000643\n",
      "124098     0.001140\n",
      "179994     0.004123\n",
      "238472     0.000390\n",
      "             ...   \n",
      "3432659    0.001027\n",
      "3462696    0.001764\n",
      "3464375    0.000380\n",
      "3494166    0.001037\n",
      "3524203    0.001198\n",
      "Length: 78, dtype: float64\n",
      "1038596\n",
      "ID     GARMON031\n",
      "LAT      50.8575\n",
      "LON      4.70453\n",
      "Name: 1038596, dtype: object\n"
     ]
    }
   ],
   "source": [
    "dists = (df_pruned['LAT']-lat_star)**2 + (df_pruned['LON']-lon_star)**2\n",
    "print(dists)\n",
    "idx_star = dists.idxmin()\n",
    "print(idx_star)\n",
    "print(df_pruned.loc[idx_star])"
   ]
  },
  {
   "cell_type": "code",
   "execution_count": null,
   "metadata": {},
   "outputs": [],
   "source": []
  }
 ],
 "metadata": {
  "kernelspec": {
   "display_name": "Python 3",
   "language": "python",
   "name": "python3"
  },
  "language_info": {
   "codemirror_mode": {
    "name": "ipython",
    "version": 3
   },
   "file_extension": ".py",
   "mimetype": "text/x-python",
   "name": "python",
   "nbconvert_exporter": "python",
   "pygments_lexer": "ipython3",
   "version": "3.7.0"
  }
 },
 "nbformat": 4,
 "nbformat_minor": 4
}