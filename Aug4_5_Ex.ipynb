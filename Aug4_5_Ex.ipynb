{
 "cells": [
  {
   "cell_type": "code",
   "execution_count": 1,
   "metadata": {},
   "outputs": [],
   "source": [
    "# imports\n",
    "import json\n",
    "import gmaps\n",
    "import numpy as np\n",
    "import pandas as pd\n",
    "import datetime as dtt\n",
    "import ipywidgets as widgets\n",
    "\n",
    "from leuvenair.myutils.utility import readJson, getSensorData, interpolate1D, getSensorInterpolatedData \n",
    "from leuvenair.myutils.gmap_utils import get_gmap_figure, get_closest_idx\n",
    "\n",
    "%matplotlib inline\n",
    "from matplotlib import pyplot as plt\n",
    "\n",
    "%load_ext autoreload\n",
    "%autoreload 2"
   ]
  },
  {
   "cell_type": "code",
   "execution_count": 2,
   "metadata": {},
   "outputs": [
    {
     "name": "stdout",
     "output_type": "stream",
     "text": [
      "Note: sensors 8799 and 8827 are repeated in the json file!\n",
      "All keys in the leuvenair json file are:  dict_keys(['SDS011ID', 'DHTID', 'EXPORT', 'LAT', 'LON', 'STREET', 'POSTALCODE', 'CITY', 'HEIGHT', 'SENSOR_POSITION', 'INDUSTRY', 'WOODSTOVES', 'TRAFFIC', 'SVL', 'NO2_CN'])\n"
     ]
    }
   ],
   "source": [
    "# read all the leuvenair sensor latitudes and longitudes\n",
    "# Note: fields which are not available are specified -9999\n",
    "sensor_la = readJson('./leuvenair/LEUVENAIRmeta_final.json')\n",
    "LAT_la = sensor_la['LAT']\n",
    "LON_la = sensor_la['LON']\n",
    "print('All keys in the leuvenair json file are: ',sensor_la.keys())"
   ]
  },
  {
   "cell_type": "code",
   "execution_count": 3,
   "metadata": {},
   "outputs": [
    {
     "name": "stdout",
     "output_type": "stream",
     "text": [
      "All variable names in the leuvenair datadump are : ['DATEUTC', 'LAT', 'LON', 'SDS011ID', 'PM2.5', 'PM10', 'DHTID', 'TEMPERATURE', 'HUMIDITY', 'OBSID']\n"
     ]
    }
   ],
   "source": [
    "# Get all the field names in the leuvenair datadump\n",
    "varname = list(pd.read_csv('./leuvenair/LEUVENAIRfulldump2019.csv', skiprows=0, nrows = 0, usecols = None).columns)\n",
    "print('All variable names in the leuvenair datadump are :', varname)"
   ]
  },
  {
   "cell_type": "code",
   "execution_count": 4,
   "metadata": {},
   "outputs": [
    {
     "name": "stdout",
     "output_type": "stream",
     "text": [
      "Note: sensors 8799 and 8827 are repeated in the json file!\n",
      "The complete pandas frame has shape  (13984608, 10)\n",
      "sensor: 6561  1st obs: 2019-01-01 00:01:07  last: 2019-12-31 23:59:37 median dt:  2  min, total obs: 236287\n",
      "sensor: 8745  1st obs: 2019-01-01 00:01:06  last: 2019-12-31 23:59:47 median dt:  2  min, total obs: 188253\n",
      "sensor: 8765  1st obs: 2019-01-01 00:01:30  last: 2019-12-31 23:59:52 median dt:  2  min, total obs: 192953\n",
      "sensor: 8769  1st obs: 2019-01-01 00:00:52  last: 2019-12-31 23:58:53 median dt:  2  min, total obs: 184062\n",
      "sensor: 8773  1st obs: 2019-01-20 02:37:25  last: 2019-12-31 23:59:00 median dt:  2  min, total obs: 139201\n",
      "sensor: 8775 did not record any observation.\n",
      "sensor: 8777  1st obs: 2019-01-01 00:00:46  last: 2019-12-31 23:58:07 median dt:  2  min, total obs: 189325\n",
      "sensor: 8779 did not record any observation.\n",
      "sensor: 8781  1st obs: 2019-01-01 00:00:43  last: 2019-10-13 12:10:43 median dt:  2  min, total obs: 137546\n",
      "sensor: 8783  1st obs: 2019-01-03 06:35:16  last: 2019-09-20 19:31:36 median dt:  2  min, total obs: 41451\n",
      "sensor: 8785  1st obs: 2019-01-01 00:00:03  last: 2019-09-03 09:32:08 median dt:  2  min, total obs: 114531\n",
      "sensor: 8787  1st obs: 2019-01-01 00:01:27  last: 2019-07-01 19:52:07 median dt:  2  min, total obs: 41606\n",
      "sensor: 8789  1st obs: 2019-01-01 00:40:42  last: 2019-12-31 23:57:45 median dt:  2  min, total obs: 139897\n",
      "sensor: 8791  1st obs: 2019-01-01 00:03:50  last: 2019-12-31 23:59:02 median dt:  2  min, total obs: 189963\n",
      "sensor: 8793 did not record any observation.\n",
      "sensor: 8795  1st obs: 2019-01-01 00:01:04  last: 2019-07-13 08:46:10 median dt:  2  min, total obs: 106879\n",
      "sensor: 8797  1st obs: 2019-01-01 00:01:22  last: 2019-12-31 23:58:07 median dt:  2  min, total obs: 198520\n",
      "sensor: 8799  1st obs: 2019-01-10 16:50:37  last: 2019-12-31 12:02:08 median dt:  2  min, total obs: 112248\n",
      "sensor: 8801  1st obs: 2019-01-01 00:02:28  last: 2019-01-11 20:21:55 median dt:  2  min, total obs: 5698\n",
      "sensor: 8803  1st obs: 2019-01-01 00:00:26  last: 2019-12-31 23:57:45 median dt:  2  min, total obs: 180498\n",
      "sensor: 8805  1st obs: 2019-01-01 00:00:45  last: 2019-12-18 10:09:26 median dt:  2  min, total obs: 192297\n",
      "sensor: 8807 did not record any observation.\n",
      "sensor: 8809  1st obs: 2019-01-01 00:00:09  last: 2019-01-29 20:37:36 median dt:  2  min, total obs: 16275\n",
      "sensor: 8811  1st obs: 2019-01-01 00:02:18  last: 2019-12-31 23:59:16 median dt:  2  min, total obs: 52647\n",
      "sensor: 8813  1st obs: 2019-01-01 00:00:25  last: 2019-12-31 23:57:52 median dt:  2  min, total obs: 196518\n",
      "sensor: 8815 did not record any observation.\n",
      "sensor: 8817 did not record any observation.\n",
      "sensor: 8819  1st obs: 2019-01-01 00:00:36  last: 2019-12-31 23:59:50 median dt:  2  min, total obs: 176210\n",
      "sensor: 8821  1st obs: 2019-01-01 00:00:57  last: 2019-12-31 23:57:53 median dt:  2  min, total obs: 204702\n",
      "sensor: 8823  1st obs: 2019-01-01 00:02:05  last: 2019-12-31 23:58:55 median dt:  2  min, total obs: 187356\n",
      "sensor: 8825  1st obs: 2019-01-01 00:34:21  last: 2019-12-27 09:13:03 median dt:  2  min, total obs: 74579\n",
      "sensor: 8827  1st obs: 2019-01-01 00:01:45  last: 2019-12-31 23:57:54 median dt:  2  min, total obs: 178683\n",
      "sensor: 8829  1st obs: 2019-01-01 00:01:09  last: 2019-12-31 23:58:00 median dt:  2  min, total obs: 201911\n",
      "sensor: 8831  1st obs: 2019-01-01 00:01:27  last: 2019-11-23 12:51:25 median dt:  2  min, total obs: 127145\n",
      "sensor: 8833  1st obs: 2019-01-01 00:01:53  last: 2019-12-31 23:43:06 median dt:  2  min, total obs: 113880\n",
      "sensor: 8835  1st obs: 2019-01-01 00:02:17  last: 2019-12-31 23:59:43 median dt:  2  min, total obs: 190763\n",
      "sensor: 8837  1st obs: 2019-01-01 00:02:05  last: 2019-12-31 13:54:30 median dt:  2  min, total obs: 190220\n",
      "sensor: 8839  1st obs: 2019-01-01 00:00:31  last: 2019-12-31 23:59:52 median dt:  2  min, total obs: 197542\n",
      "sensor: 8841  1st obs: 2019-01-01 00:01:58  last: 2019-12-31 23:58:58 median dt:  2  min, total obs: 128354\n",
      "sensor: 8843 did not record any observation.\n",
      "sensor: 8845  1st obs: 2019-01-01 00:01:04  last: 2019-12-31 23:57:54 median dt:  2  min, total obs: 201978\n",
      "sensor: 8849  1st obs: 2019-01-01 00:00:14  last: 2019-12-31 23:57:57 median dt:  2  min, total obs: 202572\n",
      "sensor: 8853  1st obs: 2019-01-01 00:01:02  last: 2019-12-31 23:58:13 median dt:  2  min, total obs: 194489\n",
      "sensor: 8855 did not record any observation.\n",
      "sensor: 8857  1st obs: 2019-01-01 00:03:20  last: 2019-08-04 23:58:08 median dt:  2  min, total obs: 119891\n",
      "sensor: 8859  1st obs: 2019-01-01 00:00:59  last: 2019-12-31 23:59:49 median dt:  2  min, total obs: 198669\n",
      "sensor: 8950  1st obs: 2019-01-01 00:02:09  last: 2019-03-10 14:51:05 median dt:  2  min, total obs: 37067\n",
      "sensor: 8993  1st obs: 2019-01-01 00:01:26  last: 2019-12-31 23:58:40 median dt:  2  min, total obs: 201913\n",
      "sensor: 9555  1st obs: 2019-01-01 00:00:49  last: 2019-04-20 11:37:07 median dt:  2  min, total obs: 35925\n",
      "sensor: 9559 did not record any observation.\n",
      "sensor: 9561 did not record any observation.\n",
      "sensor: 9563  1st obs: 2019-01-01 00:00:04  last: 2019-12-31 23:57:38 median dt:  2  min, total obs: 189648\n",
      "sensor: 9565 did not record any observation.\n",
      "sensor: 9567  1st obs: 2019-01-01 00:00:05  last: 2019-12-31 23:58:11 median dt:  2  min, total obs: 204057\n",
      "sensor: 9569  1st obs: 2019-01-01 00:02:06  last: 2019-12-31 23:58:38 median dt:  2  min, total obs: 195265\n",
      "sensor: 9571  1st obs: 2019-01-01 00:00:32  last: 2019-12-30 14:14:34 median dt:  2  min, total obs: 191795\n",
      "sensor: 9577  1st obs: 2019-01-01 00:05:51  last: 2019-12-31 23:59:57 median dt:  2  min, total obs: 162514\n",
      "sensor: 9579  1st obs: 2019-01-01 00:02:31  last: 2019-12-31 23:54:27 median dt:  2  min, total obs: 187045\n",
      "sensor: 9583 did not record any observation.\n",
      "sensor: 9585  1st obs: 2019-01-01 00:48:26  last: 2019-12-31 23:51:19 median dt:  2  min, total obs: 159745\n",
      "sensor: 9587  1st obs: 2019-01-01 00:00:02  last: 2019-12-31 23:58:40 median dt:  2  min, total obs: 206327\n",
      "sensor: 9589 did not record any observation.\n",
      "sensor: 9591  1st obs: 2019-01-01 00:00:08  last: 2019-06-23 11:59:19 median dt:  2  min, total obs: 74532\n",
      "sensor: 9593  1st obs: 2019-01-01 00:00:55  last: 2019-12-31 23:58:34 median dt:  2  min, total obs: 129917\n",
      "sensor: 9595 did not record any observation.\n",
      "sensor: 9597  1st obs: 2019-01-01 00:00:49  last: 2019-12-31 23:57:53 median dt:  2  min, total obs: 206677\n",
      "sensor: 9599 did not record any observation.\n",
      "sensor: 9601 did not record any observation.\n",
      "sensor: 9603 did not record any observation.\n",
      "sensor: 9605  1st obs: 2019-01-01 00:02:08  last: 2019-04-20 09:39:07 median dt:  2  min, total obs: 57333\n",
      "sensor: 9609  1st obs: 2019-01-01 00:00:45  last: 2019-10-29 09:59:40 median dt:  2  min, total obs: 159266\n",
      "sensor: 9611  1st obs: 2019-01-01 00:01:24  last: 2019-12-31 23:58:01 median dt:  2  min, total obs: 117125\n",
      "sensor: 9613  1st obs: 2019-09-29 16:42:50  last: 2019-12-31 23:59:01 median dt:  2  min, total obs: 48653\n",
      "sensor: 9619  1st obs: 2019-01-01 00:01:30  last: 2019-12-21 15:12:24 median dt:  2  min, total obs: 196450\n",
      "sensor: 9621  1st obs: 2019-01-01 00:01:40  last: 2019-12-31 23:58:55 median dt:  2  min, total obs: 197757\n",
      "sensor: 9623  1st obs: 2019-01-01 00:00:46  last: 2019-07-19 14:40:41 median dt:  2  min, total obs: 99624\n",
      "sensor: 9625  1st obs: 2019-01-01 00:01:26  last: 2019-11-29 09:48:02 median dt:  2  min, total obs: 182907\n",
      "sensor: 9629  1st obs: 2019-07-21 14:49:22  last: 2019-12-31 23:58:28 median dt:  2  min, total obs: 49946\n",
      "sensor: 9631 did not record any observation.\n",
      "sensor: 9633  1st obs: 2019-01-01 00:02:11  last: 2019-12-04 16:11:40 median dt:  2  min, total obs: 167612\n",
      "sensor: 9635  1st obs: 2019-01-01 00:02:23  last: 2019-12-31 23:58:47 median dt:  2  min, total obs: 204590\n",
      "sensor: 9637  1st obs: 2019-01-01 00:00:28  last: 2019-12-31 23:57:44 median dt:  2  min, total obs: 200061\n",
      "sensor: 9639 did not record any observation.\n",
      "sensor: 9643  1st obs: 2019-01-01 00:01:51  last: 2019-12-31 23:58:37 median dt:  2  min, total obs: 192687\n",
      "sensor: 9753  1st obs: 2019-01-01 00:01:21  last: 2019-12-31 23:58:08 median dt:  2  min, total obs: 204929\n",
      "sensor: 9801  1st obs: 2019-01-01 00:00:58  last: 2019-12-31 23:58:58 median dt:  2  min, total obs: 194999\n",
      "sensor: 9812  1st obs: 2019-01-01 00:00:31  last: 2019-12-31 23:17:08 median dt:  2  min, total obs: 203787\n"
     ]
    },
    {
     "name": "stdout",
     "output_type": "stream",
     "text": [
      "sensor: 9825  1st obs: 2019-01-01 00:01:51  last: 2019-12-31 23:58:31 median dt:  2  min, total obs: 145450\n",
      "sensor: 10045  1st obs: 2019-01-01 00:00:11  last: 2019-12-31 23:59:55 median dt:  2  min, total obs: 204151\n",
      "sensor: 10739 did not record any observation.\n",
      "sensor: 10741  1st obs: 2019-01-05 09:48:27  last: 2019-12-03 09:33:40 median dt:  2  min, total obs: 178224\n",
      "sensor: 11201 did not record any observation.\n",
      "sensor: 11529  1st obs: 2019-01-01 00:01:54  last: 2019-12-31 23:57:37 median dt:  2  min, total obs: 202105\n",
      "sensor: 12030  1st obs: 2019-01-01 00:00:34  last: 2019-12-31 23:58:29 median dt:  2  min, total obs: 203502\n",
      "sensor: 12183  1st obs: 2019-01-01 00:01:18  last: 2019-12-02 23:59:31 median dt:  2  min, total obs: 186477\n",
      "sensor: 12505  1st obs: 2019-01-01 00:00:06  last: 2019-12-31 23:58:23 median dt:  2  min, total obs: 184795\n",
      "sensor: 12554  1st obs: 2019-01-01 00:02:14  last: 2019-12-31 23:57:46 median dt:  2  min, total obs: 206207\n",
      "sensor: 12609 did not record any observation.\n",
      "sensor: 12855  1st obs: 2019-01-01 00:01:16  last: 2019-12-31 23:59:38 median dt:  2  min, total obs: 203545\n",
      "sensor: 13526  1st obs: 2019-01-01 00:03:21  last: 2019-12-31 23:57:52 median dt:  2  min, total obs: 127676\n",
      "sensor: 13528  1st obs: 2019-01-01 00:00:00  last: 2019-12-31 23:58:57 median dt:  2  min, total obs: 167918\n",
      "sensor: 13649  1st obs: 2019-07-26 07:18:07  last: 2019-12-31 23:59:53 median dt:  2  min, total obs: 29396\n",
      "sensor: 15986  1st obs: 2019-01-01 00:00:35  last: 2019-12-31 23:58:28 median dt:  2  min, total obs: 204515\n",
      "sensor: 16358  1st obs: 2019-01-01 00:01:03  last: 2019-12-31 23:57:53 median dt:  2  min, total obs: 176491\n",
      "sensor: 16551  1st obs: 2019-01-27 20:16:05  last: 2019-12-31 23:59:02 median dt:  2  min, total obs: 189979\n",
      "sensor: 16809  1st obs: 2019-02-26 07:54:55  last: 2019-12-31 23:59:50 median dt:  2  min, total obs: 118413\n",
      "sensor: 19832  1st obs: 2019-01-19 13:53:01  last: 2019-12-31 23:58:45 median dt:  2  min, total obs: 190045\n",
      "sensor: 19850 did not record any observation.\n",
      "sensor: 21569  1st obs: 2019-02-25 11:16:45  last: 2019-12-01 20:30:27 median dt:  2  min, total obs: 152600\n",
      "sensor: 22953  1st obs: 2019-03-19 21:28:36  last: 2019-12-31 23:58:19 median dt:  2  min, total obs: 158099\n",
      "sensor: 24241  1st obs: 2019-04-23 16:55:34  last: 2019-12-31 23:58:22 median dt:  2  min, total obs: 111021\n",
      "sensor: 24719  1st obs: 2019-04-24 11:45:30  last: 2019-12-31 23:59:52 median dt:  2  min, total obs: 94861\n",
      "sensor: 26686  1st obs: 2019-05-27 22:20:25  last: 2019-12-31 23:57:49 median dt:  2  min, total obs: 89031\n",
      "sensor: 30627  1st obs: 2019-08-25 07:58:27  last: 2019-12-31 23:58:48 median dt:  2  min, total obs: 54355\n",
      "Total observations across all sensors =  13984608\n"
     ]
    }
   ],
   "source": [
    "# This is going to take some time ~1-5 min\n",
    "# read leuvenair sensor datadump\n",
    "fields_la = getSensorData('./leuvenair/LEUVENAIRmeta_final.json','./leuvenair/LEUVENAIRfulldump2019.csv')"
   ]
  },
  {
   "cell_type": "code",
   "execution_count": 5,
   "metadata": {},
   "outputs": [
    {
     "name": "stdout",
     "output_type": "stream",
     "text": [
      "All sensors are:  dict_keys(['6561', '8745', '8765', '8769', '8773', '8775', '8777', '8779', '8781', '8783', '8785', '8787', '8789', '8791', '8793', '8795', '8797', '8799', '8801', '8803', '8805', '8807', '8809', '8811', '8813', '8815', '8817', '8819', '8821', '8823', '8825', '8827', '8829', '8831', '8833', '8835', '8837', '8839', '8841', '8843', '8845', '8849', '8853', '8855', '8857', '8859', '8950', '8993', '9555', '9559', '9561', '9563', '9565', '9567', '9569', '9571', '9577', '9579', '9583', '9585', '9587', '9589', '9591', '9593', '9595', '9597', '9599', '9601', '9603', '9605', '9609', '9611', '9613', '9619', '9621', '9623', '9625', '9629', '9631', '9633', '9635', '9637', '9639', '9643', '9753', '9801', '9812', '9825', '10045', '10739', '10741', '11201', '11529', '12030', '12183', '12505', '12554', '12609', '12855', '13526', '13528', '13649', '15986', '16358', '16551', '16809', '19832', '19850', '21569', '22953', '24241', '24719', '26686', '30627'])\n"
     ]
    }
   ],
   "source": [
    "print('All sensors are: ',fields_la.keys())"
   ]
  },
  {
   "cell_type": "code",
   "execution_count": 8,
   "metadata": {},
   "outputs": [
    {
     "name": "stdout",
     "output_type": "stream",
     "text": [
      "Extracting data over duration  1 days 00:00:00  starting at  2019-08-04 00:00:00\n",
      "Sampling resolution =  1  minute\n"
     ]
    }
   ],
   "source": [
    "# extract time series data (1 minute resolution) for each sensor\n",
    "# X is of shape 1 X #times\n",
    "# Y is of shape #sensors X #times\n",
    "X1, Y1, xaxis = getSensorInterpolatedData(fields_la,tstart='2019-08-04 00:00:00',tstop='2019-08-05 00:00:00',fid=4)\n",
    "weights1=np.nanmean(Y1,axis=1)"
   ]
  },
  {
   "cell_type": "code",
   "execution_count": 9,
   "metadata": {},
   "outputs": [
    {
     "data": {
      "application/vnd.jupyter.widget-view+json": {
       "model_id": "f7cb8750386b45b4b34ef7def07c7ca2",
       "version_major": 2,
       "version_minor": 0
      },
      "text/plain": [
       "Figure(layout=FigureLayout(border='1px solid black', height='600px', margin='0 auto 0 auto', padding='1px', wi…"
      ]
     },
     "metadata": {},
     "output_type": "display_data"
    }
   ],
   "source": [
    "# add layer on top of the base map\n",
    "fobj1 = get_gmap_figure(LAT_la,LON_la,'./leuvenair/apikey.txt')\n",
    "locations = list(zip(LAT_la,LON_la)) # provide the latitudes and longitudes\n",
    "heatmap_layer = gmaps.heatmap_layer(locations, weights=weights1)\n",
    "heatmap_layer.point_radius = 0.005\n",
    "heatmap_layer.dissipating = False\n",
    "fobj1.add_layer(heatmap_layer)\n",
    "fobj1"
   ]
  },
  {
   "cell_type": "code",
   "execution_count": 11,
   "metadata": {},
   "outputs": [
    {
     "data": {
      "text/plain": [
       "'Amerikalaan'"
      ]
     },
     "execution_count": 11,
     "metadata": {},
     "output_type": "execute_result"
    }
   ],
   "source": [
    "idx = get_closest_idx(LAT_la, LON_la, LAT_star=50.8798, LON_star=4.7005)\n",
    "sensor_la['STREET'][idx[0]]"
   ]
  },
  {
   "cell_type": "code",
   "execution_count": 17,
   "metadata": {},
   "outputs": [
    {
     "data": {
      "image/png": "[encoded data removed]",
      "text/plain": [
       "<Figure size 432x288 with 1 Axes>"
      ]
     },
     "metadata": {
      "needs_background": "light"
     },
     "output_type": "display_data"
    }
   ],
   "source": [
    "plt.plot(np.squeeze(X1/(60)),np.squeeze(Y1[idx[0],:]), 'r', label = 'PM2.5 vs time on 4-5 Aug 2019')\n",
    "left, right = plt.xlim()\n",
    "plt.xlim(left,right)\n",
    "plt.xlabel('time interval in hours')\n",
    "plt.ylabel('Pollutant')\n",
    "legend = plt.legend(loc='upper center', shadow=True)"
   ]
  },
  {
   "cell_type": "code",
   "execution_count": null,
   "metadata": {},
   "outputs": [],
   "source": []
  }
 ],
 "metadata": {
  "kernelspec": {
   "display_name": "Python 3",
   "language": "python",
   "name": "python3"
  },
  "language_info": {
   "codemirror_mode": {
    "name": "ipython",
    "version": 3
   },
   "file_extension": ".py",
   "mimetype": "text/x-python",
   "name": "python",
   "nbconvert_exporter": "python",
   "pygments_lexer": "ipython3",
   "version": "3.7.4"
  }
 },
 "nbformat": 4,
 "nbformat_minor": 2
}
