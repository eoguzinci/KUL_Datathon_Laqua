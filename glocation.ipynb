{
 "cells": [
  {
   "cell_type": "code",
   "execution_count": 41,
   "metadata": {},
   "outputs": [
    {
     "name": "stdout",
     "output_type": "stream",
     "text": [
      "The autoreload extension is already loaded. To reload it, use:\n",
      "  %reload_ext autoreload\n"
     ]
    }
   ],
   "source": [
    "# imports\n",
    "import numpy as np\n",
    "import pandas as pd\n",
    "import json\n",
    "import gmaps\n",
    "import requests\n",
    "from pandas.io.json import json_normalize\n",
    "import sys\n",
    "\n",
    "from matplotlib import pyplot as plt\n",
    "%matplotlib inline\n",
    "\n",
    "from leuvenair.myutils.utility import readJson\n",
    "\n",
    "%load_ext autoreload\n",
    "%autoreload 2"
   ]
  },
  {
   "cell_type": "code",
   "execution_count": 2,
   "metadata": {},
   "outputs": [
    {
     "name": "stdout",
     "output_type": "stream",
     "text": [
      "Note: sensors 8799 and 8827 are repeated in the json file!\n"
     ]
    }
   ],
   "source": [
    "# read all the sensor latitudes and longitudes for leuvenair\n",
    "fields_leuvenair = readJson('./leuvenair/LEUVENAIRmeta_final.json')\n",
    "LAT_leuvenair = fields_leuvenair['LAT']\n",
    "LON_leuvenair = fields_leuvenair['LON']"
   ]
  },
  {
   "cell_type": "code",
   "execution_count": 3,
   "metadata": {},
   "outputs": [],
   "source": [
    "# read all the sensor latitudes and longitudes for garmon\n",
    "dframe = pd.read_csv('./garmon/GarmonData.csv', skiprows=0, nrows = None, usecols = ['LAT','LON'])\n",
    "LAT_garmon = dframe.values[:,0]; LON_garmon = dframe.values[:,1]\n",
    "\n",
    "# get only the unique values\n",
    "LAT_garmon, index = np.unique(LAT_garmon.round(decimals=15), return_index=True)\n",
    "LON_garmon = LON_garmon[index]"
   ]
  },
  {
   "cell_type": "code",
   "execution_count": 4,
   "metadata": {},
   "outputs": [],
   "source": [
    "# read google maps API\n",
    "with open('./leuvenair/apikey.txt') as f:\n",
    "    my_api_key = f.readline()\n",
    "    f.close"
   ]
  },
  {
   "cell_type": "code",
   "execution_count": 5,
   "metadata": {},
   "outputs": [],
   "source": [
    "# Reference: https://jupyter-gmaps.readthedocs.io/en/latest/tutorial.html#basic-concepts\n",
    "\n",
    "# get the base map\n",
    "gmaps.configure(api_key=my_api_key) # Fill in with your API key\n",
    "\n",
    "# zoom the map around the center of all leuvenair sensors\n",
    "center_of_all_sensors = (np.mean(LAT_leuvenair),np.mean(LON_leuvenair))\n",
    "\n",
    "# set the figure properties\n",
    "figure_layout = {\n",
    "    'width': '600px',\n",
    "    'height': '600px',\n",
    "    'border': '1px solid black',\n",
    "    'padding': '1px',\n",
    "    'margin': '0 auto 0 auto'\n",
    "}\n",
    "\n",
    "# plot the base map\n",
    "fobj = gmaps.figure(center=center_of_all_sensors, layout=figure_layout, zoom_level=13, map_type='TERRAIN')\n",
    "\n",
    "# Note:\n",
    "#'ROADMAP' is the default Google Maps style,\n",
    "#'SATELLITE' is a simple satellite view,\n",
    "#'HYBRID' is a satellite view with common features, such as roads and cities, overlaid,\n",
    "#'TERRAIN' is a map that emphasizes terrain features."
   ]
  },
  {
   "cell_type": "code",
   "execution_count": 6,
   "metadata": {},
   "outputs": [
    {
     "data": {
      "application/vnd.jupyter.widget-view+json": {
       "model_id": "d6fd342990434c39bdbee0b1419b625f",
       "version_major": 2,
       "version_minor": 0
      },
      "text/plain": [
       "Figure(layout=FigureLayout(border='1px solid black', height='600px', margin='0 auto 0 auto', padding='1px', wi…"
      ]
     },
     "metadata": {},
     "output_type": "display_data"
    }
   ],
   "source": [
    "# add leuvenair sensor layer on top of the base map\n",
    "locations_leuvenair = list(zip(LAT_leuvenair,LON_leuvenair)) # provide the latitudes and longitudes\n",
    "sensor_location_layer_leuvenair = gmaps.symbol_layer(locations_leuvenair, fill_color='red', stroke_color='red', scale=2)\n",
    "fobj.add_layer(sensor_location_layer_leuvenair)\n",
    "fobj"
   ]
  },
  {
   "cell_type": "code",
   "execution_count": 12,
   "metadata": {},
   "outputs": [
    {
     "name": "stdout",
     "output_type": "stream",
     "text": [
      "[[ 4.654269  4.789127]\n",
      " [50.846792 50.937804]]\n"
     ]
    },
    {
     "data": {
      "application/vnd.jupyter.widget-view+json": {
       "model_id": "d6fd342990434c39bdbee0b1419b625f",
       "version_major": 2,
       "version_minor": 0
      },
      "text/plain": [
       "Figure(layout=FigureLayout(border='1px solid black', height='600px', margin='0 auto 0 auto', padding='1px', wi…"
      ]
     },
     "metadata": {},
     "output_type": "display_data"
    }
   ],
   "source": [
    "# add garmon sensor layer on top of the leuvenair map\n",
    "locations_garmon = list(zip(LAT_garmon,LON_garmon)) # provide the latitudes and longitudes\n",
    "GarmonLoc = np.array(locations_garmon)\n",
    "maxLAT = np.max(GarmonLoc[:,0]); minLAT = np.min(GarmonLoc[:,0]);\n",
    "maxLON = np.max(GarmonLoc[:,1]); minLON = np.min(GarmonLoc[:,1]);\n",
    "print(np.array([[minLON, maxLON],[minLAT,maxLAT]]))\n",
    "sensor_location_layer_garmon = gmaps.symbol_layer(locations_garmon, fill_color='green', stroke_color='green', scale=2)\n",
    "fobj.add_layer(sensor_location_layer_garmon)\n",
    "fobj"
   ]
  },
  {
   "cell_type": "code",
   "execution_count": 36,
   "metadata": {},
   "outputs": [
    {
     "data": {
      "text/html": [
       "<div>\n",
       "<style scoped>\n",
       "    .dataframe tbody tr th:only-of-type {\n",
       "        vertical-align: middle;\n",
       "    }\n",
       "\n",
       "    .dataframe tbody tr th {\n",
       "        vertical-align: top;\n",
       "    }\n",
       "\n",
       "    .dataframe thead th {\n",
       "        text-align: right;\n",
       "    }\n",
       "</style>\n",
       "<table border=\"1\" class=\"dataframe\">\n",
       "  <thead>\n",
       "    <tr style=\"text-align: right;\">\n",
       "      <th></th>\n",
       "      <th>SegmentID</th>\n",
       "      <th>LON</th>\n",
       "      <th>LAT</th>\n",
       "    </tr>\n",
       "  </thead>\n",
       "  <tbody>\n",
       "    <tr>\n",
       "      <th>0</th>\n",
       "      <td>1003073538</td>\n",
       "      <td>4.374151</td>\n",
       "      <td>50.867479</td>\n",
       "    </tr>\n",
       "    <tr>\n",
       "      <th>1</th>\n",
       "      <td>9000000005</td>\n",
       "      <td>4.672234</td>\n",
       "      <td>52.117404</td>\n",
       "    </tr>\n",
       "    <tr>\n",
       "      <th>2</th>\n",
       "      <td>3000136655</td>\n",
       "      <td>4.848457</td>\n",
       "      <td>50.326413</td>\n",
       "    </tr>\n",
       "  </tbody>\n",
       "</table>\n",
       "</div>"
      ],
      "text/plain": [
       "    SegmentID       LON        LAT\n",
       "0  1003073538  4.374151  50.867479\n",
       "1  9000000005  4.672234  52.117404\n",
       "2  3000136655  4.848457  50.326413"
      ]
     },
     "execution_count": 36,
     "metadata": {},
     "output_type": "execute_result"
    }
   ],
   "source": [
    "# add telraam sensors\n",
    "segments = requests.get(\"https://telraam-api.net/v0/segments/active\")\n",
    "data_segments = json_normalize(segments.json()['features'])\n",
    "activeSegmentIDs = data_segments['properties.id'].values\n",
    "segmentCoordinates = np.zeros((len(activeSegmentIDs),2))\n",
    "# Read coordinates from each segment\n",
    "for i in range(len(activeSegmentIDs)):\n",
    "    urlSegment = 'https://telraam-api.net/v0/segments/id/'+str(activeSegmentIDs[i])\n",
    "    active = requests.get(urlSegment)\n",
    "    co = np.array(active.json()['features'][0]['geometry']['coordinates'][0]) # coordinates of the cameras\n",
    "    segmentCoordinates[i,:] = np.mean(co, axis=0)\n",
    "\n",
    "# create a new data frame for the active segments\n",
    "activeSegmentIDs = np.expand_dims(np.array(activeSegmentIDs),axis=-1)\n",
    "segmentCoordinates = np.concatenate((activeSegmentIDs,segmentCoordinates),axis=1)\n",
    "segmentCoordinates = pd.DataFrame(data=segmentCoordinates, columns=['SegmentID', 'LON', 'LAT'])\n",
    "segmentCoordinates = segmentCoordinates.astype({'SegmentID': 'uint64'})\n",
    "segmentCoordinates.head(3)"
   ]
  },
  {
   "cell_type": "code",
   "execution_count": 50,
   "metadata": {},
   "outputs": [
    {
     "name": "stdout",
     "output_type": "stream",
     "text": [
      "[[ 4.654269  4.789127]\n",
      " [50.846792 50.937804]]\n",
      "(15, 3)\n"
     ]
    },
    {
     "data": {
      "text/html": [
       "<div>\n",
       "<style scoped>\n",
       "    .dataframe tbody tr th:only-of-type {\n",
       "        vertical-align: middle;\n",
       "    }\n",
       "\n",
       "    .dataframe tbody tr th {\n",
       "        vertical-align: top;\n",
       "    }\n",
       "\n",
       "    .dataframe thead th {\n",
       "        text-align: right;\n",
       "    }\n",
       "</style>\n",
       "<table border=\"1\" class=\"dataframe\">\n",
       "  <thead>\n",
       "    <tr style=\"text-align: right;\">\n",
       "      <th></th>\n",
       "      <th>SegmentID</th>\n",
       "      <th>LON</th>\n",
       "      <th>LAT</th>\n",
       "    </tr>\n",
       "  </thead>\n",
       "  <tbody>\n",
       "    <tr>\n",
       "      <th>1</th>\n",
       "      <td>9000000005</td>\n",
       "      <td>4.672234</td>\n",
       "      <td>52.117404</td>\n",
       "    </tr>\n",
       "    <tr>\n",
       "      <th>43</th>\n",
       "      <td>178514</td>\n",
       "      <td>4.740499</td>\n",
       "      <td>51.186581</td>\n",
       "    </tr>\n",
       "    <tr>\n",
       "      <th>126</th>\n",
       "      <td>127699</td>\n",
       "      <td>4.691977</td>\n",
       "      <td>51.215608</td>\n",
       "    </tr>\n",
       "  </tbody>\n",
       "</table>\n",
       "</div>"
      ],
      "text/plain": [
       "      SegmentID       LON        LAT\n",
       "1    9000000005  4.672234  52.117404\n",
       "43       178514  4.740499  51.186581\n",
       "126      127699  4.691977  51.215608"
      ]
     },
     "execution_count": 50,
     "metadata": {},
     "output_type": "execute_result"
    }
   ],
   "source": [
    "# remove segments outside Leuven\n",
    "LeuvenCoord = np.array([[minLON, maxLON],[minLAT,maxLAT]])\n",
    "print(LeuvenCoord)\n",
    "LeuvenSegmentCoordinates = segmentCoordinates[segmentCoordinates['LON']>=LeuvenCoord[0,0]]\n",
    "LeuvenSegmentCoordinates = LeuvenSegmentCoordinates[LeuvenSegmentCoordinates['LON']<=LeuvenCoord[0,1]]\n",
    "LeuvenSegmentCoordinates = LeuvenSegmentCoordinates[LeuvenSegmentCoordinates['LAT']>=LeuvenCoord[1,0]]\n",
    "LeuvenSegmentCoordinates = LeuvenSegmentCoordinates[LeuvenSegmentCoordinates['LAT']>=LeuvenCoord[1,1]]\n",
    "\n",
    "print(LeuvenSegmentCoordinates.shape)\n",
    "LeuvenSegmentCoordinates.head(3)"
   ]
  },
  {
   "cell_type": "code",
   "execution_count": 45,
   "metadata": {},
   "outputs": [
    {
     "name": "stdout",
     "output_type": "stream",
     "text": [
      "(52.11740377719065, 4.672233870962212)\n"
     ]
    }
   ],
   "source": [
    "columns_titles = [\"LAT\",\"LON\"]\n",
    "df=LeuvenSegmentCoordinates.reindex(columns=columns_titles)\n",
    "locations_telraam = list(zip(df[\"LAT\"].values,df[\"LON\"].values))\n",
    "print(locations_telraam[0])"
   ]
  },
  {
   "cell_type": "code",
   "execution_count": 46,
   "metadata": {},
   "outputs": [
    {
     "data": {
      "application/vnd.jupyter.widget-view+json": {
       "model_id": "d6fd342990434c39bdbee0b1419b625f",
       "version_major": 2,
       "version_minor": 0
      },
      "text/plain": [
       "Figure(layout=FigureLayout(border='1px solid black', height='600px', margin='0 auto 0 auto', padding='1px', wi…"
      ]
     },
     "metadata": {},
     "output_type": "display_data"
    }
   ],
   "source": [
    "sensor_location_layer_telraam = gmaps.symbol_layer(locations_telraam, fill_color='blue', stroke_color='blue', scale=2)\n",
    "fobj.add_layer(sensor_location_layer_telraam)\n",
    "fobj"
   ]
  },
  {
   "cell_type": "code",
   "execution_count": null,
   "metadata": {},
   "outputs": [],
   "source": []
  }
 ],
 "metadata": {
  "kernelspec": {
   "display_name": "Python 3",
   "language": "python",
   "name": "python3"
  },
  "language_info": {
   "codemirror_mode": {
    "name": "ipython",
    "version": 3
   },
   "file_extension": ".py",
   "mimetype": "text/x-python",
   "name": "python",
   "nbconvert_exporter": "python",
   "pygments_lexer": "ipython3",
   "version": "3.7.3"
  }
 },
 "nbformat": 4,
 "nbformat_minor": 2
}
