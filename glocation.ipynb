{
 "cells": [
  {
   "cell_type": "code",
   "execution_count": 1,
   "metadata": {},
   "outputs": [],
   "source": [
    "# imports\n",
    "import numpy as np\n",
    "import pandas as pd\n",
    "import json\n",
    "import gmaps\n",
    "\n",
    "from matplotlib import pyplot as plt\n",
    "%matplotlib inline\n",
    "\n",
    "from leuvenair.myutils.utility import readJson\n",
    "\n",
    "%load_ext autoreload\n",
    "%autoreload 2"
   ]
  },
  {
   "cell_type": "code",
   "execution_count": 2,
   "metadata": {},
   "outputs": [
    {
     "name": "stdout",
     "output_type": "stream",
     "text": [
      "Note: sensors 8799 and 8827 are repeated in the json file!\n"
     ]
    }
   ],
   "source": [
    "# read all the sensor latitudes and longitudes for leuvenair\n",
    "fields_leuvenair = readJson('./leuvenair/LEUVENAIRmeta_final.json')\n",
    "LAT_leuvenair = fields_leuvenair['LAT']\n",
    "LON_leuvenair = fields_leuvenair['LON']"
   ]
  },
  {
   "cell_type": "code",
   "execution_count": 3,
   "metadata": {},
   "outputs": [],
   "source": [
    "# read all the sensor latitudes and longitudes for garmon\n",
    "dframe = pd.read_csv('./garmon/GARMONfulldump_20200203.csv', skiprows=0, nrows = None, usecols = ['LAT','LON'])\n",
    "LAT_garmon = dframe.values[:,0]; LON_garmon = dframe.values[:,1]\n",
    "\n",
    "# get only the unique values\n",
    "LAT_garmon, index = np.unique(LAT_garmon.round(decimals=15), return_index=True)\n",
    "LON_garmon = LON_garmon[index]"
   ]
  },
  {
   "cell_type": "code",
   "execution_count": 4,
   "metadata": {},
   "outputs": [],
   "source": [
    "# read google maps API\n",
    "with open('./leuvenair/apikey.txt') as f:\n",
    "    my_api_key = f.readline()\n",
    "    f.close"
   ]
  },
  {
   "cell_type": "code",
   "execution_count": 5,
   "metadata": {},
   "outputs": [],
   "source": [
    "# Reference: https://jupyter-gmaps.readthedocs.io/en/latest/tutorial.html#basic-concepts\n",
    "\n",
    "# get the base map\n",
    "gmaps.configure(api_key=my_api_key) # Fill in with your API key\n",
    "\n",
    "# zoom the map around the center of all leuvenair sensors\n",
    "center_of_all_sensors = (np.mean(LAT_leuvenair),np.mean(LON_leuvenair))\n",
    "\n",
    "# set the figure properties\n",
    "figure_layout = {\n",
    "    'width': '600px',\n",
    "    'height': '600px',\n",
    "    'border': '1px solid black',\n",
    "    'padding': '1px',\n",
    "    'margin': '0 auto 0 auto'\n",
    "}\n",
    "\n",
    "# plot the base map\n",
    "fobj = gmaps.figure(center=center_of_all_sensors, layout=figure_layout, zoom_level=13, map_type='TERRAIN')\n",
    "\n",
    "# Note:\n",
    "#'ROADMAP' is the default Google Maps style,\n",
    "#'SATELLITE' is a simple satellite view,\n",
    "#'HYBRID' is a satellite view with common features, such as roads and cities, overlaid,\n",
    "#'TERRAIN' is a map that emphasizes terrain features."
   ]
  },
  {
   "cell_type": "code",
   "execution_count": 6,
   "metadata": {},
   "outputs": [
    {
     "data": {
      "application/vnd.jupyter.widget-view+json": {
       "model_id": "a4684ba43879401ab32eefef1099d7cc",
       "version_major": 2,
       "version_minor": 0
      },
      "text/plain": [
       "Figure(layout=FigureLayout(border='1px solid black', height='600px', margin='0 auto 0 auto', padding='1px', wi…"
      ]
     },
     "metadata": {},
     "output_type": "display_data"
    }
   ],
   "source": [
    "# add leuvenair sensor layer on top of the base map\n",
    "locations_leuvenair = list(zip(LAT_leuvenair,LON_leuvenair)) # provide the latitudes and longitudes\n",
    "sensor_location_layer_leuvenair = gmaps.symbol_layer(locations_leuvenair, fill_color='red', stroke_color='red', scale=2)\n",
    "fobj.add_layer(sensor_location_layer_leuvenair)\n",
    "fobj"
   ]
  },
  {
   "cell_type": "code",
   "execution_count": 7,
   "metadata": {},
   "outputs": [
    {
     "data": {
      "application/vnd.jupyter.widget-view+json": {
       "model_id": "a4684ba43879401ab32eefef1099d7cc",
       "version_major": 2,
       "version_minor": 0
      },
      "text/plain": [
       "Figure(layout=FigureLayout(border='1px solid black', height='600px', margin='0 auto 0 auto', padding='1px', wi…"
      ]
     },
     "metadata": {},
     "output_type": "display_data"
    }
   ],
   "source": [
    "# add garmon sensor layer on top of the leuvenair map\n",
    "locations_garmon = list(zip(LAT_garmon,LON_garmon)) # provide the latitudes and longitudes\n",
    "sensor_location_layer_garmon = gmaps.symbol_layer(locations_garmon, fill_color='green', stroke_color='green', scale=2)\n",
    "fobj.add_layer(sensor_location_layer_garmon)\n",
    "fobj"
   ]
  },
  {
   "cell_type": "code",
   "execution_count": null,
   "metadata": {},
   "outputs": [],
   "source": []
  }
 ],
 "metadata": {
  "kernelspec": {
   "display_name": "Python 3",
   "language": "python",
   "name": "python3"
  },
  "language_info": {
   "codemirror_mode": {
    "name": "ipython",
    "version": 3
   },
   "file_extension": ".py",
   "mimetype": "text/x-python",
   "name": "python",
   "nbconvert_exporter": "python",
   "pygments_lexer": "ipython3",
   "version": "3.7.4"
  }
 },
 "nbformat": 4,
 "nbformat_minor": 2
}
