{
 "cells": [
  {
   "cell_type": "code",
   "execution_count": 1,
   "metadata": {},
   "outputs": [],
   "source": [
    "# imports\n",
    "import gmaps\n",
    "import json\n",
    "import numpy as np\n",
    "from myutils.utility import readJson\n",
    "\n",
    "%load_ext autoreload\n",
    "%autoreload 2"
   ]
  },
  {
   "cell_type": "code",
   "execution_count": 2,
   "metadata": {},
   "outputs": [
    {
     "name": "stdout",
     "output_type": "stream",
     "text": [
      "Note: sensors 8799 and 8827 are repeated in the json file!\n"
     ]
    }
   ],
   "source": [
    "# read all the sensor latitudes and longitudes\n",
    "fields = readJson('./LEUVENAIRmeta_final.json')\n",
    "LAT = fields['LAT']\n",
    "LON = fields['LON']\n",
    "fields['INDUSTRY'][(fields['INDUSTRY']==-9999)] = 0;\n",
    "fields['WOODSTOVES'][(fields['WOODSTOVES']==-9999)] = 0;\n",
    "fields['TRAFFIC'][(fields['TRAFFIC']==-9999)] = 0;"
   ]
  },
  {
   "cell_type": "code",
   "execution_count": 3,
   "metadata": {},
   "outputs": [],
   "source": [
    "# read google maps API\n",
    "with open('apikey.txt') as f:\n",
    "    my_api_key = f.readline()\n",
    "    f.close"
   ]
  },
  {
   "cell_type": "code",
   "execution_count": 4,
   "metadata": {},
   "outputs": [
    {
     "data": {
      "application/vnd.jupyter.widget-view+json": {
       "model_id": "813e04b220144342a4c2af4954e3ce54",
       "version_major": 2,
       "version_minor": 0
      },
      "text/plain": [
       "Figure(layout=FigureLayout(border='1px solid black', height='600px', margin='0 auto 0 auto', padding='1px', wi…"
      ]
     },
     "metadata": {},
     "output_type": "display_data"
    }
   ],
   "source": [
    "# Reference: https://jupyter-gmaps.readthedocs.io/en/latest/tutorial.html#basic-concepts\n",
    "\n",
    "# get the base map\n",
    "gmaps.configure(api_key=my_api_key) # Fill in with your API key\n",
    "\n",
    "# zoom the map around the center\n",
    "center_of_all_sensors = (np.mean(LAT),np.mean(LON))\n",
    "\n",
    "# set the figure properties\n",
    "figure_layout = {\n",
    "    'width': '600px',\n",
    "    'height': '600px',\n",
    "    'border': '1px solid black',\n",
    "    'padding': '1px',\n",
    "    'margin': '0 auto 0 auto'\n",
    "}\n",
    "\n",
    "# plot the base map\n",
    "fobj = gmaps.figure(center=center_of_all_sensors, layout=figure_layout, zoom_level=13, map_type='TERRAIN')\n",
    "\n",
    "# Note:\n",
    "#'ROADMAP' is the default Google Maps style,\n",
    "#'SATELLITE' is a simple satellite view,\n",
    "#'HYBRID' is a satellite view with common features, such as roads and cities, overlaid,\n",
    "#'TERRAIN' is a map that emphasizes terrain features.\n",
    "fobj"
   ]
  },
  {
   "cell_type": "code",
   "execution_count": 5,
   "metadata": {},
   "outputs": [
    {
     "data": {
      "application/vnd.jupyter.widget-view+json": {
       "model_id": "813e04b220144342a4c2af4954e3ce54",
       "version_major": 2,
       "version_minor": 0
      },
      "text/plain": [
       "Figure(layout=FigureLayout(border='1px solid black', height='600px', margin='0 auto 0 auto', padding='1px', wi…"
      ]
     },
     "metadata": {},
     "output_type": "display_data"
    }
   ],
   "source": [
    "# add layer on top of the base map\n",
    "locations = list(zip(LAT,LON)) # provide the latitudes and longitudes\n",
    "sensor_location_layer = gmaps.symbol_layer(locations, fill_color='red', stroke_color='red', scale=2)\n",
    "fobj.add_layer(sensor_location_layer)\n",
    "fobj"
   ]
  },
  {
   "cell_type": "code",
   "execution_count": 6,
   "metadata": {},
   "outputs": [
    {
     "data": {
      "text/plain": [
       "array([ 2,  0,  3,  1,  5,  3,  1,  5,  1,  2,  1,  2,  1,  1,  1,  1,  1,\n",
       "        1,  1,  1,  1,  9,  2,  1,  1,  1,  0,  8,  1,  1,  1,  1,  1,  1,\n",
       "        1,  5,  1,  1,  1,  1,  8,  1,  1,  2,  1,  1,  1,  1,  0,  2,  2,\n",
       "        1,  1,  1,  3,  1,  2,  1,  2,  1,  1,  8,  5,  2,  1,  1,  5,  1,\n",
       "        3,  1,  1,  1,  1,  1,  1,  1,  2,  3,  9,  1,  2,  1,  1,  1,  1,\n",
       "        8,  1,  1,  1,  0,  2,  1,  1,  1,  1,  1,  3,  1, 10,  1,  1,  3,\n",
       "        3,  1,  1,  1,  1,  1,  1,  1,  1,  4,  2,  1,  1,  0])"
      ]
     },
     "execution_count": 6,
     "metadata": {},
     "output_type": "execute_result"
    }
   ],
   "source": [
    "# By default, heatmaps assumes that every row is of equal importance.\n",
    "# This can be overriden by passing weights through the weights keyword argument.\n",
    "# weights is an iterable of +ve weights of the same length as `locations`.\n",
    "fields['INDUSTRY']\n",
    "\n",
    "#heatmap_layer.max_intensity = None\n",
    "\n",
    "#heatmap_layer.point_radius = 40 # point_radius determines the \"radius of influence\" of each data point."
   ]
  },
  {
   "cell_type": "code",
   "execution_count": 7,
   "metadata": {},
   "outputs": [
    {
     "data": {
      "application/vnd.jupyter.widget-view+json": {
       "model_id": "813e04b220144342a4c2af4954e3ce54",
       "version_major": 2,
       "version_minor": 0
      },
      "text/plain": [
       "Figure(layout=FigureLayout(border='1px solid black', height='600px', margin='0 auto 0 auto', padding='1px', wi…"
      ]
     },
     "metadata": {},
     "output_type": "display_data"
    }
   ],
   "source": [
    "# add layer on top of the base map\n",
    "locations = list(zip(LAT,LON)) # provide the latitudes and longitudes\n",
    "heatmap_layer = gmaps.heatmap_layer(locations, weights=np.power(fields['INDUSTRY'],1))\n",
    "heatmap_layer.point_radius = 40\n",
    "fobj.add_layer(heatmap_layer)\n",
    "fobj"
   ]
  },
  {
   "cell_type": "code",
   "execution_count": null,
   "metadata": {},
   "outputs": [],
   "source": []
  }
 ],
 "metadata": {
  "kernelspec": {
   "display_name": "Python 3",
   "language": "python",
   "name": "python3"
  },
  "language_info": {
   "codemirror_mode": {
    "name": "ipython",
    "version": 3
   },
   "file_extension": ".py",
   "mimetype": "text/x-python",
   "name": "python",
   "nbconvert_exporter": "python",
   "pygments_lexer": "ipython3",
   "version": "3.7.4"
  }
 },
 "nbformat": 4,
 "nbformat_minor": 2
}
