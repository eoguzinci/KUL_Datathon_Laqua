{
 "cells": [
  {
   "cell_type": "code",
   "execution_count": 1,
   "metadata": {},
   "outputs": [],
   "source": [
    "# imports\n",
    "import gmaps\n",
    "import json\n",
    "import numpy as np\n",
    "from myutils.utility import readJson"
   ]
  },
  {
   "cell_type": "code",
   "execution_count": 2,
   "metadata": {},
   "outputs": [
    {
     "name": "stdout",
     "output_type": "stream",
     "text": [
      "Note: sensors 8799 and 8827 are repeated in the json file!\n"
     ]
    }
   ],
   "source": [
    "# read all the sensor latitudes and longitudes\n",
    "fields = readJson()\n",
    "LAT = fields['LAT']\n",
    "LON = fields['LON']"
   ]
  },
  {
   "cell_type": "code",
   "execution_count": 3,
   "metadata": {},
   "outputs": [],
   "source": [
    "# read google maps API\n",
    "with open('apikey.txt') as f:\n",
    "    my_api_key = f.readline()\n",
    "    f.close"
   ]
  },
  {
   "cell_type": "code",
   "execution_count": 4,
   "metadata": {},
   "outputs": [],
   "source": [
    "# Reference: https://jupyter-gmaps.readthedocs.io/en/latest/tutorial.html#basic-concepts\n",
    "\n",
    "# get the base map\n",
    "gmaps.configure(api_key=my_api_key) # Fill in with your API key\n",
    "\n",
    "# zoom the map around the center\n",
    "center_of_all_sensors = (np.mean(LAT),np.mean(LON))\n",
    "\n",
    "# set the figure properties\n",
    "figure_layout = {\n",
    "    'width': '600px',\n",
    "    'height': '600px',\n",
    "    'border': '1px solid black',\n",
    "    'padding': '1px',\n",
    "    'margin': '0 auto 0 auto'\n",
    "}\n",
    "\n",
    "# plot the base map\n",
    "fobj = gmaps.figure(center=center_of_all_sensors, layout=figure_layout, zoom_level=13, map_type='TERRAIN')\n",
    "\n",
    "# Note:\n",
    "#'ROADMAP' is the default Google Maps style,\n",
    "#'SATELLITE' is a simple satellite view,\n",
    "#'HYBRID' is a satellite view with common features, such as roads and cities, overlaid,\n",
    "#'TERRAIN' is a map that emphasizes terrain features."
   ]
  },
  {
   "cell_type": "code",
   "execution_count": 5,
   "metadata": {},
   "outputs": [
    {
     "data": {
      "application/vnd.jupyter.widget-view+json": {
       "model_id": "7f118ef1896c4192b9bcdff708b47379",
       "version_major": 2,
       "version_minor": 0
      },
      "text/plain": [
       "Figure(layout=FigureLayout(border='1px solid black', height='600px', margin='0 auto 0 auto', padding='1px', wi…"
      ]
     },
     "metadata": {},
     "output_type": "display_data"
    }
   ],
   "source": [
    "# add layer on top of the base map\n",
    "locations = list(zip(LAT,LON)) # provide the latitudes and longitudes\n",
    "sensor_location_layer = gmaps.symbol_layer(locations, fill_color='red', stroke_color='red', scale=2)\n",
    "fobj.add_layer(sensor_location_layer)\n",
    "fobj"
   ]
  },
  {
   "cell_type": "code",
   "execution_count": null,
   "metadata": {},
   "outputs": [],
   "source": []
  }
 ],
 "metadata": {
  "kernelspec": {
   "display_name": "Python 3",
   "language": "python",
   "name": "python3"
  },
  "language_info": {
   "codemirror_mode": {
    "name": "ipython",
    "version": 3
   },
   "file_extension": ".py",
   "mimetype": "text/x-python",
   "name": "python",
   "nbconvert_exporter": "python",
   "pygments_lexer": "ipython3",
   "version": "3.7.4"
  }
 },
 "nbformat": 4,
 "nbformat_minor": 2
}
