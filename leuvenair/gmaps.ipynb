{
 "cells": [
  {
   "cell_type": "code",
   "execution_count": 1,
   "metadata": {},
   "outputs": [],
   "source": [
    "# imports\n",
    "import gmaps\n",
    "import json\n",
    "import numpy as np\n",
    "import ipywidgets as widgets\n",
    "from myutils.utility import readJson\n",
    "from myutils.gmap_utils import get_gmap_figure\n",
    "\n",
    "%load_ext autoreload\n",
    "%autoreload 2"
   ]
  },
  {
   "cell_type": "code",
   "execution_count": 2,
   "metadata": {},
   "outputs": [
    {
     "name": "stdout",
     "output_type": "stream",
     "text": [
      "Note: sensors 8799 and 8827 are repeated in the json file!\n"
     ]
    }
   ],
   "source": [
    "# read all the sensor latitudes and longitudes\n",
    "fields = readJson('./LEUVENAIRmeta_final.json')\n",
    "LAT = fields['LAT']\n",
    "LON = fields['LON']\n",
    "fields['INDUSTRY'][(fields['INDUSTRY']==-9999)] = 0;\n",
    "fields['WOODSTOVES'][(fields['WOODSTOVES']==-9999)] = 0;\n",
    "fields['TRAFFIC'][(fields['TRAFFIC']==-9999)] = 0;"
   ]
  },
  {
   "cell_type": "code",
   "execution_count": 3,
   "metadata": {},
   "outputs": [],
   "source": [
    "# GMAPS Options\n",
    "\n",
    "# weights\n",
    "# By default, heatmaps assumes that every (LAT,LON) is of equal importance.\n",
    "# This can be overriden by passing weights through the weights keyword argument.\n",
    "# weights is an iterable of +ve weights of the same length as `locations`.\n",
    "\n",
    "# max_intensity\n",
    "# Strictly positive floating point number indicating the numeric value\n",
    "# that corresponds to the hottest colour in the heatmap gradient. Any\n",
    "# density of points greater than that value will just get mapped to\n",
    "# the hottest colour. Setting this value can be useful when your data\n",
    "# is sharply peaked. It is also useful if you find that your heatmap\n",
    "# disappears as you zoom in.\n",
    "\n",
    "# point_radius\n",
    "# point_radius determines the \"radius of influence\" of each data point.\n",
    "\n",
    "# dissipating\n",
    "# Whether the radius of influence of each point changes as you zoom in\n",
    "# or out. If `dissipating` is True, the radius of influence of each\n",
    "# point increases as you zoom out and decreases as you zoom in. If\n",
    "# False, the radius of influence remains the same. Defaults to True."
   ]
  },
  {
   "cell_type": "code",
   "execution_count": 4,
   "metadata": {},
   "outputs": [
    {
     "data": {
      "application/vnd.jupyter.widget-view+json": {
       "model_id": "94b9a3decc9b4cfaaa31b7a50491bb13",
       "version_major": 2,
       "version_minor": 0
      },
      "text/plain": [
       "Figure(layout=FigureLayout(border='1px solid black', height='600px', margin='0 auto 0 auto', padding='1px', wi…"
      ]
     },
     "metadata": {},
     "output_type": "display_data"
    }
   ],
   "source": [
    "# add layer on top of the base map\n",
    "fobj1 = get_gmap_figure(LAT,LON)\n",
    "locations = list(zip(LAT,LON)) # provide the latitudes and longitudes\n",
    "heatmap_layer = gmaps.heatmap_layer(locations, weights=np.power(fields['INDUSTRY'],1))\n",
    "heatmap_layer.point_radius = 0.005\n",
    "heatmap_layer.dissipating = False\n",
    "fobj1.add_layer(heatmap_layer)\n",
    "fobj1"
   ]
  },
  {
   "cell_type": "code",
   "execution_count": 5,
   "metadata": {},
   "outputs": [
    {
     "data": {
      "application/vnd.jupyter.widget-view+json": {
       "model_id": "6e2f633bd701442dbf381fa24c5fff4b",
       "version_major": 2,
       "version_minor": 0
      },
      "text/plain": [
       "Figure(layout=FigureLayout(border='1px solid black', height='600px', margin='0 auto 0 auto', padding='1px', wi…"
      ]
     },
     "metadata": {},
     "output_type": "display_data"
    }
   ],
   "source": [
    "# add layer on top of the base map\n",
    "fobj2 = get_gmap_figure(LAT,LON)\n",
    "locations = list(zip(LAT,LON)) # provide the latitudes and longitudes\n",
    "heatmap_layer = gmaps.heatmap_layer(locations, weights=np.power(fields['WOODSTOVES'],1))\n",
    "heatmap_layer.point_radius = 0.005\n",
    "heatmap_layer.dissipating = False\n",
    "fobj2.add_layer(heatmap_layer)\n",
    "fobj2"
   ]
  },
  {
   "cell_type": "code",
   "execution_count": 6,
   "metadata": {},
   "outputs": [
    {
     "data": {
      "application/vnd.jupyter.widget-view+json": {
       "model_id": "5492c2b69d6a463babfba486c2e4b100",
       "version_major": 2,
       "version_minor": 0
      },
      "text/plain": [
       "Figure(layout=FigureLayout(border='1px solid black', height='600px', margin='0 auto 0 auto', padding='1px', wi…"
      ]
     },
     "metadata": {},
     "output_type": "display_data"
    }
   ],
   "source": [
    "# add layer on top of the base map\n",
    "fobj3 = get_gmap_figure(LAT,LON)\n",
    "locations = list(zip(LAT,LON)) # provide the latitudes and longitudes\n",
    "heatmap_layer = gmaps.heatmap_layer(locations, weights=np.power(fields['TRAFFIC'],1))\n",
    "heatmap_layer.point_radius = 0.005\n",
    "heatmap_layer.dissipating = False\n",
    "fobj3.add_layer(heatmap_layer)\n",
    "fobj3"
   ]
  },
  {
   "cell_type": "code",
   "execution_count": 7,
   "metadata": {},
   "outputs": [
    {
     "data": {
      "application/vnd.jupyter.widget-view+json": {
       "model_id": "b0284b1d37b14a61a6b450070845c17c",
       "version_major": 2,
       "version_minor": 0
      },
      "text/plain": [
       "VBox(children=(HTML(value='<h3>Heatmaps!</h3>'), HBox(children=(Figure(layout=FigureLayout(border='1px solid b…"
      ]
     },
     "metadata": {},
     "output_type": "display_data"
    }
   ],
   "source": [
    "lhs = gmaps.figure(layout={'width': '45%', 'margin': 'auto'})\n",
    "rhs = gmaps.figure(center=(40.75, -74.00), zoom_level=12, layout={'width': '45%', 'margin': 'auto'})\n",
    "title = widgets.HTML('<h3>Heatmaps!</h3>')\n",
    "widgets.VBox([\n",
    "    title,\n",
    "    widgets.HBox([fobj1, fobj2, fobj3], layout={'width': '100%'})\n",
    "])"
   ]
  },
  {
   "cell_type": "code",
   "execution_count": null,
   "metadata": {},
   "outputs": [],
   "source": []
  }
 ],
 "metadata": {
  "kernelspec": {
   "display_name": "Python 3",
   "language": "python",
   "name": "python3"
  },
  "language_info": {
   "codemirror_mode": {
    "name": "ipython",
    "version": 3
   },
   "file_extension": ".py",
   "mimetype": "text/x-python",
   "name": "python",
   "nbconvert_exporter": "python",
   "pygments_lexer": "ipython3",
   "version": "3.7.4"
  }
 },
 "nbformat": 4,
 "nbformat_minor": 2
}
