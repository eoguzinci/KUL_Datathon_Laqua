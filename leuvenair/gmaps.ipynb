{
 "cells": [
  {
   "cell_type": "code",
   "execution_count": 1,
   "metadata": {},
   "outputs": [],
   "source": [
    "# imports\n",
    "import gmaps # do not forget to enable gmaps in jupyter using ``jupyter nbextension enable --py gmaps``\n",
    "import json\n",
    "import numpy as np\n",
    "from myutils.utility import readJson\n",
    "from myutils.gmap_utils import get_gmap_figure\n",
    "from matplotlib import pyplot as plt\n",
    "\n",
    "%load_ext autoreload\n",
    "%autoreload 2"
   ]
  },
  {
   "cell_type": "code",
   "execution_count": 2,
   "metadata": {},
   "outputs": [
    {
     "name": "stdout",
     "output_type": "stream",
     "text": [
      "Note: sensors 8799 and 8827 are repeated in the json file!\n"
     ]
    }
   ],
   "source": [
    "# read all the sensor latitudes and longitudes\n",
    "fields = readJson('./LEUVENAIRmeta_final.json')\n",
    "LAT = fields['LAT']\n",
    "LON = fields['LON']\n",
    "fields['INDUSTRY'][(fields['INDUSTRY']==-9999)] = 0;\n",
    "fields['WOODSTOVES'][(fields['WOODSTOVES']==-9999)] = 0;\n",
    "fields['TRAFFIC'][(fields['TRAFFIC']==-9999)] = 0;"
   ]
  },
  {
   "cell_type": "code",
   "execution_count": 3,
   "metadata": {},
   "outputs": [
    {
     "name": "stdout",
     "output_type": "stream",
     "text": [
      "[[ 2  8  6]\n",
      " [ 0  0  0]\n",
      " [ 3  4  7]\n",
      " [ 1  3 10]\n",
      " [ 5  6  9]\n",
      " [ 3  1  9]\n",
      " [ 1  1  8]\n",
      " [ 5  5  7]\n",
      " [ 1  8 10]\n",
      " [ 2  8 10]\n",
      " [ 1  2  1]\n",
      " [ 2  1  2]\n",
      " [ 1  8  3]\n",
      " [ 1  4  1]\n",
      " [ 1  5 10]\n",
      " [ 1  8  7]\n",
      " [ 1  3  2]\n",
      " [ 1  3  3]\n",
      " [ 1  3  3]\n",
      " [ 1  6  8]\n",
      " [ 1  2  3]\n",
      " [ 9  2 10]\n",
      " [ 2  3 10]\n",
      " [ 1  2  1]\n",
      " [ 1  1  3]\n",
      " [ 1  1 10]\n",
      " [ 0  0  0]\n",
      " [ 8  2 10]\n",
      " [ 1  3  4]\n",
      " [ 1  1 10]\n",
      " [ 1  1  5]\n",
      " [ 1  2  6]\n",
      " [ 1  2  6]\n",
      " [ 1  2  6]\n",
      " [ 1  5  6]\n",
      " [ 5  6  5]\n",
      " [ 1  5  7]\n",
      " [ 1  4  7]\n",
      " [ 1  1  8]\n",
      " [ 1  3  8]\n",
      " [ 8  3  8]\n",
      " [ 1  2  2]\n",
      " [ 1  3  8]\n",
      " [ 2  4  4]\n",
      " [ 1  5  5]\n",
      " [ 1  7  6]\n",
      " [ 1  1  5]\n",
      " [ 1  9  6]\n",
      " [ 0  0  0]\n",
      " [ 2  3  5]\n",
      " [ 2  1  5]\n",
      " [ 1  3  5]\n",
      " [ 1  3 10]\n",
      " [ 1  3  1]\n",
      " [ 3  7  7]\n",
      " [ 1  8  3]\n",
      " [ 2  8  2]\n",
      " [ 1  5 10]\n",
      " [ 2  1  1]\n",
      " [ 1  5  4]\n",
      " [ 1  1 10]\n",
      " [ 8  4  8]\n",
      " [ 5  5  7]\n",
      " [ 2  2  8]\n",
      " [ 1  3 10]\n",
      " [ 1  2  8]\n",
      " [ 5  5 10]\n",
      " [ 1  5  3]\n",
      " [ 3  5  7]\n",
      " [ 1  2  3]\n",
      " [ 1  8  4]\n",
      " [ 1  4  7]\n",
      " [ 1  5  6]\n",
      " [ 1  3  5]\n",
      " [ 1  3 10]\n",
      " [ 1  5  3]\n",
      " [ 2  7  7]\n",
      " [ 3  1  8]\n",
      " [ 9  3  7]\n",
      " [ 1  1  1]\n",
      " [ 2  3  9]\n",
      " [ 1  1  2]\n",
      " [ 1  4  8]\n",
      " [ 1  1  8]\n",
      " [ 1  3  7]\n",
      " [ 8 10  3]\n",
      " [ 1  7  1]\n",
      " [ 1  3  1]\n",
      " [ 1  1  2]\n",
      " [ 0  0  0]\n",
      " [ 2  5  2]\n",
      " [ 1  4 10]\n",
      " [ 1  5 10]\n",
      " [ 1  4  5]\n",
      " [ 1  1  4]\n",
      " [ 1  5  5]\n",
      " [ 3  5  5]\n",
      " [ 1  1 10]\n",
      " [10  6  9]\n",
      " [ 1  5  9]\n",
      " [ 1  3  2]\n",
      " [ 3  4  7]\n",
      " [ 3  4  7]\n",
      " [ 1  5  7]\n",
      " [ 1  8  1]\n",
      " [ 1  2  6]\n",
      " [ 1  2  3]\n",
      " [ 1  3  7]\n",
      " [ 1  1  6]\n",
      " [ 1  1  1]\n",
      " [ 1  3  3]\n",
      " [ 4  3  5]\n",
      " [ 2  5  8]\n",
      " [ 1  4  3]\n",
      " [ 1  2  2]\n",
      " [ 0  0  0]]\n"
     ]
    }
   ],
   "source": [
    "print(np.concatenate([fields['INDUSTRY'].reshape(116,1),fields['WOODSTOVES'].reshape(116,1),fields['TRAFFIC'].reshape(116,1)],axis=1))"
   ]
  },
  {
   "cell_type": "code",
   "execution_count": 4,
   "metadata": {},
   "outputs": [
    {
     "data": {
<<<<<<< Updated upstream
      "application/vnd.jupyter.widget-view+json": {
       "model_id": "e0c0c9b7b5e34b5f84cc0216d746c015",
       "version_major": 2,
       "version_minor": 0
      },
=======
>>>>>>> Stashed changes
      "text/plain": [
       "array([ 2,  0,  3,  1,  5,  3,  1,  5,  1,  2,  1,  2,  1,  1,  1,  1,  1,\n",
       "        1,  1,  1,  1,  9,  2,  1,  1,  1,  0,  8,  1,  1,  1,  1,  1,  1,\n",
       "        1,  5,  1,  1,  1,  1,  8,  1,  1,  2,  1,  1,  1,  1,  0,  2,  2,\n",
       "        1,  1,  1,  3,  1,  2,  1,  2,  1,  1,  8,  5,  2,  1,  1,  5,  1,\n",
       "        3,  1,  1,  1,  1,  1,  1,  1,  2,  3,  9,  1,  2,  1,  1,  1,  1,\n",
       "        8,  1,  1,  1,  0,  2,  1,  1,  1,  1,  1,  3,  1, 10,  1,  1,  3,\n",
       "        3,  1,  1,  1,  1,  1,  1,  1,  1,  4,  2,  1,  1,  0])"
      ]
     },
     "execution_count": 4,
     "metadata": {},
     "output_type": "execute_result"
    }
   ],
   "source": [
    "# GMAPS OPTIONS INFO\n",
    "# By default, heatmaps assumes that every row is of equal importance.\n",
    "# This can be overriden by passing weights through the weights keyword argument.\n",
    "# weights is an iterable of +ve weights of the same length as `locations`.\n",
    "fields['INDUSTRY']\n",
    "\n",
    "#heatmap_layer.max_intensity = None\n",
    "\n",
    "#heatmap_layer.point_radius = 40 # point_radius determines the \"radius of influence\" of each data point."
   ]
  },
  {
   "cell_type": "code",
   "execution_count": 5,
   "metadata": {},
   "outputs": [
    {
     "data": {
      "application/vnd.jupyter.widget-view+json": {
<<<<<<< Updated upstream
       "model_id": "e0c0c9b7b5e34b5f84cc0216d746c015",
=======
       "model_id": "3d6f5e1ae43940ab8826760039f7faf7",
>>>>>>> Stashed changes
       "version_major": 2,
       "version_minor": 0
      },
      "text/plain": [
       "Figure(layout=FigureLayout(border='1px solid black', height='600px', margin='0 auto 0 auto', padding='1px', wi…"
      ]
     },
     "metadata": {},
     "output_type": "display_data"
    }
   ],
   "source": [
    "# add industry on top of the base map\n",
    "fobjIndustry = get_gmap_figure(LAT, LON);\n",
    "locations = list(zip(LAT,LON)) # provide the latitudes and longitudes\n",
    "heatmap_layer = gmaps.heatmap_layer(locations, weights=np.power(fields['INDUSTRY'],1))\n",
    "heatmap_layer.point_radius = 40\n",
    "fobjIndustry.add_layer(heatmap_layer)\n",
    "fobjIndustry"
   ]
  },
  {
   "cell_type": "code",
   "execution_count": 6,
   "metadata": {},
   "outputs": [
    {
     "data": {
      "application/vnd.jupyter.widget-view+json": {
       "model_id": "0be34b76ccfb471b9acb372fd023aa61",
       "version_major": 2,
       "version_minor": 0
      },
      "text/plain": [
       "Figure(layout=FigureLayout(border='1px solid black', height='600px', margin='0 auto 0 auto', padding='1px', wi…"
      ]
     },
     "metadata": {},
     "output_type": "display_data"
    }
   ],
   "source": [
    "# add woodstoves on top of the base map\n",
    "fobjWood = get_gmap_figure(LAT, LON);\n",
    "locations = list(zip(LAT,LON)) # provide the latitudes and longitudes\n",
    "heatmap_layer = gmaps.heatmap_layer(locations, weights=np.power(fields['WOODSTOVES'],1))\n",
    "heatmap_layer.point_radius = 40\n",
    "fobjWood.add_layer(heatmap_layer)\n",
    "fobjWood"
   ]
  },
  {
   "cell_type": "code",
   "execution_count": 7,
   "metadata": {},
   "outputs": [
    {
     "data": {
      "application/vnd.jupyter.widget-view+json": {
<<<<<<< Updated upstream
       "model_id": "e0c0c9b7b5e34b5f84cc0216d746c015",
=======
       "model_id": "0927a43a2f91431baaf98fc7a22e4b09",
>>>>>>> Stashed changes
       "version_major": 2,
       "version_minor": 0
      },
      "text/plain": [
       "Figure(layout=FigureLayout(border='1px solid black', height='600px', margin='0 auto 0 auto', padding='1px', wi…"
      ]
     },
     "metadata": {},
     "output_type": "display_data"
    }
   ],
   "source": [
    "# add traffic on top of the base map\n",
    "fobjTraffic = get_gmap_figure(LAT, LON);\n",
    "locations = list(zip(LAT,LON)) # provide the latitudes and longitudes\n",
    "heatmap_layer = gmaps.heatmap_layer(locations, weights=np.power(fields['TRAFFIC'],1))\n",
    "heatmap_layer.point_radius = 40\n",
    "fobjTraffic.add_layer(heatmap_layer)\n",
    "fobjTraffic"
   ]
  },
  {
   "cell_type": "code",
   "execution_count": 8,
   "metadata": {},
   "outputs": [
    {
     "data": {
      "application/vnd.jupyter.widget-view+json": {
       "model_id": "0bae8f13a9274bcd88c86072c8ccfcb4",
       "version_major": 2,
       "version_minor": 0
      },
      "text/plain": [
       "VBox(children=(HTML(value='<h3>heatmaps</h3>'), Box(children=(Figure(layout=FigureLayout(border='1px solid bla…"
      ]
     },
     "metadata": {},
     "output_type": "display_data"
    }
   ],
   "source": [
    "import gmaps\n",
    "import ipywidgets as widgets\n",
    "title = widgets.HTML('<h3>heatmaps</h3>')\n",
    "widgets.VBox([\n",
    "    title,\n",
    "    widgets.Box([fobjIndustry, fobjWood, fobjTraffic], layout={'width': '100%'})\n",
    "])"
   ]
  },
  {
   "cell_type": "code",
   "execution_count": null,
   "metadata": {},
   "outputs": [],
   "source": []
  }
 ],
 "metadata": {
  "kernelspec": {
   "display_name": "Python 3",
   "language": "python",
   "name": "python3"
  },
  "language_info": {
   "codemirror_mode": {
    "name": "ipython",
    "version": 3
   },
   "file_extension": ".py",
   "mimetype": "text/x-python",
   "name": "python",
   "nbconvert_exporter": "python",
   "pygments_lexer": "ipython3",
   "version": "3.7.3"
  }
 },
 "nbformat": 4,
 "nbformat_minor": 2
}
