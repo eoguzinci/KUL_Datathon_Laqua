{
 "cells": [
  {
   "cell_type": "code",
   "execution_count": 1,
   "metadata": {},
   "outputs": [],
   "source": [
    "# Some sample questions:\n",
    "\n",
    "# Q1. The sensor will overestimate the PM concentration in humid conditions (relative humidty RH > ~75%) and will\n",
    "# understimate the PM concentrations in dry conditions (RH < ~50%) -> characterise dependency and come up with\n",
    "# a correction method.\n",
    "\n",
    "# Q2. How to deal with intrinsic sensor to sensor variability?\n",
    "\n",
    "# Q3. Are there areas in Leuven that show a systematic higher pollution than others? Can this be linked to traffic,\n",
    "# to agricultural activities?\n",
    "\n",
    "# Q4. Identify areas with high concentration of wood stoves (peaks in winter during evening/night)?\n",
    "\n",
    "# Q5. Is there any indication that there is more PM in areas with heavy traffic?\n",
    "\n",
    "# Q6. Develop a valuable method for real-time interpolation (+ how to handle instantaneous peaks)?\n",
    "\n",
    "# Q7. (Check LeuvenairGenPresnt.pptx)\n",
    "# Best,\n",
    "# I sometimes don't know how to interpret the graphs?\n",
    "# Sometimes I see peaks at midnight and around 3 am. Red?\n",
    "# Now the cars have been moving for a few hours: ie acceleration, stopping, acceleration and ... the measurement says: green\n",
    "# Please provide some explanation if possible."
   ]
  },
  {
   "cell_type": "code",
   "execution_count": 2,
   "metadata": {},
   "outputs": [],
   "source": [
    "# imports\n",
    "import pandas as pd\n",
    "import numpy as np\n",
    "from myutils.utility import readJson, getSensorData, interpolate1D, getSensorInterpolatedData \n",
    "from matplotlib import pyplot as plt\n",
    "%matplotlib inline\n",
    "%load_ext autoreload\n",
    "%autoreload 2"
   ]
  },
  {
   "cell_type": "code",
   "execution_count": 3,
   "metadata": {},
   "outputs": [
    {
     "name": "stdout",
     "output_type": "stream",
     "text": [
      "Note: sensors 8799 and 8827 are repeated in the json file!\n",
      "The complete pandas frame has shape  (13889081, 10)\n",
      "sensor: 6561  1st obs: 2018-01-30 00:00:27  last: 2018-12-31 23:59:06  median dt:  2  min, total obs: 234793\n",
      "sensor: 8745  1st obs: 2018-01-30 00:01:56  last: 2018-12-31 23:58:33  median dt:  2  min, total obs: 142288\n",
      "sensor: 8765  1st obs: 2018-01-30 00:00:34  last: 2018-12-31 23:58:43  median dt:  2  min, total obs: 194023\n",
      "sensor: 8769  1st obs: 2018-04-22 11:15:17  last: 2018-12-31 23:58:11  median dt:  2  min, total obs: 144499\n",
      "sensor: 8773  1st obs: 2018-04-05 18:45:47  last: 2018-12-24 02:28:28  median dt:  2  min, total obs: 135392\n",
      "sensor: 8775  1st obs: 2018-02-01 21:41:57  last: 2018-06-01 06:03:30  median dt:  2  min, total obs: 61982\n",
      "sensor: 8777  1st obs: 2018-02-02 00:02:09  last: 2018-12-31 23:57:43  median dt:  2  min, total obs: 191768\n",
      "sensor: 8779 did not record any observation.\n",
      "sensor: 8781  1st obs: 2018-02-01 21:42:44  last: 2018-12-31 23:58:11  median dt:  2  min, total obs: 175304\n",
      "sensor: 8783  1st obs: 2018-02-03 15:27:07  last: 2018-12-20 06:30:07  median dt:  2  min, total obs: 169664\n",
      "sensor: 8785  1st obs: 2018-03-11 11:19:07  last: 2018-12-31 23:57:34  median dt:  2  min, total obs: 165208\n",
      "sensor: 8787  1st obs: 2018-02-04 12:45:48  last: 2018-12-31 23:58:46  median dt:  2  min, total obs: 180093\n",
      "sensor: 8789  1st obs: 2018-02-01 21:41:47  last: 2018-12-31 23:54:41  median dt:  2  min, total obs: 188457\n",
      "sensor: 8791  1st obs: 2018-02-03 14:39:49  last: 2018-12-31 23:58:10  median dt:  2  min, total obs: 189940\n",
      "sensor: 8793  1st obs: 2018-02-02 11:18:51  last: 2018-03-18 22:58:20  median dt:  2  min, total obs: 22524\n",
      "sensor: 8795  1st obs: 2018-01-31 08:13:20  last: 2018-12-31 23:58:19  median dt:  2  min, total obs: 189554\n",
      "sensor: 8797  1st obs: 2018-03-03 09:54:50  last: 2018-12-31 23:58:53  median dt:  2  min, total obs: 175471\n",
      "sensor: 8799  1st obs: 2018-02-11 19:51:20  last: 2018-12-17 07:20:49  median dt:  2  min, total obs: 114812\n",
      "sensor: 8801  1st obs: 2018-02-25 21:45:55  last: 2018-12-31 23:59:59  median dt:  2  min, total obs: 178858\n",
      "sensor: 8803  1st obs: 2018-02-01 21:42:04  last: 2018-12-31 23:57:54  median dt:  2  min, total obs: 189547\n",
      "sensor: 8805  1st obs: 2018-02-08 09:23:41  last: 2018-12-31 23:57:57  median dt:  2  min, total obs: 155310\n",
      "sensor: 8807  1st obs: 2018-02-03 10:39:22  last: 2018-12-12 21:19:29  median dt:  2  min, total obs: 82525\n",
      "sensor: 8809  1st obs: 2018-02-07 15:57:09  last: 2018-12-31 23:57:38  median dt:  2  min, total obs: 144740\n",
      "sensor: 8811  1st obs: 2018-02-02 09:39:24  last: 2018-12-31 23:59:38  median dt:  2  min, total obs: 159033\n",
      "sensor: 8813  1st obs: 2018-02-06 12:56:13  last: 2018-12-31 23:57:55  median dt:  2  min, total obs: 163597\n",
      "sensor: 8815  1st obs: 2018-02-12 15:38:21  last: 2018-05-11 13:54:58  median dt:  2  min, total obs: 51288\n",
      "sensor: 8817 did not record any observation.\n",
      "sensor: 8819  1st obs: 2018-02-03 22:01:58  last: 2018-12-31 23:57:54  median dt:  2  min, total obs: 183113\n",
      "sensor: 8821  1st obs: 2018-02-16 16:55:24  last: 2018-12-31 23:58:25  median dt:  2  min, total obs: 175163\n",
      "sensor: 8823  1st obs: 2018-02-08 17:51:47  last: 2018-12-31 23:59:37  median dt:  2  min, total obs: 183545\n",
      "sensor: 8825  1st obs: 2018-02-06 13:11:02  last: 2018-12-31 23:35:22  median dt:  2  min, total obs: 169563\n",
      "sensor: 8827  1st obs: 2018-02-12 19:03:22  last: 2018-12-31 23:59:17  median dt:  2  min, total obs: 151909\n",
      "sensor: 8829  1st obs: 2018-02-06 22:19:03  last: 2018-12-31 23:58:35  median dt:  2  min, total obs: 185015\n",
      "sensor: 8831  1st obs: 2018-02-10 14:45:27  last: 2018-12-31 23:58:58  median dt:  2  min, total obs: 180036\n",
      "sensor: 8833  1st obs: 2018-02-03 07:32:32  last: 2018-12-31 23:51:01  median dt:  2  min, total obs: 184070\n",
      "sensor: 8835  1st obs: 2018-02-01 21:41:53  last: 2018-12-31 23:59:49  median dt:  2  min, total obs: 191401\n",
      "sensor: 8837  1st obs: 2018-02-01 21:42:52  last: 2018-12-31 23:59:37  median dt:  2  min, total obs: 187488\n",
      "sensor: 8839  1st obs: 2018-01-31 14:47:33  last: 2018-12-31 23:58:01  median dt:  2  min, total obs: 188507\n",
      "sensor: 8841  1st obs: 2018-01-31 08:13:30  last: 2018-12-31 23:59:26  median dt:  2  min, total obs: 139243\n",
      "sensor: 8843  1st obs: 2018-02-07 09:21:26  last: 2018-06-14 13:30:24  median dt:  2  min, total obs: 74101\n",
      "sensor: 8845  1st obs: 2018-03-05 12:32:08  last: 2018-12-31 23:58:31  median dt:  2  min, total obs: 152540\n",
      "sensor: 8849  1st obs: 2018-03-14 23:50:27  last: 2018-12-31 23:57:42  median dt:  2  min, total obs: 167670\n",
      "sensor: 8853  1st obs: 2018-02-14 22:45:19  last: 2018-12-31 23:58:18  median dt:  2  min, total obs: 151009\n",
      "sensor: 8855 did not record any observation.\n",
      "sensor: 8857  1st obs: 2018-02-08 09:33:31  last: 2018-12-31 23:57:25  median dt:  2  min, total obs: 186855\n",
      "sensor: 8859  1st obs: 2018-02-22 17:16:41  last: 2018-12-31 23:58:30  median dt:  2  min, total obs: 180305\n",
      "sensor: 8950  1st obs: 2018-01-30 00:02:01  last: 2018-12-31 23:59:27  median dt:  2  min, total obs: 189591\n",
      "sensor: 8993  1st obs: 2018-01-30 00:02:12  last: 2018-12-31 23:58:57  median dt:  2  min, total obs: 185248\n",
      "sensor: 9555  1st obs: 2018-02-12 06:48:46  last: 2018-12-31 23:57:49  median dt:  2  min, total obs: 134462\n",
      "sensor: 9559 did not record any observation.\n",
      "sensor: 9561  1st obs: 2018-02-08 18:27:16  last: 2018-08-01 08:05:22  median dt:  2  min, total obs: 95105\n",
      "sensor: 9563  1st obs: 2018-02-09 10:13:40  last: 2018-12-31 23:57:35  median dt:  2  min, total obs: 141784\n",
      "sensor: 9565  1st obs: 2018-02-08 07:42:31  last: 2018-11-18 19:47:42  median dt:  2  min, total obs: 69373\n",
      "sensor: 9567  1st obs: 2018-02-14 17:30:10  last: 2018-12-31 23:57:35  median dt:  2  min, total obs: 182284\n",
      "sensor: 9569  1st obs: 2018-03-27 09:27:45  last: 2018-12-31 23:59:25  median dt:  2  min, total obs: 151822\n",
      "sensor: 9571  1st obs: 2018-02-17 23:30:27  last: 2018-12-31 23:57:53  median dt:  2  min, total obs: 126628\n",
      "sensor: 9577  1st obs: 2018-03-15 12:13:14  last: 2018-12-31 23:57:11  median dt:  2  min, total obs: 122162\n",
      "sensor: 9579  1st obs: 2018-02-10 09:05:22  last: 2018-12-31 23:48:52  median dt:  2  min, total obs: 157886\n",
      "sensor: 9583  1st obs: 2018-03-12 20:20:52  last: 2018-09-17 06:11:24  median dt:  2  min, total obs: 108254\n",
      "sensor: 9585  1st obs: 2018-03-07 09:49:11  last: 2018-12-31 23:39:39  median dt:  2  min, total obs: 145679\n",
      "sensor: 9587  1st obs: 2018-03-12 18:46:15  last: 2018-12-31 23:57:34  median dt:  2  min, total obs: 170527\n",
      "sensor: 9589  1st obs: 2018-03-06 18:07:59  last: 2018-08-26 10:03:32  median dt:  2  min, total obs: 44671\n",
      "sensor: 9591  1st obs: 2018-05-05 12:36:26  last: 2018-12-31 23:57:25  median dt:  2  min, total obs: 135988\n",
      "sensor: 9593  1st obs: 2018-03-21 11:15:41  last: 2018-12-31 23:58:24  median dt:  2  min, total obs: 163131\n",
      "sensor: 9595  1st obs: 2018-02-10 16:00:58  last: 2018-02-17 08:44:27  median dt:  2  min, total obs: 3432\n",
      "sensor: 9597  1st obs: 2018-03-06 19:03:26  last: 2018-12-31 23:58:21  median dt:  2  min, total obs: 51993\n",
      "sensor: 9599 did not record any observation.\n",
      "sensor: 9601  1st obs: 2018-03-20 20:38:54  last: 2018-03-30 12:58:43  median dt:  2  min, total obs: 2221\n",
      "sensor: 9603  1st obs: 2018-02-12 18:23:23  last: 2018-12-09 19:33:23  median dt:  2  min, total obs: 172052\n",
      "sensor: 9605  1st obs: 2018-02-16 23:47:54  last: 2018-12-31 23:59:27  median dt:  2  min, total obs: 173006\n",
      "sensor: 9609  1st obs: 2018-02-11 18:47:43  last: 2018-12-31 23:57:20  median dt:  2  min, total obs: 182654\n",
      "sensor: 9611  1st obs: 2018-02-11 09:28:15  last: 2018-12-31 23:58:37  median dt:  2  min, total obs: 157824\n",
      "sensor: 9613  1st obs: 2018-02-11 10:03:41  last: 2018-11-09 15:53:07  median dt:  2  min, total obs: 131088\n",
      "sensor: 9619  1st obs: 2018-02-18 18:37:32  last: 2018-12-31 23:59:00  median dt:  2  min, total obs: 176043\n",
      "sensor: 9621  1st obs: 2018-02-10 21:48:31  last: 2018-12-31 23:59:12  median dt:  2  min, total obs: 185835\n",
      "sensor: 9623  1st obs: 2018-02-26 07:52:58  last: 2018-12-31 23:57:38  median dt:  2  min, total obs: 169806\n",
      "sensor: 9625  1st obs: 2018-02-08 18:40:55  last: 2018-12-31 23:58:55  median dt:  2  min, total obs: 179260\n",
      "sensor: 9629  1st obs: 2018-03-31 19:52:08  last: 2018-03-31 23:43:45  median dt:  2  min, total obs: 93\n"
     ]
    },
    {
     "name": "stdout",
     "output_type": "stream",
     "text": [
      "sensor: 9631  1st obs: 2018-02-09 11:01:36  last: 2018-06-28 17:37:13  median dt:  2  min, total obs: 59178\n",
      "sensor: 9633  1st obs: 2018-02-10 15:19:33  last: 2018-12-31 23:59:42  median dt:  2  min, total obs: 164500\n",
      "sensor: 9635  1st obs: 2018-02-09 08:21:39  last: 2018-12-31 23:59:56  median dt:  2  min, total obs: 188724\n",
      "sensor: 9637  1st obs: 2018-02-08 09:08:25  last: 2018-12-31 23:57:58  median dt:  2  min, total obs: 173580\n",
      "sensor: 9639  1st obs: 2018-02-08 15:07:31  last: 2018-12-20 16:47:04  median dt:  2  min, total obs: 158470\n",
      "sensor: 9643  1st obs: 2018-02-20 22:20:20  last: 2018-12-31 23:59:22  median dt:  2  min, total obs: 174476\n",
      "sensor: 9753  1st obs: 2018-02-12 16:32:22  last: 2018-12-31 23:58:53  median dt:  2  min, total obs: 182917\n",
      "sensor: 9801  1st obs: 2018-02-11 19:44:55  last: 2018-12-31 23:58:25  median dt:  2  min, total obs: 182042\n",
      "sensor: 9812  1st obs: 2018-02-11 19:14:34  last: 2018-12-31 23:57:49  median dt:  2  min, total obs: 161731\n",
      "sensor: 9825  1st obs: 2018-02-12 10:33:55  last: 2018-12-31 23:59:09  median dt:  2  min, total obs: 177513\n",
      "sensor: 10045  1st obs: 2018-02-22 16:54:02  last: 2018-12-31 23:57:39  median dt:  2  min, total obs: 176955\n",
      "sensor: 10739  1st obs: 2018-05-14 09:44:08  last: 2018-08-26 16:40:53  median dt:  2  min, total obs: 59716\n",
      "sensor: 10741 did not record any observation.\n",
      "sensor: 11201 did not record any observation.\n",
      "sensor: 11529  1st obs: 2018-03-26 20:02:00  last: 2018-12-31 23:59:27  median dt:  2  min, total obs: 149292\n",
      "sensor: 12030  1st obs: 2018-04-18 21:05:43  last: 2018-12-31 23:57:44  median dt:  2  min, total obs: 147842\n",
      "sensor: 12183  1st obs: 2018-04-17 16:04:28  last: 2018-12-31 23:58:52  median dt:  2  min, total obs: 147739\n",
      "sensor: 12505  1st obs: 2018-04-20 14:12:47  last: 2018-12-31 23:57:35  median dt:  2  min, total obs: 119685\n",
      "sensor: 12554  1st obs: 2018-04-22 14:59:21  last: 2018-12-31 23:59:46  median dt:  2  min, total obs: 144093\n",
      "sensor: 12609 did not record any observation.\n",
      "sensor: 12855  1st obs: 2018-05-01 10:11:03  last: 2018-12-31 23:58:43  median dt:  2  min, total obs: 139350\n",
      "sensor: 13526  1st obs: 2018-04-12 18:00:27  last: 2018-12-31 23:57:25  median dt:  2  min, total obs: 151626\n",
      "sensor: 13528  1st obs: 2018-04-11 19:38:38  last: 2018-12-31 23:57:13  median dt:  2  min, total obs: 152480\n",
      "sensor: 13649  1st obs: 2018-06-03 07:43:22  last: 2018-07-08 07:35:06  median dt:  25195  min, total obs: 3\n",
      "sensor: 15986  1st obs: 2018-08-13 08:23:55  last: 2018-12-31 23:57:53  median dt:  2  min, total obs: 81105\n",
      "sensor: 16358  1st obs: 2018-09-23 17:35:38  last: 2018-12-31 23:58:18  median dt:  2  min, total obs: 53959\n",
      "sensor: 16551 did not record any observation.\n",
      "sensor: 16809 did not record any observation.\n",
      "sensor: 19832 did not record any observation.\n",
      "sensor: 19850 did not record any observation.\n",
      "sensor: 21569 did not record any observation.\n",
      "sensor: 22953 did not record any observation.\n",
      "sensor: 24241 did not record any observation.\n",
      "sensor: 24719 did not record any observation.\n",
      "sensor: 26686 did not record any observation.\n",
      "sensor: 30627 did not record any observation.\n",
      "Total observations across all sensors =  13889081\n"
     ]
    }
   ],
   "source": [
    "# This is going to take some time ~1-5 min\n",
    "fields = getSensorData()"
   ]
  },
  {
   "cell_type": "code",
   "execution_count": 4,
   "metadata": {},
   "outputs": [
    {
     "name": "stdout",
     "output_type": "stream",
     "text": [
      "All variable names are : ['DATEUTC', 'LAT', 'LON', 'SDS011ID', 'PM2.5', 'PM10', 'DHTID', 'TEMPERATURE', 'HUMIDITY', 'OBSID']\n"
     ]
    }
   ],
   "source": [
    "# Get all the variable names\n",
    "varname = list(pd.read_csv('LEUVENAIRfulldump2018.csv', skiprows=0, nrows = 0, usecols = None).columns)\n",
    "print('All variable names are :', varname)"
   ]
  },
  {
   "cell_type": "code",
   "execution_count": 5,
   "metadata": {},
   "outputs": [
    {
     "name": "stdout",
     "output_type": "stream",
     "text": [
      "Extracting data over duration  1 days 00:00:00  starting at  2018-04-01 00:00:00\n",
      "Sampling resolution =  1  minute\n"
     ]
    },
    {
     "data": {
      "image/png": "[encoded data removed]",
      "text/plain": [
       "<Figure size 432x288 with 1 Axes>"
      ]
     },
     "metadata": {
      "needs_background": "light"
     },
     "output_type": "display_data"
    }
   ],
   "source": [
    "# Visible peak in PM2.5 at Easter\n",
    "X, Y = getSensorInterpolatedData(fields,tstart='2018-04-01 00:00:00',tstop='2018-04-02 00:00:00',fid=4)\n",
    "plt.plot(np.squeeze(X/(60)),np.squeeze(np.nanmedian(Y,axis=0)), 'r', label = 'PM2.5 vs time on Easter evening')\n",
    "left, right = plt.xlim()\n",
    "plt.xlim(left,right)\n",
    "plt.xlabel('time interval in hours')\n",
    "plt.ylabel('Pollutant')\n",
    "legend = plt.legend(loc='upper center', shadow=True)"
   ]
  },
  {
   "cell_type": "code",
   "execution_count": null,
   "metadata": {},
   "outputs": [],
   "source": []
  }
 ],
 "metadata": {
  "kernelspec": {
   "display_name": "Python 3",
   "language": "python",
   "name": "python3"
  },
  "language_info": {
   "codemirror_mode": {
    "name": "ipython",
    "version": 3
   },
   "file_extension": ".py",
   "mimetype": "text/x-python",
   "name": "python",
   "nbconvert_exporter": "python",
   "pygments_lexer": "ipython3",
   "version": "3.7.4"
  }
 },
 "nbformat": 4,
 "nbformat_minor": 2
}
