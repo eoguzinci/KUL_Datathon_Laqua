{
 "cells": [
  {
   "cell_type": "code",
   "execution_count": 1,
   "metadata": {},
   "outputs": [],
   "source": [
    "# Some sample questions:\n",
    "\n",
    "# Q1. The sensor will overestimate the PM concentration in humid conditions (relative humidty RH > ~75%) and will\n",
    "# understimate the PM concentrations in dry conditions (RH < ~50%) -> characterise dependency and come up with\n",
    "# a correction method.\n",
    "\n",
    "# Q2. How to deal with intrinsic sensor to sensor variability?\n",
    "\n",
    "# Q3. Are there areas in Leuven that show a systematic higher pollution than others? Can this be linked to traffic,\n",
    "# to agricultural activities?\n",
    "\n",
    "# Q4. Identify areas with high concentration of wood stoves (peaks in winter during evening/night)?\n",
    "\n",
    "# Q5. Is there any indication that there is more PM in areas with heavy traffic?\n",
    "\n",
    "# Q6. Develop a valuable method for real-time interpolation (+ how to handle instantaneous peaks)?\n",
    "\n",
    "# Q7. (Check LeuvenairGenPresnt.pptx)\n",
    "# Best,\n",
    "# I sometimes don't know how to interpret the graphs?\n",
    "# Sometimes I see peaks at midnight and around 3 am. Red?\n",
    "# Now the cars have been moving for a few hours: ie acceleration, stopping, acceleration and ... the measurement says: green\n",
    "# Please provide some explanation if possible."
   ]
  },
  {
   "cell_type": "code",
   "execution_count": 2,
   "metadata": {},
   "outputs": [],
   "source": [
    "# imports\n",
    "import pandas as pd\n",
    "import numpy as np\n",
    "from myutils.utility import readJson, getSensorData \n",
    "from matplotlib import pyplot as plt\n",
    "%matplotlib inline"
   ]
  },
  {
   "cell_type": "code",
   "execution_count": 3,
   "metadata": {},
   "outputs": [
    {
     "name": "stdout",
     "output_type": "stream",
     "text": [
      "All variable names are : ['DATEUTC', 'LAT', 'LON', 'SDS011ID', 'PM2.5', 'PM10', 'DHTID', 'TEMPERATURE', 'HUMIDITY', 'OBSID']\n"
     ]
    }
   ],
   "source": [
    "# Get all the variable names\n",
    "varname = list(pd.read_csv('LEUVENAIRfulldump2018.csv', skiprows=0, nrows = 0, usecols = None).columns)\n",
    "print('All variable names are :', varname)"
   ]
  },
  {
   "cell_type": "code",
   "execution_count": 4,
   "metadata": {},
   "outputs": [],
   "source": [
    "dframe = pd.read_csv('LEUVENAIRfulldump2018.csv', skiprows=0, nrows = None, usecols = ['DATEUTC','SDS011ID','PM2.5','PM10'])\n",
    "val = dframe.values"
   ]
  },
  {
   "cell_type": "code",
   "execution_count": 5,
   "metadata": {},
   "outputs": [],
   "source": [
    "timeUTC = val[:,0]; SDS011ID = val[:,1]; PM25 = val[:,2]; PM10 = val[:,3]"
   ]
  },
  {
   "cell_type": "code",
   "execution_count": 6,
   "metadata": {},
   "outputs": [
    {
     "name": "stdout",
     "output_type": "stream",
     "text": [
      "Reading 1 months data should result in a factor of 12 but since Jan is not included in the measurements\n",
      "for the year 2018, we have a factor of  10.499084198550895 which is close to 11 as expected.\n"
     ]
    }
   ],
   "source": [
    "flag = ((timeUTC>'2018-04-01 00:00:00') & (timeUTC<'2018-05-01 00:00:00'))\n",
    "timeUTC_April = timeUTC[flag]; SDS011ID_April = SDS011ID[flag]; PM25_April = PM25[flag]; PM10_April = PM10[flag]\n",
    "print('Reading 1 months data should result in a factor of 12 but since Jan is not included in the measurements')\n",
    "print('for the year 2018, we have a factor of ',timeUTC.shape[0]/timeUTC_April.shape[0], 'which is close to 11 as expected.')"
   ]
  },
  {
   "cell_type": "code",
   "execution_count": 7,
   "metadata": {},
   "outputs": [],
   "source": [
    "timeUTC_April = pd.to_datetime(np.squeeze(timeUTC_April))\n",
    "seconds = timeUTC_April.second\n",
    "minutes = timeUTC_April.minute\n",
    "hours = timeUTC_April.hour\n",
    "days = timeUTC_April.day\n",
    "weeks = timeUTC_April.week"
   ]
  },
  {
   "cell_type": "code",
   "execution_count": 8,
   "metadata": {},
   "outputs": [
    {
     "data": {
      "image/png": "[encoded data removed]",
      "text/plain": [
       "<Figure size 432x288 with 1 Axes>"
      ]
     },
     "metadata": {
      "needs_background": "light"
     },
     "output_type": "display_data"
    }
   ],
   "source": [
    "#plt.plot(np.squeeze(days),np.squeeze(PM25_April), 'r', label = 'PM25 vs time')\n",
    "plt.plot(np.squeeze(days),np.squeeze(PM10_April), 'b', label = 'PM10 vs time')\n",
    "plt.xlabel('days in April')\n",
    "plt.ylabel('Pollutant')\n",
    "legend = plt.legend(loc='upper center', shadow=True)"
   ]
  }
 ],
 "metadata": {
  "kernelspec": {
   "display_name": "Python 3",
   "language": "python",
   "name": "python3"
  },
  "language_info": {
   "codemirror_mode": {
    "name": "ipython",
    "version": 3
   },
   "file_extension": ".py",
   "mimetype": "text/x-python",
   "name": "python",
   "nbconvert_exporter": "python",
   "pygments_lexer": "ipython3",
   "version": "3.7.4"
  }
 },
 "nbformat": 4,
 "nbformat_minor": 2
}
