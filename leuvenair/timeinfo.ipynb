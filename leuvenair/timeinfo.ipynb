{
 "cells": [
  {
   "cell_type": "code",
   "execution_count": 1,
   "metadata": {},
   "outputs": [],
   "source": [
    "# imports\n",
    "import pandas as pd\n",
    "import numpy as np\n",
    "from myutils.utility import getSensorData\n",
    "from matplotlib import pyplot as plt"
   ]
  },
  {
   "cell_type": "code",
   "execution_count": 2,
   "metadata": {},
   "outputs": [
    {
     "name": "stdout",
     "output_type": "stream",
     "text": [
      "All variable names are : ['DATEUTC', 'LAT', 'LON', 'SDS011ID', 'PM2.5', 'PM10', 'DHTID', 'TEMPERATURE', 'HUMIDITY', 'OBSID']\n"
     ]
    }
   ],
   "source": [
    "# Get all the variable names\n",
    "varname = list(pd.read_csv('LEUVENAIRfulldump2018.csv', skiprows=0, nrows = 0, usecols = None).columns)\n",
    "print('All variable names are :', varname)"
   ]
  },
  {
   "cell_type": "code",
   "execution_count": 3,
   "metadata": {},
   "outputs": [
    {
     "data": {
      "text/html": [
       "<div>\n",
       "<style scoped>\n",
       "    .dataframe tbody tr th:only-of-type {\n",
       "        vertical-align: middle;\n",
       "    }\n",
       "\n",
       "    .dataframe tbody tr th {\n",
       "        vertical-align: top;\n",
       "    }\n",
       "\n",
       "    .dataframe thead th {\n",
       "        text-align: right;\n",
       "    }\n",
       "</style>\n",
       "<table border=\"1\" class=\"dataframe\">\n",
       "  <thead>\n",
       "    <tr style=\"text-align: right;\">\n",
       "      <th></th>\n",
       "      <th>DATEUTC</th>\n",
       "      <th>LAT</th>\n",
       "      <th>LON</th>\n",
       "      <th>SDS011ID</th>\n",
       "      <th>PM2.5</th>\n",
       "      <th>PM10</th>\n",
       "      <th>DHTID</th>\n",
       "      <th>TEMPERATURE</th>\n",
       "      <th>HUMIDITY</th>\n",
       "      <th>OBSID</th>\n",
       "    </tr>\n",
       "  </thead>\n",
       "  <tbody>\n",
       "    <tr>\n",
       "      <td>0</td>\n",
       "      <td>2018-01-30 00:00:27</td>\n",
       "      <td>50.8900</td>\n",
       "      <td>4.7214</td>\n",
       "      <td>6561</td>\n",
       "      <td>10.90</td>\n",
       "      <td>19.10</td>\n",
       "      <td>NaN</td>\n",
       "      <td>NaN</td>\n",
       "      <td>NaN</td>\n",
       "      <td>33210</td>\n",
       "    </tr>\n",
       "    <tr>\n",
       "      <td>1</td>\n",
       "      <td>2018-01-30 00:00:34</td>\n",
       "      <td>50.8821</td>\n",
       "      <td>4.7190</td>\n",
       "      <td>8765</td>\n",
       "      <td>8.90</td>\n",
       "      <td>16.87</td>\n",
       "      <td>8766.0</td>\n",
       "      <td>7.2</td>\n",
       "      <td>85.1</td>\n",
       "      <td>33211</td>\n",
       "    </tr>\n",
       "    <tr>\n",
       "      <td>2</td>\n",
       "      <td>2018-01-30 00:01:56</td>\n",
       "      <td>50.8732</td>\n",
       "      <td>4.6982</td>\n",
       "      <td>8745</td>\n",
       "      <td>7.00</td>\n",
       "      <td>10.13</td>\n",
       "      <td>8746.0</td>\n",
       "      <td>7.0</td>\n",
       "      <td>89.0</td>\n",
       "      <td>33212</td>\n",
       "    </tr>\n",
       "    <tr>\n",
       "      <td>3</td>\n",
       "      <td>2018-01-30 00:02:01</td>\n",
       "      <td>50.8894</td>\n",
       "      <td>4.7231</td>\n",
       "      <td>8950</td>\n",
       "      <td>11.03</td>\n",
       "      <td>14.87</td>\n",
       "      <td>8951.0</td>\n",
       "      <td>6.6</td>\n",
       "      <td>96.0</td>\n",
       "      <td>33213</td>\n",
       "    </tr>\n",
       "    <tr>\n",
       "      <td>4</td>\n",
       "      <td>2018-01-30 00:02:12</td>\n",
       "      <td>50.8861</td>\n",
       "      <td>4.6979</td>\n",
       "      <td>8993</td>\n",
       "      <td>11.10</td>\n",
       "      <td>18.02</td>\n",
       "      <td>8994.0</td>\n",
       "      <td>7.6</td>\n",
       "      <td>71.1</td>\n",
       "      <td>33214</td>\n",
       "    </tr>\n",
       "    <tr>\n",
       "      <td>5</td>\n",
       "      <td>2018-01-30 00:02:27</td>\n",
       "      <td>50.8900</td>\n",
       "      <td>4.7214</td>\n",
       "      <td>6561</td>\n",
       "      <td>11.00</td>\n",
       "      <td>19.70</td>\n",
       "      <td>NaN</td>\n",
       "      <td>NaN</td>\n",
       "      <td>NaN</td>\n",
       "      <td>33215</td>\n",
       "    </tr>\n",
       "    <tr>\n",
       "      <td>6</td>\n",
       "      <td>2018-01-30 00:03:01</td>\n",
       "      <td>50.8821</td>\n",
       "      <td>4.7190</td>\n",
       "      <td>8765</td>\n",
       "      <td>8.63</td>\n",
       "      <td>14.10</td>\n",
       "      <td>8766.0</td>\n",
       "      <td>7.3</td>\n",
       "      <td>85.2</td>\n",
       "      <td>33216</td>\n",
       "    </tr>\n",
       "    <tr>\n",
       "      <td>7</td>\n",
       "      <td>2018-01-30 00:04:23</td>\n",
       "      <td>50.8732</td>\n",
       "      <td>4.6982</td>\n",
       "      <td>8745</td>\n",
       "      <td>6.60</td>\n",
       "      <td>11.80</td>\n",
       "      <td>8746.0</td>\n",
       "      <td>7.0</td>\n",
       "      <td>88.9</td>\n",
       "      <td>33217</td>\n",
       "    </tr>\n",
       "    <tr>\n",
       "      <td>8</td>\n",
       "      <td>2018-01-30 00:04:27</td>\n",
       "      <td>50.8894</td>\n",
       "      <td>4.7231</td>\n",
       "      <td>8950</td>\n",
       "      <td>11.70</td>\n",
       "      <td>22.47</td>\n",
       "      <td>8951.0</td>\n",
       "      <td>6.6</td>\n",
       "      <td>96.0</td>\n",
       "      <td>33218</td>\n",
       "    </tr>\n",
       "    <tr>\n",
       "      <td>9</td>\n",
       "      <td>2018-01-30 00:04:28</td>\n",
       "      <td>50.8900</td>\n",
       "      <td>4.7214</td>\n",
       "      <td>6561</td>\n",
       "      <td>11.00</td>\n",
       "      <td>19.40</td>\n",
       "      <td>NaN</td>\n",
       "      <td>NaN</td>\n",
       "      <td>NaN</td>\n",
       "      <td>33219</td>\n",
       "    </tr>\n",
       "  </tbody>\n",
       "</table>\n",
       "</div>"
      ],
      "text/plain": [
       "               DATEUTC      LAT     LON  SDS011ID  PM2.5   PM10   DHTID  \\\n",
       "0  2018-01-30 00:00:27  50.8900  4.7214      6561  10.90  19.10     NaN   \n",
       "1  2018-01-30 00:00:34  50.8821  4.7190      8765   8.90  16.87  8766.0   \n",
       "2  2018-01-30 00:01:56  50.8732  4.6982      8745   7.00  10.13  8746.0   \n",
       "3  2018-01-30 00:02:01  50.8894  4.7231      8950  11.03  14.87  8951.0   \n",
       "4  2018-01-30 00:02:12  50.8861  4.6979      8993  11.10  18.02  8994.0   \n",
       "5  2018-01-30 00:02:27  50.8900  4.7214      6561  11.00  19.70     NaN   \n",
       "6  2018-01-30 00:03:01  50.8821  4.7190      8765   8.63  14.10  8766.0   \n",
       "7  2018-01-30 00:04:23  50.8732  4.6982      8745   6.60  11.80  8746.0   \n",
       "8  2018-01-30 00:04:27  50.8894  4.7231      8950  11.70  22.47  8951.0   \n",
       "9  2018-01-30 00:04:28  50.8900  4.7214      6561  11.00  19.40     NaN   \n",
       "\n",
       "   TEMPERATURE  HUMIDITY  OBSID  \n",
       "0          NaN       NaN  33210  \n",
       "1          7.2      85.1  33211  \n",
       "2          7.0      89.0  33212  \n",
       "3          6.6      96.0  33213  \n",
       "4          7.6      71.1  33214  \n",
       "5          NaN       NaN  33215  \n",
       "6          7.3      85.2  33216  \n",
       "7          7.0      88.9  33217  \n",
       "8          6.6      96.0  33218  \n",
       "9          NaN       NaN  33219  "
      ]
     },
     "execution_count": 3,
     "metadata": {},
     "output_type": "execute_result"
    }
   ],
   "source": [
    "dframe_ex = pd.read_csv('LEUVENAIRfulldump2018.csv', skiprows=0, nrows = 10, usecols = None)\n",
    "dframe_ex"
   ]
  },
  {
   "cell_type": "code",
   "execution_count": 7,
   "metadata": {},
   "outputs": [],
   "source": [
    "dframe = pd.read_csv('LEUVENAIRfulldump2018.csv', skiprows=0, nrows = None, usecols = ['DATEUTC'])\n",
    "time_of_day = dframe.values\n",
    "numrec = time_of_day.size"
   ]
  },
  {
   "cell_type": "code",
   "execution_count": 8,
   "metadata": {},
   "outputs": [
    {
     "name": "stdout",
     "output_type": "stream",
     "text": [
      "Number of records across all sensors =  13889081\n"
     ]
    }
   ],
   "source": [
    "print('Number of records across all sensors = ',numrec)"
   ]
  },
  {
   "cell_type": "code",
   "execution_count": 9,
   "metadata": {},
   "outputs": [],
   "source": [
    "datetime = pd.to_datetime(np.squeeze(time_of_day))\n",
    "seconds = datetime.second\n",
    "minutes = datetime.minute\n",
    "hours = datetime.hour\n",
    "days = datetime.day\n",
    "weeks = datetime.week\n",
    "months = datetime.month\n",
    "years = datetime.year"
   ]
  },
  {
   "cell_type": "code",
   "execution_count": 10,
   "metadata": {},
   "outputs": [
    {
     "name": "stdout",
     "output_type": "stream",
     "text": [
      "The 1st measurement was acquired on  2018-01-30 00:00:27  using sensor \n",
      "The last measurement was acquired on  2018-12-31 23:59:59\n",
      "The time delta between the 1st and last measurement =  335 days 23:59:32\n",
      "Total number of measurements acquired =  13889081\n"
     ]
    }
   ],
   "source": [
    "print('The 1st measurement was acquired on ',datetime[0],' using sensor ',)\n",
    "print('The last measurement was acquired on ',datetime[numrec-1])\n",
    "print('The time delta between the 1st and last measurement = ',datetime[numrec-1]-datetime[0])\n",
    "print('Total number of measurements acquired = ',numrec)"
   ]
  },
  {
   "cell_type": "code",
   "execution_count": null,
   "metadata": {},
   "outputs": [],
   "source": [
    "fields = getSensorData()"
   ]
  }
 ],
 "metadata": {
  "kernelspec": {
   "display_name": "Python 3",
   "language": "python",
   "name": "python3"
  },
  "language_info": {
   "codemirror_mode": {
    "name": "ipython",
    "version": 3
   },
   "file_extension": ".py",
   "mimetype": "text/x-python",
   "name": "python",
   "nbconvert_exporter": "python",
   "pygments_lexer": "ipython3",
   "version": "3.7.4"
  }
 },
 "nbformat": 4,
 "nbformat_minor": 2
}
