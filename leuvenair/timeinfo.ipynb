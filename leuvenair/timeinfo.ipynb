{
 "cells": [
  {
   "cell_type": "code",
   "execution_count": 1,
   "metadata": {},
   "outputs": [],
   "source": [
    "# imports\n",
    "import pandas as pd\n",
    "import numpy as np\n",
    "from matplotlib import pyplot as plt"
   ]
  },
  {
   "cell_type": "code",
   "execution_count": 2,
   "metadata": {},
   "outputs": [
    {
     "name": "stdout",
     "output_type": "stream",
     "text": [
      "All variable names are : ['DATEUTC', 'LAT', 'LON', 'SDS011ID', 'PM2.5', 'PM10', 'DHTID', 'TEMPERATURE', 'HUMIDITY', 'OBSID']\n",
      "SDS011 sensor measures PM2.5 anf PM10.\n",
      "DHT sensor measures tempretaure and humidity.\n"
     ]
    }
   ],
   "source": [
    "# Get all the variable names\n",
    "varname = list(pd.read_csv('LEUVENAIRfulldump2019.csv', skiprows=0, nrows = 0, usecols = None).columns)\n",
    "print('All variable names are :', varname)\n",
    "print('SDS011 sensor measures PM2.5 anf PM10.')\n",
    "print('DHT sensor measures tempretaure and humidity.')"
   ]
  },
  {
   "cell_type": "code",
   "execution_count": 3,
   "metadata": {},
   "outputs": [
    {
     "data": {
      "text/html": [
       "<div>\n",
       "<style scoped>\n",
       "    .dataframe tbody tr th:only-of-type {\n",
       "        vertical-align: middle;\n",
       "    }\n",
       "\n",
       "    .dataframe tbody tr th {\n",
       "        vertical-align: top;\n",
       "    }\n",
       "\n",
       "    .dataframe thead th {\n",
       "        text-align: right;\n",
       "    }\n",
       "</style>\n",
       "<table border=\"1\" class=\"dataframe\">\n",
       "  <thead>\n",
       "    <tr style=\"text-align: right;\">\n",
       "      <th></th>\n",
       "      <th>DATEUTC</th>\n",
       "      <th>LAT</th>\n",
       "      <th>LON</th>\n",
       "      <th>SDS011ID</th>\n",
       "      <th>PM2.5</th>\n",
       "      <th>PM10</th>\n",
       "      <th>DHTID</th>\n",
       "      <th>TEMPERATURE</th>\n",
       "      <th>HUMIDITY</th>\n",
       "      <th>OBSID</th>\n",
       "    </tr>\n",
       "  </thead>\n",
       "  <tbody>\n",
       "    <tr>\n",
       "      <td>0</td>\n",
       "      <td>2019-01-01 00:00:00</td>\n",
       "      <td>50.8821</td>\n",
       "      <td>4.7190</td>\n",
       "      <td>13528</td>\n",
       "      <td>14.90</td>\n",
       "      <td>16.60</td>\n",
       "      <td>13529</td>\n",
       "      <td>8.9</td>\n",
       "      <td>99.9</td>\n",
       "      <td>15056775</td>\n",
       "    </tr>\n",
       "    <tr>\n",
       "      <td>1</td>\n",
       "      <td>2019-01-01 00:00:02</td>\n",
       "      <td>50.8896</td>\n",
       "      <td>4.7267</td>\n",
       "      <td>9587</td>\n",
       "      <td>NaN</td>\n",
       "      <td>NaN</td>\n",
       "      <td>9588</td>\n",
       "      <td>9.7</td>\n",
       "      <td>99.9</td>\n",
       "      <td>15056776</td>\n",
       "    </tr>\n",
       "    <tr>\n",
       "      <td>2</td>\n",
       "      <td>2019-01-01 00:00:03</td>\n",
       "      <td>50.9279</td>\n",
       "      <td>4.7056</td>\n",
       "      <td>8785</td>\n",
       "      <td>12.83</td>\n",
       "      <td>20.53</td>\n",
       "      <td>8786</td>\n",
       "      <td>8.7</td>\n",
       "      <td>99.9</td>\n",
       "      <td>15056777</td>\n",
       "    </tr>\n",
       "    <tr>\n",
       "      <td>3</td>\n",
       "      <td>2019-01-01 00:00:04</td>\n",
       "      <td>50.8693</td>\n",
       "      <td>4.7019</td>\n",
       "      <td>9563</td>\n",
       "      <td>9.20</td>\n",
       "      <td>10.27</td>\n",
       "      <td>9564</td>\n",
       "      <td>9.4</td>\n",
       "      <td>99.9</td>\n",
       "      <td>15056779</td>\n",
       "    </tr>\n",
       "    <tr>\n",
       "      <td>4</td>\n",
       "      <td>2019-01-01 00:00:05</td>\n",
       "      <td>50.8616</td>\n",
       "      <td>4.7115</td>\n",
       "      <td>9567</td>\n",
       "      <td>9.03</td>\n",
       "      <td>10.77</td>\n",
       "      <td>9568</td>\n",
       "      <td>8.8</td>\n",
       "      <td>99.9</td>\n",
       "      <td>15056780</td>\n",
       "    </tr>\n",
       "    <tr>\n",
       "      <td>5</td>\n",
       "      <td>2019-01-01 00:00:06</td>\n",
       "      <td>50.8642</td>\n",
       "      <td>4.6799</td>\n",
       "      <td>12505</td>\n",
       "      <td>10.43</td>\n",
       "      <td>12.00</td>\n",
       "      <td>12506</td>\n",
       "      <td>9.3</td>\n",
       "      <td>99.9</td>\n",
       "      <td>15056781</td>\n",
       "    </tr>\n",
       "    <tr>\n",
       "      <td>6</td>\n",
       "      <td>2019-01-01 00:00:08</td>\n",
       "      <td>50.8791</td>\n",
       "      <td>4.6918</td>\n",
       "      <td>9591</td>\n",
       "      <td>14.60</td>\n",
       "      <td>20.57</td>\n",
       "      <td>9592</td>\n",
       "      <td>8.8</td>\n",
       "      <td>99.9</td>\n",
       "      <td>15056782</td>\n",
       "    </tr>\n",
       "    <tr>\n",
       "      <td>7</td>\n",
       "      <td>2019-01-01 00:00:09</td>\n",
       "      <td>50.8955</td>\n",
       "      <td>4.7024</td>\n",
       "      <td>8809</td>\n",
       "      <td>14.67</td>\n",
       "      <td>18.47</td>\n",
       "      <td>8810</td>\n",
       "      <td>NaN</td>\n",
       "      <td>NaN</td>\n",
       "      <td>15056783</td>\n",
       "    </tr>\n",
       "    <tr>\n",
       "      <td>8</td>\n",
       "      <td>2019-01-01 00:00:11</td>\n",
       "      <td>50.8775</td>\n",
       "      <td>4.7410</td>\n",
       "      <td>10045</td>\n",
       "      <td>10.70</td>\n",
       "      <td>14.30</td>\n",
       "      <td>10046</td>\n",
       "      <td>8.7</td>\n",
       "      <td>99.9</td>\n",
       "      <td>15056784</td>\n",
       "    </tr>\n",
       "    <tr>\n",
       "      <td>9</td>\n",
       "      <td>2019-01-01 00:00:14</td>\n",
       "      <td>50.8607</td>\n",
       "      <td>4.6985</td>\n",
       "      <td>8849</td>\n",
       "      <td>7.67</td>\n",
       "      <td>8.83</td>\n",
       "      <td>12054</td>\n",
       "      <td>10.4</td>\n",
       "      <td>99.9</td>\n",
       "      <td>15056785</td>\n",
       "    </tr>\n",
       "  </tbody>\n",
       "</table>\n",
       "</div>"
      ],
      "text/plain": [
       "               DATEUTC      LAT     LON  SDS011ID  PM2.5   PM10  DHTID  \\\n",
       "0  2019-01-01 00:00:00  50.8821  4.7190     13528  14.90  16.60  13529   \n",
       "1  2019-01-01 00:00:02  50.8896  4.7267      9587    NaN    NaN   9588   \n",
       "2  2019-01-01 00:00:03  50.9279  4.7056      8785  12.83  20.53   8786   \n",
       "3  2019-01-01 00:00:04  50.8693  4.7019      9563   9.20  10.27   9564   \n",
       "4  2019-01-01 00:00:05  50.8616  4.7115      9567   9.03  10.77   9568   \n",
       "5  2019-01-01 00:00:06  50.8642  4.6799     12505  10.43  12.00  12506   \n",
       "6  2019-01-01 00:00:08  50.8791  4.6918      9591  14.60  20.57   9592   \n",
       "7  2019-01-01 00:00:09  50.8955  4.7024      8809  14.67  18.47   8810   \n",
       "8  2019-01-01 00:00:11  50.8775  4.7410     10045  10.70  14.30  10046   \n",
       "9  2019-01-01 00:00:14  50.8607  4.6985      8849   7.67   8.83  12054   \n",
       "\n",
       "   TEMPERATURE  HUMIDITY     OBSID  \n",
       "0          8.9      99.9  15056775  \n",
       "1          9.7      99.9  15056776  \n",
       "2          8.7      99.9  15056777  \n",
       "3          9.4      99.9  15056779  \n",
       "4          8.8      99.9  15056780  \n",
       "5          9.3      99.9  15056781  \n",
       "6          8.8      99.9  15056782  \n",
       "7          NaN       NaN  15056783  \n",
       "8          8.7      99.9  15056784  \n",
       "9         10.4      99.9  15056785  "
      ]
     },
     "execution_count": 3,
     "metadata": {},
     "output_type": "execute_result"
    }
   ],
   "source": [
    "dframe_ex = pd.read_csv('LEUVENAIRfulldump2019.csv', skiprows=0, nrows = 10, usecols = None)\n",
    "dframe_ex"
   ]
  },
  {
   "cell_type": "code",
   "execution_count": 4,
   "metadata": {},
   "outputs": [],
   "source": [
    "# Note: The PM2.5 measurements of the SDS011 sensor are much more reliable than the PM10 measurements.\n",
    "# For long-term analyses, stick to the PM2.5 measurements. PM10 measurement can be used for peak detection only.\n",
    "# The sensor will overestimate the PM concentration in humid conditions (relative humidty RH > ~75%) and will\n",
    "# understimate the PM concentrations in dry conditions (RH < ~50%).\n",
    "\n",
    "# Note: The measurements of the DHT sensor (temperature + humidty) are not so realiable. Try to use an external\n",
    "# source for temperature and relative humidity."
   ]
  },
  {
   "cell_type": "code",
   "execution_count": 5,
   "metadata": {},
   "outputs": [],
   "source": [
    "dframe = pd.read_csv('LEUVENAIRfulldump2019.csv', skiprows=0, nrows = None, usecols = ['DATEUTC'])\n",
    "time_of_day = dframe.values\n",
    "numrec = time_of_day.size"
   ]
  },
  {
   "cell_type": "code",
   "execution_count": 6,
   "metadata": {},
   "outputs": [
    {
     "name": "stdout",
     "output_type": "stream",
     "text": [
      "Number of records =  13984608\n"
     ]
    }
   ],
   "source": [
    "print('Number of records = ',numrec)"
   ]
  },
  {
   "cell_type": "code",
   "execution_count": 7,
   "metadata": {},
   "outputs": [],
   "source": [
    "datetime = pd.to_datetime(np.squeeze(time_of_day))\n",
    "seconds = datetime.second\n",
    "minutes = datetime.minute\n",
    "hours = datetime.hour\n",
    "days = datetime.day\n",
    "weeks = datetime.week\n",
    "months = datetime.month\n",
    "years = datetime.year"
   ]
  },
  {
   "cell_type": "code",
   "execution_count": 8,
   "metadata": {},
   "outputs": [
    {
     "name": "stdout",
     "output_type": "stream",
     "text": [
      "The 1st measurement was acquired on  2019-01-01 00:00:00\n",
      "The last measurement was acquired on  2019-12-31 23:59:57\n",
      "The time delta between the 1st and last measurement =  364 days 23:59:57\n",
      "Total number of measurements acquired =  13984608\n"
     ]
    }
   ],
   "source": [
    "print('The 1st measurement was acquired on ',datetime[0])\n",
    "print('The last measurement was acquired on ',datetime[numrec-1])\n",
    "print('The time delta between the 1st and last measurement = ',datetime[numrec-1]-datetime[0])\n",
    "print('Total number of measurements acquired = ',numrec)"
   ]
  }
 ],
 "metadata": {
  "kernelspec": {
   "display_name": "Python 3",
   "language": "python",
   "name": "python3"
  },
  "language_info": {
   "codemirror_mode": {
    "name": "ipython",
    "version": 3
   },
   "file_extension": ".py",
   "mimetype": "text/x-python",
   "name": "python",
   "nbconvert_exporter": "python",
   "pygments_lexer": "ipython3",
   "version": "3.7.4"
  }
 },
 "nbformat": 4,
 "nbformat_minor": 2
}
