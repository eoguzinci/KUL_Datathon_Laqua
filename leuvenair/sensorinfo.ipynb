{
 "cells": [
  {
   "cell_type": "code",
   "execution_count": 1,
   "metadata": {},
   "outputs": [],
   "source": [
    "# imports\n",
    "import json\n",
    "import numpy as np\n",
    "from myutils.utility import readJson"
   ]
  },
  {
   "cell_type": "code",
   "execution_count": 2,
   "metadata": {},
   "outputs": [
    {
     "name": "stdout",
     "output_type": "stream",
     "text": [
      "dict_keys(['SDS011ID', 'DHTID', 'EXPORT', 'LAT', 'LON', 'STREET', 'POSTALCODE', 'CITY', 'HEIGHT', 'SENSOR_POSITION', 'INDUSTRY', 'WOODSTOVES', 'TRAFFIC', 'SVL', 'NO2_CN'])\n"
     ]
    }
   ],
   "source": [
    "fields = readJson()\n",
    "keys = fields.keys()\n",
    "print(keys)"
   ]
  },
  {
   "cell_type": "markdown",
   "metadata": {},
   "source": [
    "Link to a [tabular overview of the LEUVENAIR sensors](https://data.leuvenair.be/meta-l.html)"
   ]
  },
  {
   "cell_type": "code",
   "execution_count": 3,
   "metadata": {},
   "outputs": [
    {
     "data": {
      "text/plain": [
       "array([50.89   , 50.8732 , 50.8821 , 50.869  , 50.8724 , 50.8828 ,\n",
       "       50.8727 , 50.8906 , 50.8839 , 50.8841 , 50.9279 , 50.881  ,\n",
       "       50.8917 , 50.8891 , 50.8754 , 50.8646 , 50.8983 , 50.8914 ,\n",
       "       50.8914 , 50.8878 , 50.8908 , 50.8885 , 50.8692 , 50.8955 ,\n",
       "       50.8825 , 50.873  , 50.87558, 50.8732 , 50.8758 , 50.8825 ,\n",
       "       50.9044 , 50.8728 , 50.855  , 50.8667 , 50.8922 , 50.756  ,\n",
       "       50.8895 , 50.8923 , 50.8806 , 50.8617 , 50.9009 , 50.8838 ,\n",
       "       50.8876 , 50.8607 , 50.858  , 50.8828 , 50.9039 , 50.9477 ,\n",
       "       50.8894 , 50.8861 , 50.8831 , 50.8595 , 50.8766 , 50.8693 ,\n",
       "       50.8839 , 50.8616 , 50.8948 , 50.8816 , 50.8577 , 50.8677 ,\n",
       "       50.8627 , 50.8756 , 50.8896 , 50.8827 , 50.8791 , 50.8719 ,\n",
       "       50.8766 , 50.8903 , 50.8733 , 50.9034 , 50.9022 , 50.8751 ,\n",
       "       50.8706 , 50.8758 , 50.8697 , 50.886  , 50.9062 , 50.882  ,\n",
       "       50.9247 , 50.8834 , 50.8765 , 50.8695 , 50.8894 , 50.8668 ,\n",
       "       50.8727 , 50.8994 , 50.9087 , 50.901  , 50.8765 , 50.8763 ,\n",
       "       50.8775 , 50.8766 , 50.8754 , 50.8924 , 50.8859 , 50.8718 ,\n",
       "       50.864  , 50.8642 , 50.8677 , 50.8957 , 50.8676 , 50.8821 ,\n",
       "       50.8821 , 50.9186 , 50.8706 , 50.8723 , 50.8568 , 50.8727 ,\n",
       "       50.8507 , 50.8783 , 50.8785 , 50.8843 , 50.8923 , 50.8562 ,\n",
       "       50.9003 , 50.8894 ])"
      ]
     },
     "execution_count": 3,
     "metadata": {},
     "output_type": "execute_result"
    }
   ],
   "source": [
    "fields['LAT']"
   ]
  }
 ],
 "metadata": {
  "kernelspec": {
   "display_name": "Python 3",
   "language": "python",
   "name": "python3"
  },
  "language_info": {
   "codemirror_mode": {
    "name": "ipython",
    "version": 3
   },
   "file_extension": ".py",
   "mimetype": "text/x-python",
   "name": "python",
   "nbconvert_exporter": "python",
   "pygments_lexer": "ipython3",
   "version": "3.7.4"
  }
 },
 "nbformat": 4,
 "nbformat_minor": 2
}
