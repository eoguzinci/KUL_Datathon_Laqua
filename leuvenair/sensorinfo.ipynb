{
 "cells": [
  {
   "cell_type": "code",
   "execution_count": 1,
   "metadata": {},
   "outputs": [],
   "source": [
    "# imports\n",
    "import json\n",
    "import numpy as np\n",
    "from myutils.utility import readJson\n",
    "\n",
    "%load_ext autoreload\n",
    "%autoreload 2"
   ]
  },
  {
   "cell_type": "code",
   "execution_count": 2,
   "metadata": {},
   "outputs": [
    {
     "name": "stdout",
     "output_type": "stream",
     "text": [
      "Note: sensors 8799 and 8827 are repeated in the json file!\n",
      "dict_keys(['SDS011ID', 'DHTID', 'EXPORT', 'LAT', 'LON', 'STREET', 'POSTALCODE', 'CITY', 'HEIGHT', 'SENSOR_POSITION', 'INDUSTRY', 'WOODSTOVES', 'TRAFFIC', 'SVL', 'NO2_CN'])\n"
     ]
    }
   ],
   "source": [
    "fields = readJson('./LEUVENAIRmeta_final.json')\n",
    "keys = fields.keys()\n",
    "print(keys)"
   ]
  },
  {
   "cell_type": "code",
   "execution_count": 3,
   "metadata": {},
   "outputs": [],
   "source": [
    "# SDS011 sensor measures PM2.5 and PM10.\n",
    "# DHT sensor measures tempretaure and humidity.\n",
    "\n",
    "# Note: The PM2.5 measurements of the SDS011 sensor are much more reliable than the PM10 measurements.\n",
    "# For long-term analyses, stick to the PM2.5 measurements. PM10 measurement can be used for peak detection only.\n",
    "# The sensor will overestimate the PM concentration in humid conditions (relative humidty RH > ~75%) and will\n",
    "# understimate the PM concentrations in dry conditions (RH < ~50%).\n",
    "\n",
    "# Note: The measurements of the DHT sensor (temperature + humidty) are not so realiable. Try to use an external\n",
    "# source for temperature and relative humidity."
   ]
  },
  {
   "cell_type": "markdown",
   "metadata": {},
   "source": [
    "Link to a [tabular overview of the LEUVENAIR sensors](https://data.leuvenair.be/meta-l.html)"
   ]
  },
  {
   "cell_type": "code",
   "execution_count": 4,
   "metadata": {},
   "outputs": [
    {
     "name": "stdout",
     "output_type": "stream",
     "text": [
      "['Lentedreef', 'Schapenstraat', 'Ernest Solvaystraat', 'Tervuursevest', 'Alfred Delaunoislaan', 'Sint-Maartensdal', 'Dekenstraat', 'Gemeenteplein', 'Diestsesteenweg', 'Diestsesteenweg', 'Wijgmaalbroek', 'Jozef Wautersstraat', 'Leopold Ruelensstraat', 'Meugenslaan', 'Tervuursevest', 'Oudebaan', 'Schoolbergenstraat', 'Kleine Huizenstraat', 'Kleine Huizenstraat', 'Gemeentestraat', 'Leopold Ruelensstraat', 'Mechelsevest', 'Naamsevest', 'RenÃ© Verbeeckstraat', 'DÃ©sirÃ© Mellaertsstraat', 'Dekenstraat', 'Schoolstraat', 'Dekenstraat', 'Koetsweg', 'Brusselsestraat', 'Herentsesteenweg', 'Bierbeekstraat', 'Naamsesteenweg', 'Broekstraat', 'Leopold Decouxlaan', 'Generaal Lemanstraat', 'Borstelsstraat', 'Holsbeeksesteenweg', 'Amerikalaan', 'Abdijstraat', 'Watervloedstraat', 'Heidebergstraat', 'Diestsesteenweg', 'Leeuwerikenstraat', 'Pater Perquylaan', 'DesirÃ© Mellaertsstraat', 'Leuvensesteenweg', 'Losting', 'Van Rodestraat', 'Sluisstraat', 'Ketelmakerij', 'Dellenhof', 'Tervuursesteenweg', 'Emile Mathieustraat', 'Jean Baptiste Van Monsstraat', 'Langendaallaan', 'RenÃ© Verbeeckstraat', 'Stadionlaan', 'Naamsesteenweg', 'Philipslaan', 'Waversebaan', 'Dagobertstraat', 'Gemeentestraat', 'Brouwersstraat', 'Biezenstraat', 'LÃ©on Schreursvest', 'Kapucijnenvoer', 'Albrecht Rodenbachstraat', 'Verenigingstraat', 'Bergstraat', 'Wijnbergenstraat', 'Arthur De Greefstraat', 'Schapenstraat', 'Koningin Astridlaan', 'Parkstraat', \"'s-Hertogenlaan\", 'Bornestraat', 'Martelarenlaan', 'Gebroeders Tassetstraat', 'Sint-Geertruiabdij', 'Groenveldstraat', 'Korbeek-losestraat', 'Borstelsstraat', 'Geldenaaksebaan', 'Grensstraat', 'Rietgors', 'RenÃ© Eversstraat', 'Romeinse Ring', 'Gezusters Gregoirestraat', 'Kapucijnenvoer', 'Eugeen Vanhoorenbekelaan', 'Tervuursesteenweg', 'Tervuursevest', 'Holsbeeksesteenweg', 'Ridderstraat', 'Pleinstraat', 'De Herk', 'Celestijnenlaan', 'Broekstraat', 'Holsbeeksesteenweg', 'Hoegaardsestraat', 'Ernest Solvaystraat', 'Ernest Solvaystraat', 'Wijgmaalsesteenweg', 'Kiezelstraat', 'Grensstraat', 'Huttelaan', 'Grensstraat', 'Dorpstraat', 'Pasteelsblokweg', 'Groefstraat', 'Jean-Baptiste Van Monsstraat', 'Mechelsesteenweg', 'Prinses Lydialaan', 'Lenneke Mare', 'Van Rodestraat']\n"
     ]
    }
   ],
   "source": [
    "street = fields['STREET']\n",
    "print(street)"
   ]
  },
  {
   "cell_type": "code",
   "execution_count": null,
   "metadata": {},
   "outputs": [],
   "source": []
  }
 ],
 "metadata": {
  "kernelspec": {
   "display_name": "Python 3",
   "language": "python",
   "name": "python3"
  },
  "language_info": {
   "codemirror_mode": {
    "name": "ipython",
    "version": 3
   },
   "file_extension": ".py",
   "mimetype": "text/x-python",
   "name": "python",
   "nbconvert_exporter": "python",
   "pygments_lexer": "ipython3",
   "version": "3.7.4"
  }
 },
 "nbformat": 4,
 "nbformat_minor": 2
}
