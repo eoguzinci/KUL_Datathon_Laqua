{
 "cells": [
  {
   "cell_type": "code",
   "execution_count": 1,
   "metadata": {},
   "outputs": [],
   "source": [
    "# imports\n",
    "import json\n",
    "import pandas as pd\n",
    "import numpy as np\n",
    "from matplotlib import pyplot as plt"
   ]
  },
  {
   "cell_type": "code",
   "execution_count": 2,
   "metadata": {},
   "outputs": [
    {
     "name": "stdout",
     "output_type": "stream",
     "text": [
      "All variable names are : ['DATEUTC', 'LAT', 'LON', 'SDS011ID', 'PM2.5', 'PM10', 'DHTID', 'TEMPERATURE', 'HUMIDITY', 'OBSID']\n"
     ]
    }
   ],
   "source": [
    "# Get all the variable names\n",
    "varname = list(pd.read_csv('LEUVENAIRfulldump2019.csv', skiprows=0, nrows = 0, usecols = None).columns)\n",
    "print('All variable names are :', varname)\n",
    "print('SDS011 sensor measures PM2.5 and PM10.')\n",
    "print('DHT sensor measures tempretaure and humidity.')"
   ]
  },
  {
   "cell_type": "code",
   "execution_count": 3,
   "metadata": {},
   "outputs": [],
   "source": [
    "# SDS011 sensor measures PM2.5 and PM10.\n",
    "# DHT sensor measures tempretaure and humidity.\n",
    "\n",
    "# Note: The PM2.5 measurements of the SDS011 sensor are much more reliable than the PM10 measurements.\n",
    "# For long-term analyses, stick to the PM2.5 measurements. PM10 measurement can be used for peak detection only.\n",
    "# The sensor will overestimate the PM concentration in humid conditions (relative humidty RH > ~75%) and will\n",
    "# understimate the PM concentrations in dry conditions (RH < ~50%).\n",
    "\n",
    "# Note: The measurements of the DHT sensor (temperature + humidty) are not so realiable. Try to use an external\n",
    "# source for temperature and relative humidity."
   ]
  },
  {
   "cell_type": "code",
   "execution_count": 4,
   "metadata": {},
   "outputs": [],
   "source": [
    "dframe = pd.read_csv('LEUVENAIRfulldump2019.csv', skiprows=0, nrows = None, usecols = ['SDS011ID','DHTID'])\n",
    "sensor_ids = dframe.values"
   ]
  },
  {
   "cell_type": "code",
   "execution_count": 5,
   "metadata": {},
   "outputs": [
    {
     "name": "stdout",
     "output_type": "stream",
     "text": [
      "Number of records =  (13984608, 2)\n"
     ]
    }
   ],
   "source": [
    "print('Number of records = ',sensor_ids.shape)"
   ]
  },
  {
   "cell_type": "code",
   "execution_count": 6,
   "metadata": {},
   "outputs": [],
   "source": [
    "SDS011_unique_id = np.unique(sensor_ids[:,0]);"
   ]
  },
  {
   "cell_type": "code",
   "execution_count": 7,
   "metadata": {},
   "outputs": [
    {
     "data": {
      "text/plain": [
       "(91,)"
      ]
     },
     "execution_count": 7,
     "metadata": {},
     "output_type": "execute_result"
    }
   ],
   "source": [
    "SDS011_unique_id.shape"
   ]
  }
 ],
 "metadata": {
  "kernelspec": {
   "display_name": "Python 3",
   "language": "python",
   "name": "python3"
  },
  "language_info": {
   "codemirror_mode": {
    "name": "ipython",
    "version": 3
   },
   "file_extension": ".py",
   "mimetype": "text/x-python",
   "name": "python",
   "nbconvert_exporter": "python",
   "pygments_lexer": "ipython3",
   "version": "3.7.4"
  }
 },
 "nbformat": 4,
 "nbformat_minor": 2
}
